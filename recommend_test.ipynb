{
  "nbformat": 4,
  "nbformat_minor": 0,
  "metadata": {
    "colab": {
      "name": "recommend_test.ipynb",
      "provenance": [],
      "mount_file_id": "1X_lpREaX-OfkdDEUSYvYqkp6geb42HBm",
      "authorship_tag": "ABX9TyPdghQWtUBBE3CAm0clM57b",
      "include_colab_link": true
    },
    "kernelspec": {
      "name": "python3",
      "display_name": "Python 3"
    },
    "language_info": {
      "name": "python"
    }
  },
  "cells": [
    {
      "cell_type": "markdown",
      "metadata": {
        "id": "view-in-github",
        "colab_type": "text"
      },
      "source": [
        "<a href=\"https://colab.research.google.com/github/Senoirpro/Product-recommendation-for-e-commerce/blob/main/recommend_test.ipynb\" target=\"_parent\"><img src=\"https://colab.research.google.com/assets/colab-badge.svg\" alt=\"Open In Colab\"/></a>"
      ]
    },
    {
      "cell_type": "code",
      "source": [
        "import numpy as np\n",
        "import pandas as pd\n",
        "import matplotlib.pyplot as plt\n",
        "\n",
        "# %matplotlib inline\n",
        "plt.style.use(\"ggplot\")\n",
        "\n",
        "import sklearn\n",
        "from sklearn.decomposition import TruncatedSVD"
      ],
      "metadata": {
        "id": "htaP3jTQ0JDm"
      },
      "execution_count": null,
      "outputs": []
    },
    {
      "cell_type": "code",
      "execution_count": null,
      "metadata": {
        "id": "wA8_fc6mxZd9"
      },
      "outputs": [],
      "source": [
        "import pandas as pd\n",
        "df = pd.read_csv('drive/MyDrive/Dataset/DatafinitiElectronicsProductData.csv')"
      ]
    },
    {
      "cell_type": "code",
      "source": [
        "df1 = df.dropna()\n",
        "df1.shape"
      ],
      "metadata": {
        "colab": {
          "base_uri": "https://localhost:8080/"
        },
        "id": "J84kwmgix6sc",
        "outputId": "ccb8d030-46a2-4baa-c1c5-028a975ad084"
      },
      "execution_count": null,
      "outputs": [
        {
          "output_type": "execute_result",
          "data": {
            "text/plain": [
              "(1733, 27)"
            ]
          },
          "metadata": {},
          "execution_count": 2
        }
      ]
    },
    {
      "cell_type": "code",
      "source": [
        "df1.head()"
      ],
      "metadata": {
        "colab": {
          "base_uri": "https://localhost:8080/",
          "height": 560
        },
        "id": "48dvbXUTx-hV",
        "outputId": "3b490078-c395-4e64-973b-3a531fba4558"
      },
      "execution_count": null,
      "outputs": [
        {
          "output_type": "execute_result",
          "data": {
            "text/plain": [
              "                     id       asins      brand  \\\n",
              "0  AVpf3txeLJeJML43FN82  B0168YIWSI  Microsoft   \n",
              "1  AVpf3txeLJeJML43FN82  B0168YIWSI  Microsoft   \n",
              "2  AVpf3txeLJeJML43FN82  B0168YIWSI  Microsoft   \n",
              "3  AVpf3txeLJeJML43FN82  B0168YIWSI  Microsoft   \n",
              "4  AVpf3txeLJeJML43FN82  B0168YIWSI  Microsoft   \n",
              "\n",
              "                                          categories colors  \\\n",
              "0  Electronics,Computers,Computer Accessories,Key...  Black   \n",
              "1  Electronics,Computers,Computer Accessories,Key...  Black   \n",
              "2  Electronics,Computers,Computer Accessories,Key...  Black   \n",
              "3  Electronics,Computers,Computer Accessories,Key...  Black   \n",
              "4  Electronics,Computers,Computer Accessories,Key...  Black   \n",
              "\n",
              "              dateAdded           dateUpdated                   dimension  \\\n",
              "0  2015-11-13T12:28:09Z  2018-01-29T02:15:13Z  11.6 in x 8.5 in x 0.19 in   \n",
              "1  2015-11-13T12:28:09Z  2018-01-29T02:15:13Z  11.6 in x 8.5 in x 0.19 in   \n",
              "2  2015-11-13T12:28:09Z  2018-01-29T02:15:13Z  11.6 in x 8.5 in x 0.19 in   \n",
              "3  2015-11-13T12:28:09Z  2018-01-29T02:15:13Z  11.6 in x 8.5 in x 0.19 in   \n",
              "4  2015-11-13T12:28:09Z  2018-01-29T02:15:13Z  11.6 in x 8.5 in x 0.19 in   \n",
              "\n",
              "            ean                                          imageURLs  ...  \\\n",
              "0  8.900000e+11  https://i5.walmartimages.com/asr/2a41f6f0-844e...  ...   \n",
              "1  8.900000e+11  https://i5.walmartimages.com/asr/2a41f6f0-844e...  ...   \n",
              "2  8.900000e+11  https://i5.walmartimages.com/asr/2a41f6f0-844e...  ...   \n",
              "3  8.900000e+11  https://i5.walmartimages.com/asr/2a41f6f0-844e...  ...   \n",
              "4  8.900000e+11  https://i5.walmartimages.com/asr/2a41f6f0-844e...  ...   \n",
              "\n",
              "  reviews.doRecommend reviews.numHelpful reviews.rating  \\\n",
              "0                True                0.0            5.0   \n",
              "1                True                0.0            4.0   \n",
              "2                True                0.0            4.0   \n",
              "3                True                0.0            5.0   \n",
              "4                True                0.0            5.0   \n",
              "\n",
              "                                  reviews.sourceURLs  \\\n",
              "0  http://reviews.bestbuy.com/3545/4562009/review...   \n",
              "1  http://reviews.bestbuy.com/3545/4562009/review...   \n",
              "2  http://reviews.bestbuy.com/3545/4562009/review...   \n",
              "3  http://reviews.bestbuy.com/3545/4562009/review...   \n",
              "4  http://reviews.bestbuy.com/3545/4562009/review...   \n",
              "\n",
              "                                        reviews.text  \\\n",
              "0  This keyboard is very easy to type on, but the...   \n",
              "1  It's thin and light. I can type pretty easily ...   \n",
              "2  I love the new design the keys are spaced well...   \n",
              "3  Attached easily and firmly. Has a nice feel. A...   \n",
              "4  Our original keyboard was okay, but did not ha...   \n",
              "\n",
              "                 reviews.title reviews.username  \\\n",
              "0  Love the fingerprint reader             JNH1   \n",
              "1                         Nice             Appa   \n",
              "2                          New             Kman   \n",
              "3                Nice keyboard        UpstateNY   \n",
              "4             Nice improvement        Glickster   \n",
              "\n",
              "                                          sourceURLs           upc      weight  \n",
              "0  https://www.walmart.com/ip/Microsoft-Surface-P...  8.900000e+11  1.1 pounds  \n",
              "1  https://www.walmart.com/ip/Microsoft-Surface-P...  8.900000e+11  1.1 pounds  \n",
              "2  https://www.walmart.com/ip/Microsoft-Surface-P...  8.900000e+11  1.1 pounds  \n",
              "3  https://www.walmart.com/ip/Microsoft-Surface-P...  8.900000e+11  1.1 pounds  \n",
              "4  https://www.walmart.com/ip/Microsoft-Surface-P...  8.900000e+11  1.1 pounds  \n",
              "\n",
              "[5 rows x 27 columns]"
            ],
            "text/html": [
              "\n",
              "  <div id=\"df-ec8d2d51-203c-43b4-8c6f-21baa2b4adb1\">\n",
              "    <div class=\"colab-df-container\">\n",
              "      <div>\n",
              "<style scoped>\n",
              "    .dataframe tbody tr th:only-of-type {\n",
              "        vertical-align: middle;\n",
              "    }\n",
              "\n",
              "    .dataframe tbody tr th {\n",
              "        vertical-align: top;\n",
              "    }\n",
              "\n",
              "    .dataframe thead th {\n",
              "        text-align: right;\n",
              "    }\n",
              "</style>\n",
              "<table border=\"1\" class=\"dataframe\">\n",
              "  <thead>\n",
              "    <tr style=\"text-align: right;\">\n",
              "      <th></th>\n",
              "      <th>id</th>\n",
              "      <th>asins</th>\n",
              "      <th>brand</th>\n",
              "      <th>categories</th>\n",
              "      <th>colors</th>\n",
              "      <th>dateAdded</th>\n",
              "      <th>dateUpdated</th>\n",
              "      <th>dimension</th>\n",
              "      <th>ean</th>\n",
              "      <th>imageURLs</th>\n",
              "      <th>...</th>\n",
              "      <th>reviews.doRecommend</th>\n",
              "      <th>reviews.numHelpful</th>\n",
              "      <th>reviews.rating</th>\n",
              "      <th>reviews.sourceURLs</th>\n",
              "      <th>reviews.text</th>\n",
              "      <th>reviews.title</th>\n",
              "      <th>reviews.username</th>\n",
              "      <th>sourceURLs</th>\n",
              "      <th>upc</th>\n",
              "      <th>weight</th>\n",
              "    </tr>\n",
              "  </thead>\n",
              "  <tbody>\n",
              "    <tr>\n",
              "      <th>0</th>\n",
              "      <td>AVpf3txeLJeJML43FN82</td>\n",
              "      <td>B0168YIWSI</td>\n",
              "      <td>Microsoft</td>\n",
              "      <td>Electronics,Computers,Computer Accessories,Key...</td>\n",
              "      <td>Black</td>\n",
              "      <td>2015-11-13T12:28:09Z</td>\n",
              "      <td>2018-01-29T02:15:13Z</td>\n",
              "      <td>11.6 in x 8.5 in x 0.19 in</td>\n",
              "      <td>8.900000e+11</td>\n",
              "      <td>https://i5.walmartimages.com/asr/2a41f6f0-844e...</td>\n",
              "      <td>...</td>\n",
              "      <td>True</td>\n",
              "      <td>0.0</td>\n",
              "      <td>5.0</td>\n",
              "      <td>http://reviews.bestbuy.com/3545/4562009/review...</td>\n",
              "      <td>This keyboard is very easy to type on, but the...</td>\n",
              "      <td>Love the fingerprint reader</td>\n",
              "      <td>JNH1</td>\n",
              "      <td>https://www.walmart.com/ip/Microsoft-Surface-P...</td>\n",
              "      <td>8.900000e+11</td>\n",
              "      <td>1.1 pounds</td>\n",
              "    </tr>\n",
              "    <tr>\n",
              "      <th>1</th>\n",
              "      <td>AVpf3txeLJeJML43FN82</td>\n",
              "      <td>B0168YIWSI</td>\n",
              "      <td>Microsoft</td>\n",
              "      <td>Electronics,Computers,Computer Accessories,Key...</td>\n",
              "      <td>Black</td>\n",
              "      <td>2015-11-13T12:28:09Z</td>\n",
              "      <td>2018-01-29T02:15:13Z</td>\n",
              "      <td>11.6 in x 8.5 in x 0.19 in</td>\n",
              "      <td>8.900000e+11</td>\n",
              "      <td>https://i5.walmartimages.com/asr/2a41f6f0-844e...</td>\n",
              "      <td>...</td>\n",
              "      <td>True</td>\n",
              "      <td>0.0</td>\n",
              "      <td>4.0</td>\n",
              "      <td>http://reviews.bestbuy.com/3545/4562009/review...</td>\n",
              "      <td>It's thin and light. I can type pretty easily ...</td>\n",
              "      <td>Nice</td>\n",
              "      <td>Appa</td>\n",
              "      <td>https://www.walmart.com/ip/Microsoft-Surface-P...</td>\n",
              "      <td>8.900000e+11</td>\n",
              "      <td>1.1 pounds</td>\n",
              "    </tr>\n",
              "    <tr>\n",
              "      <th>2</th>\n",
              "      <td>AVpf3txeLJeJML43FN82</td>\n",
              "      <td>B0168YIWSI</td>\n",
              "      <td>Microsoft</td>\n",
              "      <td>Electronics,Computers,Computer Accessories,Key...</td>\n",
              "      <td>Black</td>\n",
              "      <td>2015-11-13T12:28:09Z</td>\n",
              "      <td>2018-01-29T02:15:13Z</td>\n",
              "      <td>11.6 in x 8.5 in x 0.19 in</td>\n",
              "      <td>8.900000e+11</td>\n",
              "      <td>https://i5.walmartimages.com/asr/2a41f6f0-844e...</td>\n",
              "      <td>...</td>\n",
              "      <td>True</td>\n",
              "      <td>0.0</td>\n",
              "      <td>4.0</td>\n",
              "      <td>http://reviews.bestbuy.com/3545/4562009/review...</td>\n",
              "      <td>I love the new design the keys are spaced well...</td>\n",
              "      <td>New</td>\n",
              "      <td>Kman</td>\n",
              "      <td>https://www.walmart.com/ip/Microsoft-Surface-P...</td>\n",
              "      <td>8.900000e+11</td>\n",
              "      <td>1.1 pounds</td>\n",
              "    </tr>\n",
              "    <tr>\n",
              "      <th>3</th>\n",
              "      <td>AVpf3txeLJeJML43FN82</td>\n",
              "      <td>B0168YIWSI</td>\n",
              "      <td>Microsoft</td>\n",
              "      <td>Electronics,Computers,Computer Accessories,Key...</td>\n",
              "      <td>Black</td>\n",
              "      <td>2015-11-13T12:28:09Z</td>\n",
              "      <td>2018-01-29T02:15:13Z</td>\n",
              "      <td>11.6 in x 8.5 in x 0.19 in</td>\n",
              "      <td>8.900000e+11</td>\n",
              "      <td>https://i5.walmartimages.com/asr/2a41f6f0-844e...</td>\n",
              "      <td>...</td>\n",
              "      <td>True</td>\n",
              "      <td>0.0</td>\n",
              "      <td>5.0</td>\n",
              "      <td>http://reviews.bestbuy.com/3545/4562009/review...</td>\n",
              "      <td>Attached easily and firmly. Has a nice feel. A...</td>\n",
              "      <td>Nice keyboard</td>\n",
              "      <td>UpstateNY</td>\n",
              "      <td>https://www.walmart.com/ip/Microsoft-Surface-P...</td>\n",
              "      <td>8.900000e+11</td>\n",
              "      <td>1.1 pounds</td>\n",
              "    </tr>\n",
              "    <tr>\n",
              "      <th>4</th>\n",
              "      <td>AVpf3txeLJeJML43FN82</td>\n",
              "      <td>B0168YIWSI</td>\n",
              "      <td>Microsoft</td>\n",
              "      <td>Electronics,Computers,Computer Accessories,Key...</td>\n",
              "      <td>Black</td>\n",
              "      <td>2015-11-13T12:28:09Z</td>\n",
              "      <td>2018-01-29T02:15:13Z</td>\n",
              "      <td>11.6 in x 8.5 in x 0.19 in</td>\n",
              "      <td>8.900000e+11</td>\n",
              "      <td>https://i5.walmartimages.com/asr/2a41f6f0-844e...</td>\n",
              "      <td>...</td>\n",
              "      <td>True</td>\n",
              "      <td>0.0</td>\n",
              "      <td>5.0</td>\n",
              "      <td>http://reviews.bestbuy.com/3545/4562009/review...</td>\n",
              "      <td>Our original keyboard was okay, but did not ha...</td>\n",
              "      <td>Nice improvement</td>\n",
              "      <td>Glickster</td>\n",
              "      <td>https://www.walmart.com/ip/Microsoft-Surface-P...</td>\n",
              "      <td>8.900000e+11</td>\n",
              "      <td>1.1 pounds</td>\n",
              "    </tr>\n",
              "  </tbody>\n",
              "</table>\n",
              "<p>5 rows × 27 columns</p>\n",
              "</div>\n",
              "      <button class=\"colab-df-convert\" onclick=\"convertToInteractive('df-ec8d2d51-203c-43b4-8c6f-21baa2b4adb1')\"\n",
              "              title=\"Convert this dataframe to an interactive table.\"\n",
              "              style=\"display:none;\">\n",
              "        \n",
              "  <svg xmlns=\"http://www.w3.org/2000/svg\" height=\"24px\"viewBox=\"0 0 24 24\"\n",
              "       width=\"24px\">\n",
              "    <path d=\"M0 0h24v24H0V0z\" fill=\"none\"/>\n",
              "    <path d=\"M18.56 5.44l.94 2.06.94-2.06 2.06-.94-2.06-.94-.94-2.06-.94 2.06-2.06.94zm-11 1L8.5 8.5l.94-2.06 2.06-.94-2.06-.94L8.5 2.5l-.94 2.06-2.06.94zm10 10l.94 2.06.94-2.06 2.06-.94-2.06-.94-.94-2.06-.94 2.06-2.06.94z\"/><path d=\"M17.41 7.96l-1.37-1.37c-.4-.4-.92-.59-1.43-.59-.52 0-1.04.2-1.43.59L10.3 9.45l-7.72 7.72c-.78.78-.78 2.05 0 2.83L4 21.41c.39.39.9.59 1.41.59.51 0 1.02-.2 1.41-.59l7.78-7.78 2.81-2.81c.8-.78.8-2.07 0-2.86zM5.41 20L4 18.59l7.72-7.72 1.47 1.35L5.41 20z\"/>\n",
              "  </svg>\n",
              "      </button>\n",
              "      \n",
              "  <style>\n",
              "    .colab-df-container {\n",
              "      display:flex;\n",
              "      flex-wrap:wrap;\n",
              "      gap: 12px;\n",
              "    }\n",
              "\n",
              "    .colab-df-convert {\n",
              "      background-color: #E8F0FE;\n",
              "      border: none;\n",
              "      border-radius: 50%;\n",
              "      cursor: pointer;\n",
              "      display: none;\n",
              "      fill: #1967D2;\n",
              "      height: 32px;\n",
              "      padding: 0 0 0 0;\n",
              "      width: 32px;\n",
              "    }\n",
              "\n",
              "    .colab-df-convert:hover {\n",
              "      background-color: #E2EBFA;\n",
              "      box-shadow: 0px 1px 2px rgba(60, 64, 67, 0.3), 0px 1px 3px 1px rgba(60, 64, 67, 0.15);\n",
              "      fill: #174EA6;\n",
              "    }\n",
              "\n",
              "    [theme=dark] .colab-df-convert {\n",
              "      background-color: #3B4455;\n",
              "      fill: #D2E3FC;\n",
              "    }\n",
              "\n",
              "    [theme=dark] .colab-df-convert:hover {\n",
              "      background-color: #434B5C;\n",
              "      box-shadow: 0px 1px 3px 1px rgba(0, 0, 0, 0.15);\n",
              "      filter: drop-shadow(0px 1px 2px rgba(0, 0, 0, 0.3));\n",
              "      fill: #FFFFFF;\n",
              "    }\n",
              "  </style>\n",
              "\n",
              "      <script>\n",
              "        const buttonEl =\n",
              "          document.querySelector('#df-ec8d2d51-203c-43b4-8c6f-21baa2b4adb1 button.colab-df-convert');\n",
              "        buttonEl.style.display =\n",
              "          google.colab.kernel.accessAllowed ? 'block' : 'none';\n",
              "\n",
              "        async function convertToInteractive(key) {\n",
              "          const element = document.querySelector('#df-ec8d2d51-203c-43b4-8c6f-21baa2b4adb1');\n",
              "          const dataTable =\n",
              "            await google.colab.kernel.invokeFunction('convertToInteractive',\n",
              "                                                     [key], {});\n",
              "          if (!dataTable) return;\n",
              "\n",
              "          const docLinkHtml = 'Like what you see? Visit the ' +\n",
              "            '<a target=\"_blank\" href=https://colab.research.google.com/notebooks/data_table.ipynb>data table notebook</a>'\n",
              "            + ' to learn more about interactive tables.';\n",
              "          element.innerHTML = '';\n",
              "          dataTable['output_type'] = 'display_data';\n",
              "          await google.colab.output.renderOutput(dataTable, element);\n",
              "          const docLink = document.createElement('div');\n",
              "          docLink.innerHTML = docLinkHtml;\n",
              "          element.appendChild(docLink);\n",
              "        }\n",
              "      </script>\n",
              "    </div>\n",
              "  </div>\n",
              "  "
            ]
          },
          "metadata": {},
          "execution_count": 5
        }
      ]
    },
    {
      "cell_type": "code",
      "source": [
        "df1.columns"
      ],
      "metadata": {
        "colab": {
          "base_uri": "https://localhost:8080/"
        },
        "id": "FVDfXI_AybSx",
        "outputId": "ce7dab9f-6f89-442e-e88f-12ed42434529"
      },
      "execution_count": null,
      "outputs": [
        {
          "output_type": "execute_result",
          "data": {
            "text/plain": [
              "Index(['id', 'asins', 'brand', 'categories', 'colors', 'dateAdded',\n",
              "       'dateUpdated', 'dimension', 'ean', 'imageURLs', 'keys', 'manufacturer',\n",
              "       'manufacturerNumber', 'name', 'primaryCategories', 'reviews.date',\n",
              "       'reviews.dateSeen', 'reviews.doRecommend', 'reviews.numHelpful',\n",
              "       'reviews.rating', 'reviews.sourceURLs', 'reviews.text', 'reviews.title',\n",
              "       'reviews.username', 'sourceURLs', 'upc', 'weight'],\n",
              "      dtype='object')"
            ]
          },
          "metadata": {},
          "execution_count": 6
        }
      ]
    },
    {
      "cell_type": "code",
      "source": [
        "df2 = df1.drop(columns=[ 'id', 'asins', 'brand', 'categories', 'colors', 'dateAdded',\n",
        "       'dateUpdated', 'dimension', 'ean', 'imageURLs', 'keys', 'manufacturer',\n",
        "       'manufacturerNumber', 'primaryCategories', 'reviews.date',\n",
        "       'reviews.dateSeen', 'reviews.doRecommend', 'reviews.numHelpful','reviews.sourceURLs', 'reviews.text', 'reviews.title',\n",
        "        'sourceURLs', 'upc', 'weight'])"
      ],
      "metadata": {
        "id": "T8OjU1eqyoJd"
      },
      "execution_count": null,
      "outputs": []
    },
    {
      "cell_type": "code",
      "source": [
        "df2.head()"
      ],
      "metadata": {
        "colab": {
          "base_uri": "https://localhost:8080/",
          "height": 206
        },
        "id": "uoeP4cYtzAp3",
        "outputId": "0d2c7fb4-220e-4f65-fed7-a1e0ae0660c4"
      },
      "execution_count": null,
      "outputs": [
        {
          "output_type": "execute_result",
          "data": {
            "text/plain": [
              "                                                name  reviews.rating  \\\n",
              "0  Microsoft Surface Pro 4 Type Cover with Finger...             5.0   \n",
              "1  Microsoft Surface Pro 4 Type Cover with Finger...             4.0   \n",
              "2  Microsoft Surface Pro 4 Type Cover with Finger...             4.0   \n",
              "3  Microsoft Surface Pro 4 Type Cover with Finger...             5.0   \n",
              "4  Microsoft Surface Pro 4 Type Cover with Finger...             5.0   \n",
              "\n",
              "  reviews.username  \n",
              "0             JNH1  \n",
              "1             Appa  \n",
              "2             Kman  \n",
              "3        UpstateNY  \n",
              "4        Glickster  "
            ],
            "text/html": [
              "\n",
              "  <div id=\"df-ee92e7d1-fc58-4fb0-a400-2810320c981a\">\n",
              "    <div class=\"colab-df-container\">\n",
              "      <div>\n",
              "<style scoped>\n",
              "    .dataframe tbody tr th:only-of-type {\n",
              "        vertical-align: middle;\n",
              "    }\n",
              "\n",
              "    .dataframe tbody tr th {\n",
              "        vertical-align: top;\n",
              "    }\n",
              "\n",
              "    .dataframe thead th {\n",
              "        text-align: right;\n",
              "    }\n",
              "</style>\n",
              "<table border=\"1\" class=\"dataframe\">\n",
              "  <thead>\n",
              "    <tr style=\"text-align: right;\">\n",
              "      <th></th>\n",
              "      <th>name</th>\n",
              "      <th>reviews.rating</th>\n",
              "      <th>reviews.username</th>\n",
              "    </tr>\n",
              "  </thead>\n",
              "  <tbody>\n",
              "    <tr>\n",
              "      <th>0</th>\n",
              "      <td>Microsoft Surface Pro 4 Type Cover with Finger...</td>\n",
              "      <td>5.0</td>\n",
              "      <td>JNH1</td>\n",
              "    </tr>\n",
              "    <tr>\n",
              "      <th>1</th>\n",
              "      <td>Microsoft Surface Pro 4 Type Cover with Finger...</td>\n",
              "      <td>4.0</td>\n",
              "      <td>Appa</td>\n",
              "    </tr>\n",
              "    <tr>\n",
              "      <th>2</th>\n",
              "      <td>Microsoft Surface Pro 4 Type Cover with Finger...</td>\n",
              "      <td>4.0</td>\n",
              "      <td>Kman</td>\n",
              "    </tr>\n",
              "    <tr>\n",
              "      <th>3</th>\n",
              "      <td>Microsoft Surface Pro 4 Type Cover with Finger...</td>\n",
              "      <td>5.0</td>\n",
              "      <td>UpstateNY</td>\n",
              "    </tr>\n",
              "    <tr>\n",
              "      <th>4</th>\n",
              "      <td>Microsoft Surface Pro 4 Type Cover with Finger...</td>\n",
              "      <td>5.0</td>\n",
              "      <td>Glickster</td>\n",
              "    </tr>\n",
              "  </tbody>\n",
              "</table>\n",
              "</div>\n",
              "      <button class=\"colab-df-convert\" onclick=\"convertToInteractive('df-ee92e7d1-fc58-4fb0-a400-2810320c981a')\"\n",
              "              title=\"Convert this dataframe to an interactive table.\"\n",
              "              style=\"display:none;\">\n",
              "        \n",
              "  <svg xmlns=\"http://www.w3.org/2000/svg\" height=\"24px\"viewBox=\"0 0 24 24\"\n",
              "       width=\"24px\">\n",
              "    <path d=\"M0 0h24v24H0V0z\" fill=\"none\"/>\n",
              "    <path d=\"M18.56 5.44l.94 2.06.94-2.06 2.06-.94-2.06-.94-.94-2.06-.94 2.06-2.06.94zm-11 1L8.5 8.5l.94-2.06 2.06-.94-2.06-.94L8.5 2.5l-.94 2.06-2.06.94zm10 10l.94 2.06.94-2.06 2.06-.94-2.06-.94-.94-2.06-.94 2.06-2.06.94z\"/><path d=\"M17.41 7.96l-1.37-1.37c-.4-.4-.92-.59-1.43-.59-.52 0-1.04.2-1.43.59L10.3 9.45l-7.72 7.72c-.78.78-.78 2.05 0 2.83L4 21.41c.39.39.9.59 1.41.59.51 0 1.02-.2 1.41-.59l7.78-7.78 2.81-2.81c.8-.78.8-2.07 0-2.86zM5.41 20L4 18.59l7.72-7.72 1.47 1.35L5.41 20z\"/>\n",
              "  </svg>\n",
              "      </button>\n",
              "      \n",
              "  <style>\n",
              "    .colab-df-container {\n",
              "      display:flex;\n",
              "      flex-wrap:wrap;\n",
              "      gap: 12px;\n",
              "    }\n",
              "\n",
              "    .colab-df-convert {\n",
              "      background-color: #E8F0FE;\n",
              "      border: none;\n",
              "      border-radius: 50%;\n",
              "      cursor: pointer;\n",
              "      display: none;\n",
              "      fill: #1967D2;\n",
              "      height: 32px;\n",
              "      padding: 0 0 0 0;\n",
              "      width: 32px;\n",
              "    }\n",
              "\n",
              "    .colab-df-convert:hover {\n",
              "      background-color: #E2EBFA;\n",
              "      box-shadow: 0px 1px 2px rgba(60, 64, 67, 0.3), 0px 1px 3px 1px rgba(60, 64, 67, 0.15);\n",
              "      fill: #174EA6;\n",
              "    }\n",
              "\n",
              "    [theme=dark] .colab-df-convert {\n",
              "      background-color: #3B4455;\n",
              "      fill: #D2E3FC;\n",
              "    }\n",
              "\n",
              "    [theme=dark] .colab-df-convert:hover {\n",
              "      background-color: #434B5C;\n",
              "      box-shadow: 0px 1px 3px 1px rgba(0, 0, 0, 0.15);\n",
              "      filter: drop-shadow(0px 1px 2px rgba(0, 0, 0, 0.3));\n",
              "      fill: #FFFFFF;\n",
              "    }\n",
              "  </style>\n",
              "\n",
              "      <script>\n",
              "        const buttonEl =\n",
              "          document.querySelector('#df-ee92e7d1-fc58-4fb0-a400-2810320c981a button.colab-df-convert');\n",
              "        buttonEl.style.display =\n",
              "          google.colab.kernel.accessAllowed ? 'block' : 'none';\n",
              "\n",
              "        async function convertToInteractive(key) {\n",
              "          const element = document.querySelector('#df-ee92e7d1-fc58-4fb0-a400-2810320c981a');\n",
              "          const dataTable =\n",
              "            await google.colab.kernel.invokeFunction('convertToInteractive',\n",
              "                                                     [key], {});\n",
              "          if (!dataTable) return;\n",
              "\n",
              "          const docLinkHtml = 'Like what you see? Visit the ' +\n",
              "            '<a target=\"_blank\" href=https://colab.research.google.com/notebooks/data_table.ipynb>data table notebook</a>'\n",
              "            + ' to learn more about interactive tables.';\n",
              "          element.innerHTML = '';\n",
              "          dataTable['output_type'] = 'display_data';\n",
              "          await google.colab.output.renderOutput(dataTable, element);\n",
              "          const docLink = document.createElement('div');\n",
              "          docLink.innerHTML = docLinkHtml;\n",
              "          element.appendChild(docLink);\n",
              "        }\n",
              "      </script>\n",
              "    </div>\n",
              "  </div>\n",
              "  "
            ]
          },
          "metadata": {},
          "execution_count": 31
        }
      ]
    },
    {
      "cell_type": "code",
      "source": [
        "df2['reviews.username'].unique().shape"
      ],
      "metadata": {
        "colab": {
          "base_uri": "https://localhost:8080/"
        },
        "id": "J3Ub1JDi0wmp",
        "outputId": "da050755-9da8-44f5-b7fb-8253636f9e5d"
      },
      "execution_count": null,
      "outputs": [
        {
          "output_type": "execute_result",
          "data": {
            "text/plain": [
              "(1616,)"
            ]
          },
          "metadata": {},
          "execution_count": 32
        }
      ]
    },
    {
      "cell_type": "code",
      "source": [
        "df2['name'].unique()"
      ],
      "metadata": {
        "colab": {
          "base_uri": "https://localhost:8080/"
        },
        "id": "YiNdsBPLyJOq",
        "outputId": "b2af5344-a881-4f71-80b1-ac9f1afaecf1"
      },
      "execution_count": null,
      "outputs": [
        {
          "output_type": "execute_result",
          "data": {
            "text/plain": [
              "array(['Microsoft Surface Pro 4 Type Cover with Fingerprint ID', 'Alpine',\n",
              "       'NS-SP1800BL 5.1-Channel Home Theater System (Black)',\n",
              "       'Motorola Wi-Fi Pet Video Camera',\n",
              "       'AW6500 All-Weather Outdoor Speaker (White, Single)',\n",
              "       'Logitech 915-000224  Harmony Ultimate One 15-Device Universal Infrared Remote with Customizable Touch Screen Control - Black'],\n",
              "      dtype=object)"
            ]
          },
          "metadata": {},
          "execution_count": 33
        }
      ]
    },
    {
      "cell_type": "code",
      "source": [
        "df2['name'].unique().shape"
      ],
      "metadata": {
        "colab": {
          "base_uri": "https://localhost:8080/"
        },
        "id": "NhAIm9gOzIN6",
        "outputId": "08f902f6-4a92-4ae5-fa55-c2ef89085d45"
      },
      "execution_count": null,
      "outputs": [
        {
          "output_type": "execute_result",
          "data": {
            "text/plain": [
              "(6,)"
            ]
          },
          "metadata": {},
          "execution_count": 34
        }
      ]
    },
    {
      "cell_type": "code",
      "source": [
        "popular_products = pd.DataFrame(df2.groupby('name')['reviews.rating'].count())\n",
        "most_popular = popular_products.sort_values('reviews.rating', ascending=False)\n",
        "most_popular.head(10)"
      ],
      "metadata": {
        "colab": {
          "base_uri": "https://localhost:8080/",
          "height": 269
        },
        "id": "1mmXumTb0Pqr",
        "outputId": "485851b4-a179-4b6a-fb78-bd799d9c1876"
      },
      "execution_count": null,
      "outputs": [
        {
          "output_type": "execute_result",
          "data": {
            "text/plain": [
              "                                                    reviews.rating\n",
              "name                                                              \n",
              "Logitech 915-000224  Harmony Ultimate One 15-De...            1003\n",
              "Microsoft Surface Pro 4 Type Cover with Fingerp...             426\n",
              "Alpine                                                         112\n",
              "AW6500 All-Weather Outdoor Speaker (White, Single)             108\n",
              "NS-SP1800BL 5.1-Channel Home Theater System (Bl...              63\n",
              "Motorola Wi-Fi Pet Video Camera                                 21"
            ],
            "text/html": [
              "\n",
              "  <div id=\"df-fbf6df77-8053-4755-bbf4-cd995fd439e7\">\n",
              "    <div class=\"colab-df-container\">\n",
              "      <div>\n",
              "<style scoped>\n",
              "    .dataframe tbody tr th:only-of-type {\n",
              "        vertical-align: middle;\n",
              "    }\n",
              "\n",
              "    .dataframe tbody tr th {\n",
              "        vertical-align: top;\n",
              "    }\n",
              "\n",
              "    .dataframe thead th {\n",
              "        text-align: right;\n",
              "    }\n",
              "</style>\n",
              "<table border=\"1\" class=\"dataframe\">\n",
              "  <thead>\n",
              "    <tr style=\"text-align: right;\">\n",
              "      <th></th>\n",
              "      <th>reviews.rating</th>\n",
              "    </tr>\n",
              "    <tr>\n",
              "      <th>name</th>\n",
              "      <th></th>\n",
              "    </tr>\n",
              "  </thead>\n",
              "  <tbody>\n",
              "    <tr>\n",
              "      <th>Logitech 915-000224  Harmony Ultimate One 15-Device Universal Infrared Remote with Customizable Touch Screen Control - Black</th>\n",
              "      <td>1003</td>\n",
              "    </tr>\n",
              "    <tr>\n",
              "      <th>Microsoft Surface Pro 4 Type Cover with Fingerprint ID</th>\n",
              "      <td>426</td>\n",
              "    </tr>\n",
              "    <tr>\n",
              "      <th>Alpine</th>\n",
              "      <td>112</td>\n",
              "    </tr>\n",
              "    <tr>\n",
              "      <th>AW6500 All-Weather Outdoor Speaker (White, Single)</th>\n",
              "      <td>108</td>\n",
              "    </tr>\n",
              "    <tr>\n",
              "      <th>NS-SP1800BL 5.1-Channel Home Theater System (Black)</th>\n",
              "      <td>63</td>\n",
              "    </tr>\n",
              "    <tr>\n",
              "      <th>Motorola Wi-Fi Pet Video Camera</th>\n",
              "      <td>21</td>\n",
              "    </tr>\n",
              "  </tbody>\n",
              "</table>\n",
              "</div>\n",
              "      <button class=\"colab-df-convert\" onclick=\"convertToInteractive('df-fbf6df77-8053-4755-bbf4-cd995fd439e7')\"\n",
              "              title=\"Convert this dataframe to an interactive table.\"\n",
              "              style=\"display:none;\">\n",
              "        \n",
              "  <svg xmlns=\"http://www.w3.org/2000/svg\" height=\"24px\"viewBox=\"0 0 24 24\"\n",
              "       width=\"24px\">\n",
              "    <path d=\"M0 0h24v24H0V0z\" fill=\"none\"/>\n",
              "    <path d=\"M18.56 5.44l.94 2.06.94-2.06 2.06-.94-2.06-.94-.94-2.06-.94 2.06-2.06.94zm-11 1L8.5 8.5l.94-2.06 2.06-.94-2.06-.94L8.5 2.5l-.94 2.06-2.06.94zm10 10l.94 2.06.94-2.06 2.06-.94-2.06-.94-.94-2.06-.94 2.06-2.06.94z\"/><path d=\"M17.41 7.96l-1.37-1.37c-.4-.4-.92-.59-1.43-.59-.52 0-1.04.2-1.43.59L10.3 9.45l-7.72 7.72c-.78.78-.78 2.05 0 2.83L4 21.41c.39.39.9.59 1.41.59.51 0 1.02-.2 1.41-.59l7.78-7.78 2.81-2.81c.8-.78.8-2.07 0-2.86zM5.41 20L4 18.59l7.72-7.72 1.47 1.35L5.41 20z\"/>\n",
              "  </svg>\n",
              "      </button>\n",
              "      \n",
              "  <style>\n",
              "    .colab-df-container {\n",
              "      display:flex;\n",
              "      flex-wrap:wrap;\n",
              "      gap: 12px;\n",
              "    }\n",
              "\n",
              "    .colab-df-convert {\n",
              "      background-color: #E8F0FE;\n",
              "      border: none;\n",
              "      border-radius: 50%;\n",
              "      cursor: pointer;\n",
              "      display: none;\n",
              "      fill: #1967D2;\n",
              "      height: 32px;\n",
              "      padding: 0 0 0 0;\n",
              "      width: 32px;\n",
              "    }\n",
              "\n",
              "    .colab-df-convert:hover {\n",
              "      background-color: #E2EBFA;\n",
              "      box-shadow: 0px 1px 2px rgba(60, 64, 67, 0.3), 0px 1px 3px 1px rgba(60, 64, 67, 0.15);\n",
              "      fill: #174EA6;\n",
              "    }\n",
              "\n",
              "    [theme=dark] .colab-df-convert {\n",
              "      background-color: #3B4455;\n",
              "      fill: #D2E3FC;\n",
              "    }\n",
              "\n",
              "    [theme=dark] .colab-df-convert:hover {\n",
              "      background-color: #434B5C;\n",
              "      box-shadow: 0px 1px 3px 1px rgba(0, 0, 0, 0.15);\n",
              "      filter: drop-shadow(0px 1px 2px rgba(0, 0, 0, 0.3));\n",
              "      fill: #FFFFFF;\n",
              "    }\n",
              "  </style>\n",
              "\n",
              "      <script>\n",
              "        const buttonEl =\n",
              "          document.querySelector('#df-fbf6df77-8053-4755-bbf4-cd995fd439e7 button.colab-df-convert');\n",
              "        buttonEl.style.display =\n",
              "          google.colab.kernel.accessAllowed ? 'block' : 'none';\n",
              "\n",
              "        async function convertToInteractive(key) {\n",
              "          const element = document.querySelector('#df-fbf6df77-8053-4755-bbf4-cd995fd439e7');\n",
              "          const dataTable =\n",
              "            await google.colab.kernel.invokeFunction('convertToInteractive',\n",
              "                                                     [key], {});\n",
              "          if (!dataTable) return;\n",
              "\n",
              "          const docLinkHtml = 'Like what you see? Visit the ' +\n",
              "            '<a target=\"_blank\" href=https://colab.research.google.com/notebooks/data_table.ipynb>data table notebook</a>'\n",
              "            + ' to learn more about interactive tables.';\n",
              "          element.innerHTML = '';\n",
              "          dataTable['output_type'] = 'display_data';\n",
              "          await google.colab.output.renderOutput(dataTable, element);\n",
              "          const docLink = document.createElement('div');\n",
              "          docLink.innerHTML = docLinkHtml;\n",
              "          element.appendChild(docLink);\n",
              "        }\n",
              "      </script>\n",
              "    </div>\n",
              "  </div>\n",
              "  "
            ]
          },
          "metadata": {},
          "execution_count": 35
        }
      ]
    },
    {
      "cell_type": "code",
      "source": [
        "most_popular.head(30).plot(kind = \"bar\")"
      ],
      "metadata": {
        "colab": {
          "base_uri": "https://localhost:8080/",
          "height": 945
        },
        "id": "JBIX7W5t0aSG",
        "outputId": "dca74744-a409-4033-fba8-1ca04e868807"
      },
      "execution_count": null,
      "outputs": [
        {
          "output_type": "execute_result",
          "data": {
            "text/plain": [
              "<matplotlib.axes._subplots.AxesSubplot at 0x7f3c737d5e50>"
            ]
          },
          "metadata": {},
          "execution_count": 36
        },
        {
          "output_type": "display_data",
          "data": {
            "text/plain": [
              "<Figure size 432x288 with 1 Axes>"
            ],
            "image/png": "[encoded data removed]"
          },
          "metadata": {}
        }
      ]
    },
    {
      "cell_type": "code",
      "source": [
        "ratings_utility_matrix = df2.pivot_table(values='reviews.rating', index='reviews.username', columns='name', fill_value=0)\n",
        "ratings_utility_matrix.head()"
      ],
      "metadata": {
        "colab": {
          "base_uri": "https://localhost:8080/",
          "height": 334
        },
        "id": "4uzNAh7a1DTz",
        "outputId": "8a12b188-eb1f-47b2-f85a-788288156469"
      },
      "execution_count": null,
      "outputs": [
        {
          "output_type": "execute_result",
          "data": {
            "text/plain": [
              "name              AW6500 All-Weather Outdoor Speaker (White, Single)  Alpine  \\\n",
              "reviews.username                                                               \n",
              "12packmax                                                       0.0      0.0   \n",
              "232323                                                          0.0      0.0   \n",
              "23322                                                           5.0      0.0   \n",
              "2k9gxp                                                          0.0      0.0   \n",
              "422520                                                          0.0      0.0   \n",
              "\n",
              "name              Logitech 915-000224  Harmony Ultimate One 15-Device Universal Infrared Remote with Customizable Touch Screen Control - Black  \\\n",
              "reviews.username                                                                                                                                 \n",
              "12packmax                                                       1.0                                                                              \n",
              "232323                                                          0.0                                                                              \n",
              "23322                                                           0.0                                                                              \n",
              "2k9gxp                                                          5.0                                                                              \n",
              "422520                                                          4.0                                                                              \n",
              "\n",
              "name              Microsoft Surface Pro 4 Type Cover with Fingerprint ID  \\\n",
              "reviews.username                                                           \n",
              "12packmax                                                       0.0        \n",
              "232323                                                          5.0        \n",
              "23322                                                           0.0        \n",
              "2k9gxp                                                          0.0        \n",
              "422520                                                          0.0        \n",
              "\n",
              "name              Motorola Wi-Fi Pet Video Camera  \\\n",
              "reviews.username                                    \n",
              "12packmax                                       0   \n",
              "232323                                          0   \n",
              "23322                                           0   \n",
              "2k9gxp                                          0   \n",
              "422520                                          0   \n",
              "\n",
              "name              NS-SP1800BL 5.1-Channel Home Theater System (Black)  \n",
              "reviews.username                                                       \n",
              "12packmax                                                         0    \n",
              "232323                                                            0    \n",
              "23322                                                             0    \n",
              "2k9gxp                                                            0    \n",
              "422520                                                            0    "
            ],
            "text/html": [
              "\n",
              "  <div id=\"df-75a00951-6bc3-4fc9-8586-a43cd6373e2b\">\n",
              "    <div class=\"colab-df-container\">\n",
              "      <div>\n",
              "<style scoped>\n",
              "    .dataframe tbody tr th:only-of-type {\n",
              "        vertical-align: middle;\n",
              "    }\n",
              "\n",
              "    .dataframe tbody tr th {\n",
              "        vertical-align: top;\n",
              "    }\n",
              "\n",
              "    .dataframe thead th {\n",
              "        text-align: right;\n",
              "    }\n",
              "</style>\n",
              "<table border=\"1\" class=\"dataframe\">\n",
              "  <thead>\n",
              "    <tr style=\"text-align: right;\">\n",
              "      <th>name</th>\n",
              "      <th>AW6500 All-Weather Outdoor Speaker (White, Single)</th>\n",
              "      <th>Alpine</th>\n",
              "      <th>Logitech 915-000224  Harmony Ultimate One 15-Device Universal Infrared Remote with Customizable Touch Screen Control - Black</th>\n",
              "      <th>Microsoft Surface Pro 4 Type Cover with Fingerprint ID</th>\n",
              "      <th>Motorola Wi-Fi Pet Video Camera</th>\n",
              "      <th>NS-SP1800BL 5.1-Channel Home Theater System (Black)</th>\n",
              "    </tr>\n",
              "    <tr>\n",
              "      <th>reviews.username</th>\n",
              "      <th></th>\n",
              "      <th></th>\n",
              "      <th></th>\n",
              "      <th></th>\n",
              "      <th></th>\n",
              "      <th></th>\n",
              "    </tr>\n",
              "  </thead>\n",
              "  <tbody>\n",
              "    <tr>\n",
              "      <th>12packmax</th>\n",
              "      <td>0.0</td>\n",
              "      <td>0.0</td>\n",
              "      <td>1.0</td>\n",
              "      <td>0.0</td>\n",
              "      <td>0</td>\n",
              "      <td>0</td>\n",
              "    </tr>\n",
              "    <tr>\n",
              "      <th>232323</th>\n",
              "      <td>0.0</td>\n",
              "      <td>0.0</td>\n",
              "      <td>0.0</td>\n",
              "      <td>5.0</td>\n",
              "      <td>0</td>\n",
              "      <td>0</td>\n",
              "    </tr>\n",
              "    <tr>\n",
              "      <th>23322</th>\n",
              "      <td>5.0</td>\n",
              "      <td>0.0</td>\n",
              "      <td>0.0</td>\n",
              "      <td>0.0</td>\n",
              "      <td>0</td>\n",
              "      <td>0</td>\n",
              "    </tr>\n",
              "    <tr>\n",
              "      <th>2k9gxp</th>\n",
              "      <td>0.0</td>\n",
              "      <td>0.0</td>\n",
              "      <td>5.0</td>\n",
              "      <td>0.0</td>\n",
              "      <td>0</td>\n",
              "      <td>0</td>\n",
              "    </tr>\n",
              "    <tr>\n",
              "      <th>422520</th>\n",
              "      <td>0.0</td>\n",
              "      <td>0.0</td>\n",
              "      <td>4.0</td>\n",
              "      <td>0.0</td>\n",
              "      <td>0</td>\n",
              "      <td>0</td>\n",
              "    </tr>\n",
              "  </tbody>\n",
              "</table>\n",
              "</div>\n",
              "      <button class=\"colab-df-convert\" onclick=\"convertToInteractive('df-75a00951-6bc3-4fc9-8586-a43cd6373e2b')\"\n",
              "              title=\"Convert this dataframe to an interactive table.\"\n",
              "              style=\"display:none;\">\n",
              "        \n",
              "  <svg xmlns=\"http://www.w3.org/2000/svg\" height=\"24px\"viewBox=\"0 0 24 24\"\n",
              "       width=\"24px\">\n",
              "    <path d=\"M0 0h24v24H0V0z\" fill=\"none\"/>\n",
              "    <path d=\"M18.56 5.44l.94 2.06.94-2.06 2.06-.94-2.06-.94-.94-2.06-.94 2.06-2.06.94zm-11 1L8.5 8.5l.94-2.06 2.06-.94-2.06-.94L8.5 2.5l-.94 2.06-2.06.94zm10 10l.94 2.06.94-2.06 2.06-.94-2.06-.94-.94-2.06-.94 2.06-2.06.94z\"/><path d=\"M17.41 7.96l-1.37-1.37c-.4-.4-.92-.59-1.43-.59-.52 0-1.04.2-1.43.59L10.3 9.45l-7.72 7.72c-.78.78-.78 2.05 0 2.83L4 21.41c.39.39.9.59 1.41.59.51 0 1.02-.2 1.41-.59l7.78-7.78 2.81-2.81c.8-.78.8-2.07 0-2.86zM5.41 20L4 18.59l7.72-7.72 1.47 1.35L5.41 20z\"/>\n",
              "  </svg>\n",
              "      </button>\n",
              "      \n",
              "  <style>\n",
              "    .colab-df-container {\n",
              "      display:flex;\n",
              "      flex-wrap:wrap;\n",
              "      gap: 12px;\n",
              "    }\n",
              "\n",
              "    .colab-df-convert {\n",
              "      background-color: #E8F0FE;\n",
              "      border: none;\n",
              "      border-radius: 50%;\n",
              "      cursor: pointer;\n",
              "      display: none;\n",
              "      fill: #1967D2;\n",
              "      height: 32px;\n",
              "      padding: 0 0 0 0;\n",
              "      width: 32px;\n",
              "    }\n",
              "\n",
              "    .colab-df-convert:hover {\n",
              "      background-color: #E2EBFA;\n",
              "      box-shadow: 0px 1px 2px rgba(60, 64, 67, 0.3), 0px 1px 3px 1px rgba(60, 64, 67, 0.15);\n",
              "      fill: #174EA6;\n",
              "    }\n",
              "\n",
              "    [theme=dark] .colab-df-convert {\n",
              "      background-color: #3B4455;\n",
              "      fill: #D2E3FC;\n",
              "    }\n",
              "\n",
              "    [theme=dark] .colab-df-convert:hover {\n",
              "      background-color: #434B5C;\n",
              "      box-shadow: 0px 1px 3px 1px rgba(0, 0, 0, 0.15);\n",
              "      filter: drop-shadow(0px 1px 2px rgba(0, 0, 0, 0.3));\n",
              "      fill: #FFFFFF;\n",
              "    }\n",
              "  </style>\n",
              "\n",
              "      <script>\n",
              "        const buttonEl =\n",
              "          document.querySelector('#df-75a00951-6bc3-4fc9-8586-a43cd6373e2b button.colab-df-convert');\n",
              "        buttonEl.style.display =\n",
              "          google.colab.kernel.accessAllowed ? 'block' : 'none';\n",
              "\n",
              "        async function convertToInteractive(key) {\n",
              "          const element = document.querySelector('#df-75a00951-6bc3-4fc9-8586-a43cd6373e2b');\n",
              "          const dataTable =\n",
              "            await google.colab.kernel.invokeFunction('convertToInteractive',\n",
              "                                                     [key], {});\n",
              "          if (!dataTable) return;\n",
              "\n",
              "          const docLinkHtml = 'Like what you see? Visit the ' +\n",
              "            '<a target=\"_blank\" href=https://colab.research.google.com/notebooks/data_table.ipynb>data table notebook</a>'\n",
              "            + ' to learn more about interactive tables.';\n",
              "          element.innerHTML = '';\n",
              "          dataTable['output_type'] = 'display_data';\n",
              "          await google.colab.output.renderOutput(dataTable, element);\n",
              "          const docLink = document.createElement('div');\n",
              "          docLink.innerHTML = docLinkHtml;\n",
              "          element.appendChild(docLink);\n",
              "        }\n",
              "      </script>\n",
              "    </div>\n",
              "  </div>\n",
              "  "
            ]
          },
          "metadata": {},
          "execution_count": 37
        }
      ]
    },
    {
      "cell_type": "code",
      "source": [
        "ratings_utility_matrix.shape"
      ],
      "metadata": {
        "colab": {
          "base_uri": "https://localhost:8080/"
        },
        "id": "OHh5Piqj1RW7",
        "outputId": "210e961c-6e52-48e8-acce-bfcc04ce44d9"
      },
      "execution_count": null,
      "outputs": [
        {
          "output_type": "execute_result",
          "data": {
            "text/plain": [
              "(1616, 6)"
            ]
          },
          "metadata": {},
          "execution_count": 38
        }
      ]
    },
    {
      "cell_type": "code",
      "source": [
        "X = ratings_utility_matrix.T\n",
        "X.head()"
      ],
      "metadata": {
        "colab": {
          "base_uri": "https://localhost:8080/",
          "height": 556
        },
        "id": "FEczPlk21WGm",
        "outputId": "2b36735b-4495-4beb-9eb9-34cb768713a9"
      },
      "execution_count": null,
      "outputs": [
        {
          "output_type": "execute_result",
          "data": {
            "text/plain": [
              "reviews.username                                    12packmax  232323  23322  \\\n",
              "name                                                                           \n",
              "AW6500 All-Weather Outdoor Speaker (White, Single)        0.0     0.0    5.0   \n",
              "Alpine                                                    0.0     0.0    0.0   \n",
              "Logitech 915-000224  Harmony Ultimate One 15-De...        1.0     0.0    0.0   \n",
              "Microsoft Surface Pro 4 Type Cover with Fingerp...        0.0     5.0    0.0   \n",
              "Motorola Wi-Fi Pet Video Camera                           0.0     0.0    0.0   \n",
              "\n",
              "reviews.username                                    2k9gxp  422520  456321  \\\n",
              "name                                                                         \n",
              "AW6500 All-Weather Outdoor Speaker (White, Single)     0.0     0.0     0.0   \n",
              "Alpine                                                 0.0     0.0     0.0   \n",
              "Logitech 915-000224  Harmony Ultimate One 15-De...     5.0     4.0     3.0   \n",
              "Microsoft Surface Pro 4 Type Cover with Fingerp...     0.0     0.0     0.0   \n",
              "Motorola Wi-Fi Pet Video Camera                        0.0     0.0     0.0   \n",
              "\n",
              "reviews.username                                    4781rj  7777  A199578  \\\n",
              "name                                                                        \n",
              "AW6500 All-Weather Outdoor Speaker (White, Single)     0.0   0.0      0.0   \n",
              "Alpine                                                 0.0   0.0      0.0   \n",
              "Logitech 915-000224  Harmony Ultimate One 15-De...     0.0   5.0      0.0   \n",
              "Microsoft Surface Pro 4 Type Cover with Fingerp...     0.0   0.0      5.0   \n",
              "Motorola Wi-Fi Pet Video Camera                        0.0   0.0      0.0   \n",
              "\n",
              "reviews.username                                    AB33  ...  wolfram  wsgjr  \\\n",
              "name                                                      ...                   \n",
              "AW6500 All-Weather Outdoor Speaker (White, Single)   0.0  ...      0.0    0.0   \n",
              "Alpine                                               0.0  ...      0.0    0.0   \n",
              "Logitech 915-000224  Harmony Ultimate One 15-De...   5.0  ...      0.0    5.0   \n",
              "Microsoft Surface Pro 4 Type Cover with Fingerp...   0.0  ...      0.0    0.0   \n",
              "Motorola Wi-Fi Pet Video Camera                      0.0  ...      0.0    0.0   \n",
              "\n",
              "reviews.username                                    xc1097  xman  xxclusivxx  \\\n",
              "name                                                                           \n",
              "AW6500 All-Weather Outdoor Speaker (White, Single)     0.0   0.0         0.0   \n",
              "Alpine                                                 0.0   0.0         0.0   \n",
              "Logitech 915-000224  Harmony Ultimate One 15-De...     0.0   4.0         0.0   \n",
              "Microsoft Surface Pro 4 Type Cover with Fingerp...     5.0   0.0         2.0   \n",
              "Motorola Wi-Fi Pet Video Camera                        0.0   0.0         0.0   \n",
              "\n",
              "reviews.username                                    xyxy2  yaya  yoda37  \\\n",
              "name                                                                      \n",
              "AW6500 All-Weather Outdoor Speaker (White, Single)    0.0   0.0     0.0   \n",
              "Alpine                                                0.0   0.0     0.0   \n",
              "Logitech 915-000224  Harmony Ultimate One 15-De...    5.0   5.0     0.0   \n",
              "Microsoft Surface Pro 4 Type Cover with Fingerp...    0.0   0.0     5.0   \n",
              "Motorola Wi-Fi Pet Video Camera                       0.0   0.0     0.0   \n",
              "\n",
              "reviews.username                                    yourkidding  zilla  \n",
              "name                                                                    \n",
              "AW6500 All-Weather Outdoor Speaker (White, Single)          0.0    0.0  \n",
              "Alpine                                                      0.0    0.0  \n",
              "Logitech 915-000224  Harmony Ultimate One 15-De...          5.0    2.0  \n",
              "Microsoft Surface Pro 4 Type Cover with Fingerp...          0.0    0.0  \n",
              "Motorola Wi-Fi Pet Video Camera                             0.0    0.0  \n",
              "\n",
              "[5 rows x 1616 columns]"
            ],
            "text/html": [
              "\n",
              "  <div id=\"df-02c06691-5409-41e5-a5b7-c8585fa573e7\">\n",
              "    <div class=\"colab-df-container\">\n",
              "      <div>\n",
              "<style scoped>\n",
              "    .dataframe tbody tr th:only-of-type {\n",
              "        vertical-align: middle;\n",
              "    }\n",
              "\n",
              "    .dataframe tbody tr th {\n",
              "        vertical-align: top;\n",
              "    }\n",
              "\n",
              "    .dataframe thead th {\n",
              "        text-align: right;\n",
              "    }\n",
              "</style>\n",
              "<table border=\"1\" class=\"dataframe\">\n",
              "  <thead>\n",
              "    <tr style=\"text-align: right;\">\n",
              "      <th>reviews.username</th>\n",
              "      <th>12packmax</th>\n",
              "      <th>232323</th>\n",
              "      <th>23322</th>\n",
              "      <th>2k9gxp</th>\n",
              "      <th>422520</th>\n",
              "      <th>456321</th>\n",
              "      <th>4781rj</th>\n",
              "      <th>7777</th>\n",
              "      <th>A199578</th>\n",
              "      <th>AB33</th>\n",
              "      <th>...</th>\n",
              "      <th>wolfram</th>\n",
              "      <th>wsgjr</th>\n",
              "      <th>xc1097</th>\n",
              "      <th>xman</th>\n",
              "      <th>xxclusivxx</th>\n",
              "      <th>xyxy2</th>\n",
              "      <th>yaya</th>\n",
              "      <th>yoda37</th>\n",
              "      <th>yourkidding</th>\n",
              "      <th>zilla</th>\n",
              "    </tr>\n",
              "    <tr>\n",
              "      <th>name</th>\n",
              "      <th></th>\n",
              "      <th></th>\n",
              "      <th></th>\n",
              "      <th></th>\n",
              "      <th></th>\n",
              "      <th></th>\n",
              "      <th></th>\n",
              "      <th></th>\n",
              "      <th></th>\n",
              "      <th></th>\n",
              "      <th></th>\n",
              "      <th></th>\n",
              "      <th></th>\n",
              "      <th></th>\n",
              "      <th></th>\n",
              "      <th></th>\n",
              "      <th></th>\n",
              "      <th></th>\n",
              "      <th></th>\n",
              "      <th></th>\n",
              "      <th></th>\n",
              "    </tr>\n",
              "  </thead>\n",
              "  <tbody>\n",
              "    <tr>\n",
              "      <th>AW6500 All-Weather Outdoor Speaker (White, Single)</th>\n",
              "      <td>0.0</td>\n",
              "      <td>0.0</td>\n",
              "      <td>5.0</td>\n",
              "      <td>0.0</td>\n",
              "      <td>0.0</td>\n",
              "      <td>0.0</td>\n",
              "      <td>0.0</td>\n",
              "      <td>0.0</td>\n",
              "      <td>0.0</td>\n",
              "      <td>0.0</td>\n",
              "      <td>...</td>\n",
              "      <td>0.0</td>\n",
              "      <td>0.0</td>\n",
              "      <td>0.0</td>\n",
              "      <td>0.0</td>\n",
              "      <td>0.0</td>\n",
              "      <td>0.0</td>\n",
              "      <td>0.0</td>\n",
              "      <td>0.0</td>\n",
              "      <td>0.0</td>\n",
              "      <td>0.0</td>\n",
              "    </tr>\n",
              "    <tr>\n",
              "      <th>Alpine</th>\n",
              "      <td>0.0</td>\n",
              "      <td>0.0</td>\n",
              "      <td>0.0</td>\n",
              "      <td>0.0</td>\n",
              "      <td>0.0</td>\n",
              "      <td>0.0</td>\n",
              "      <td>0.0</td>\n",
              "      <td>0.0</td>\n",
              "      <td>0.0</td>\n",
              "      <td>0.0</td>\n",
              "      <td>...</td>\n",
              "      <td>0.0</td>\n",
              "      <td>0.0</td>\n",
              "      <td>0.0</td>\n",
              "      <td>0.0</td>\n",
              "      <td>0.0</td>\n",
              "      <td>0.0</td>\n",
              "      <td>0.0</td>\n",
              "      <td>0.0</td>\n",
              "      <td>0.0</td>\n",
              "      <td>0.0</td>\n",
              "    </tr>\n",
              "    <tr>\n",
              "      <th>Logitech 915-000224  Harmony Ultimate One 15-Device Universal Infrared Remote with Customizable Touch Screen Control - Black</th>\n",
              "      <td>1.0</td>\n",
              "      <td>0.0</td>\n",
              "      <td>0.0</td>\n",
              "      <td>5.0</td>\n",
              "      <td>4.0</td>\n",
              "      <td>3.0</td>\n",
              "      <td>0.0</td>\n",
              "      <td>5.0</td>\n",
              "      <td>0.0</td>\n",
              "      <td>5.0</td>\n",
              "      <td>...</td>\n",
              "      <td>0.0</td>\n",
              "      <td>5.0</td>\n",
              "      <td>0.0</td>\n",
              "      <td>4.0</td>\n",
              "      <td>0.0</td>\n",
              "      <td>5.0</td>\n",
              "      <td>5.0</td>\n",
              "      <td>0.0</td>\n",
              "      <td>5.0</td>\n",
              "      <td>2.0</td>\n",
              "    </tr>\n",
              "    <tr>\n",
              "      <th>Microsoft Surface Pro 4 Type Cover with Fingerprint ID</th>\n",
              "      <td>0.0</td>\n",
              "      <td>5.0</td>\n",
              "      <td>0.0</td>\n",
              "      <td>0.0</td>\n",
              "      <td>0.0</td>\n",
              "      <td>0.0</td>\n",
              "      <td>0.0</td>\n",
              "      <td>0.0</td>\n",
              "      <td>5.0</td>\n",
              "      <td>0.0</td>\n",
              "      <td>...</td>\n",
              "      <td>0.0</td>\n",
              "      <td>0.0</td>\n",
              "      <td>5.0</td>\n",
              "      <td>0.0</td>\n",
              "      <td>2.0</td>\n",
              "      <td>0.0</td>\n",
              "      <td>0.0</td>\n",
              "      <td>5.0</td>\n",
              "      <td>0.0</td>\n",
              "      <td>0.0</td>\n",
              "    </tr>\n",
              "    <tr>\n",
              "      <th>Motorola Wi-Fi Pet Video Camera</th>\n",
              "      <td>0.0</td>\n",
              "      <td>0.0</td>\n",
              "      <td>0.0</td>\n",
              "      <td>0.0</td>\n",
              "      <td>0.0</td>\n",
              "      <td>0.0</td>\n",
              "      <td>0.0</td>\n",
              "      <td>0.0</td>\n",
              "      <td>0.0</td>\n",
              "      <td>0.0</td>\n",
              "      <td>...</td>\n",
              "      <td>0.0</td>\n",
              "      <td>0.0</td>\n",
              "      <td>0.0</td>\n",
              "      <td>0.0</td>\n",
              "      <td>0.0</td>\n",
              "      <td>0.0</td>\n",
              "      <td>0.0</td>\n",
              "      <td>0.0</td>\n",
              "      <td>0.0</td>\n",
              "      <td>0.0</td>\n",
              "    </tr>\n",
              "  </tbody>\n",
              "</table>\n",
              "<p>5 rows × 1616 columns</p>\n",
              "</div>\n",
              "      <button class=\"colab-df-convert\" onclick=\"convertToInteractive('df-02c06691-5409-41e5-a5b7-c8585fa573e7')\"\n",
              "              title=\"Convert this dataframe to an interactive table.\"\n",
              "              style=\"display:none;\">\n",
              "        \n",
              "  <svg xmlns=\"http://www.w3.org/2000/svg\" height=\"24px\"viewBox=\"0 0 24 24\"\n",
              "       width=\"24px\">\n",
              "    <path d=\"M0 0h24v24H0V0z\" fill=\"none\"/>\n",
              "    <path d=\"M18.56 5.44l.94 2.06.94-2.06 2.06-.94-2.06-.94-.94-2.06-.94 2.06-2.06.94zm-11 1L8.5 8.5l.94-2.06 2.06-.94-2.06-.94L8.5 2.5l-.94 2.06-2.06.94zm10 10l.94 2.06.94-2.06 2.06-.94-2.06-.94-.94-2.06-.94 2.06-2.06.94z\"/><path d=\"M17.41 7.96l-1.37-1.37c-.4-.4-.92-.59-1.43-.59-.52 0-1.04.2-1.43.59L10.3 9.45l-7.72 7.72c-.78.78-.78 2.05 0 2.83L4 21.41c.39.39.9.59 1.41.59.51 0 1.02-.2 1.41-.59l7.78-7.78 2.81-2.81c.8-.78.8-2.07 0-2.86zM5.41 20L4 18.59l7.72-7.72 1.47 1.35L5.41 20z\"/>\n",
              "  </svg>\n",
              "      </button>\n",
              "      \n",
              "  <style>\n",
              "    .colab-df-container {\n",
              "      display:flex;\n",
              "      flex-wrap:wrap;\n",
              "      gap: 12px;\n",
              "    }\n",
              "\n",
              "    .colab-df-convert {\n",
              "      background-color: #E8F0FE;\n",
              "      border: none;\n",
              "      border-radius: 50%;\n",
              "      cursor: pointer;\n",
              "      display: none;\n",
              "      fill: #1967D2;\n",
              "      height: 32px;\n",
              "      padding: 0 0 0 0;\n",
              "      width: 32px;\n",
              "    }\n",
              "\n",
              "    .colab-df-convert:hover {\n",
              "      background-color: #E2EBFA;\n",
              "      box-shadow: 0px 1px 2px rgba(60, 64, 67, 0.3), 0px 1px 3px 1px rgba(60, 64, 67, 0.15);\n",
              "      fill: #174EA6;\n",
              "    }\n",
              "\n",
              "    [theme=dark] .colab-df-convert {\n",
              "      background-color: #3B4455;\n",
              "      fill: #D2E3FC;\n",
              "    }\n",
              "\n",
              "    [theme=dark] .colab-df-convert:hover {\n",
              "      background-color: #434B5C;\n",
              "      box-shadow: 0px 1px 3px 1px rgba(0, 0, 0, 0.15);\n",
              "      filter: drop-shadow(0px 1px 2px rgba(0, 0, 0, 0.3));\n",
              "      fill: #FFFFFF;\n",
              "    }\n",
              "  </style>\n",
              "\n",
              "      <script>\n",
              "        const buttonEl =\n",
              "          document.querySelector('#df-02c06691-5409-41e5-a5b7-c8585fa573e7 button.colab-df-convert');\n",
              "        buttonEl.style.display =\n",
              "          google.colab.kernel.accessAllowed ? 'block' : 'none';\n",
              "\n",
              "        async function convertToInteractive(key) {\n",
              "          const element = document.querySelector('#df-02c06691-5409-41e5-a5b7-c8585fa573e7');\n",
              "          const dataTable =\n",
              "            await google.colab.kernel.invokeFunction('convertToInteractive',\n",
              "                                                     [key], {});\n",
              "          if (!dataTable) return;\n",
              "\n",
              "          const docLinkHtml = 'Like what you see? Visit the ' +\n",
              "            '<a target=\"_blank\" href=https://colab.research.google.com/notebooks/data_table.ipynb>data table notebook</a>'\n",
              "            + ' to learn more about interactive tables.';\n",
              "          element.innerHTML = '';\n",
              "          dataTable['output_type'] = 'display_data';\n",
              "          await google.colab.output.renderOutput(dataTable, element);\n",
              "          const docLink = document.createElement('div');\n",
              "          docLink.innerHTML = docLinkHtml;\n",
              "          element.appendChild(docLink);\n",
              "        }\n",
              "      </script>\n",
              "    </div>\n",
              "  </div>\n",
              "  "
            ]
          },
          "metadata": {},
          "execution_count": 39
        }
      ]
    },
    {
      "cell_type": "code",
      "source": [
        "X.shape"
      ],
      "metadata": {
        "colab": {
          "base_uri": "https://localhost:8080/"
        },
        "id": "h-n1Jnfe1etF",
        "outputId": "b885765a-d3f0-47dd-dbe3-875a1a05f7cb"
      },
      "execution_count": null,
      "outputs": [
        {
          "output_type": "execute_result",
          "data": {
            "text/plain": [
              "(6, 1616)"
            ]
          },
          "metadata": {},
          "execution_count": 45
        }
      ]
    },
    {
      "cell_type": "code",
      "source": [
        "X1 = X"
      ],
      "metadata": {
        "id": "DD-KqVsm1uKH"
      },
      "execution_count": null,
      "outputs": []
    },
    {
      "cell_type": "markdown",
      "source": [
        "decompose matrix"
      ],
      "metadata": {
        "id": "YFRo73Lh1v6q"
      }
    },
    {
      "cell_type": "code",
      "source": [
        "SVD = TruncatedSVD(n_components=10)\n",
        "decomposed_matrix = SVD.fit_transform(X)\n",
        "decomposed_matrix.shape"
      ],
      "metadata": {
        "colab": {
          "base_uri": "https://localhost:8080/"
        },
        "id": "-ZY1NmqI1hQd",
        "outputId": "2a272d52-0e30-4025-b80e-262eb7ac7544"
      },
      "execution_count": null,
      "outputs": [
        {
          "output_type": "execute_result",
          "data": {
            "text/plain": [
              "(6, 6)"
            ]
          },
          "metadata": {},
          "execution_count": 42
        }
      ]
    },
    {
      "cell_type": "markdown",
      "source": [
        "coorelation"
      ],
      "metadata": {
        "id": "9qz84Twb2sXr"
      }
    },
    {
      "cell_type": "code",
      "source": [
        "correlation_matrix = np.corrcoef(decomposed_matrix)\n",
        "correlation_matrix.shape"
      ],
      "metadata": {
        "colab": {
          "base_uri": "https://localhost:8080/"
        },
        "id": "AHOb6OXY2osB",
        "outputId": "6e5950ac-12c9-407a-b650-67b6d43b5705"
      },
      "execution_count": null,
      "outputs": [
        {
          "output_type": "execute_result",
          "data": {
            "text/plain": [
              "(6, 6)"
            ]
          },
          "metadata": {},
          "execution_count": 43
        }
      ]
    },
    {
      "cell_type": "code",
      "source": [
        "X.index[4]"
      ],
      "metadata": {
        "colab": {
          "base_uri": "https://localhost:8080/",
          "height": 35
        },
        "id": "_QJdxyoq2v0F",
        "outputId": "fde93b8f-05ac-4f42-aed8-d31cd52b226d"
      },
      "execution_count": null,
      "outputs": [
        {
          "output_type": "execute_result",
          "data": {
            "text/plain": [
              "'Motorola Wi-Fi Pet Video Camera'"
            ],
            "application/vnd.google.colaboratory.intrinsic+json": {
              "type": "string"
            }
          },
          "metadata": {},
          "execution_count": 46
        }
      ]
    },
    {
      "cell_type": "code",
      "source": [
        "i = \"Motorola Wi-Fi Pet Video Camera\"\n",
        "\n",
        "product_names = list(X.index)\n",
        "product_ID = product_names.index(i)\n",
        "product_ID"
      ],
      "metadata": {
        "colab": {
          "base_uri": "https://localhost:8080/"
        },
        "id": "P7Y3s4Cs3GFS",
        "outputId": "3310c4cd-992a-46b0-f77f-e1bd34a350b4"
      },
      "execution_count": null,
      "outputs": [
        {
          "output_type": "execute_result",
          "data": {
            "text/plain": [
              "4"
            ]
          },
          "metadata": {},
          "execution_count": 47
        }
      ]
    },
    {
      "cell_type": "code",
      "source": [
        "correlation_product_ID = correlation_matrix[product_ID]\n",
        "correlation_product_ID.shape"
      ],
      "metadata": {
        "colab": {
          "base_uri": "https://localhost:8080/"
        },
        "id": "NwmKYWPB3Jqr",
        "outputId": "88f1271e-915f-4519-daf1-a27529cbf373"
      },
      "execution_count": null,
      "outputs": [
        {
          "output_type": "execute_result",
          "data": {
            "text/plain": [
              "(6,)"
            ]
          },
          "metadata": {},
          "execution_count": 48
        }
      ]
    },
    {
      "cell_type": "code",
      "source": [
        "Recommend = list(X.index[correlation_product_ID > 0])\n",
        "\n",
        "# Removes the item already bought by the customer\n",
        "Recommend.remove(i) \n",
        "\n",
        "Recommend[0:5]"
      ],
      "metadata": {
        "colab": {
          "base_uri": "https://localhost:8080/"
        },
        "id": "iAivMGqb3SGG",
        "outputId": "3c92cede-5c3f-44cb-d56c-a8cf3b93f125"
      },
      "execution_count": null,
      "outputs": [
        {
          "output_type": "execute_result",
          "data": {
            "text/plain": [
              "[]"
            ]
          },
          "metadata": {},
          "execution_count": 51
        }
      ]
    },
    {
      "cell_type": "markdown",
      "source": [
        "[more](https://github.com/RudrenduPaul/Python-Ecommerce-recommendation-system-using-machine-learning/blob/master/Recommendation%20System%20-%20Paul.ipynb)"
      ],
      "metadata": {
        "id": "F-NrzhpI3irf"
      }
    }
  ]
}