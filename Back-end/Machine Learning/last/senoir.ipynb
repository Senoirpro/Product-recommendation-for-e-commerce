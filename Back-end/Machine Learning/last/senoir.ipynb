{
  "nbformat": 4,
  "nbformat_minor": 0,
  "metadata": {
    "colab": {
      "name": "senoir.ipynb",
      "provenance": [],
      "collapsed_sections": []
    },
    "kernelspec": {
      "name": "python3",
      "display_name": "Python 3"
    },
    "language_info": {
      "name": "python"
    }
  },
  "cells": [
    {
      "cell_type": "markdown",
      "source": [
        "# original data"
      ],
      "metadata": {
        "id": "qt2ffHBF8Sh1"
      }
    },
    {
      "cell_type": "code",
      "source": [
        "import pandas as pd\n",
        "df = pd.read_csv(\"drive/MyDrive/Dataset/2019-Oct.csv\")\n",
        "df.head()"
      ],
      "metadata": {
        "colab": {
          "base_uri": "https://localhost:8080/",
          "height": 337
        },
        "id": "icD1b3Y7QWlz",
        "outputId": "f4bca2b0-4dd9-49ec-e247-97ab6b16e006"
      },
      "execution_count": 43,
      "outputs": [
        {
          "output_type": "execute_result",
          "data": {
            "text/plain": [
              "                event_time event_type  product_id          category_id  \\\n",
              "0  2019-10-01 00:00:00 UTC       view    44600062  2103807459595387724   \n",
              "1  2019-10-01 00:00:00 UTC       view     3900821  2053013552326770905   \n",
              "2  2019-10-01 00:00:01 UTC       view    17200506  2053013559792632471   \n",
              "3  2019-10-01 00:00:01 UTC       view     1307067  2053013558920217191   \n",
              "4  2019-10-01 00:00:04 UTC       view     1004237  2053013555631882655   \n",
              "\n",
              "                         category_code     brand    price    user_id  \\\n",
              "0                                  NaN  shiseido    35.79  541312140   \n",
              "1  appliances.environment.water_heater      aqua    33.20  554748717   \n",
              "2           furniture.living_room.sofa       NaN   543.10  519107250   \n",
              "3                   computers.notebook    lenovo   251.74  550050854   \n",
              "4               electronics.smartphone     apple  1081.98  535871217   \n",
              "\n",
              "                           user_session  \n",
              "0  72d76fde-8bb3-4e00-8c23-a032dfed738c  \n",
              "1  9333dfbd-b87a-4708-9857-6336556b0fcc  \n",
              "2  566511c2-e2e3-422b-b695-cf8e6e792ca8  \n",
              "3  7c90fc70-0e80-4590-96f3-13c02c18c713  \n",
              "4  c6bd7419-2748-4c56-95b4-8cec9ff8b80d  "
            ],
            "text/html": [
              "\n",
              "  <div id=\"df-d9c69706-80d7-47d5-b758-fe4cae9e6010\">\n",
              "    <div class=\"colab-df-container\">\n",
              "      <div>\n",
              "<style scoped>\n",
              "    .dataframe tbody tr th:only-of-type {\n",
              "        vertical-align: middle;\n",
              "    }\n",
              "\n",
              "    .dataframe tbody tr th {\n",
              "        vertical-align: top;\n",
              "    }\n",
              "\n",
              "    .dataframe thead th {\n",
              "        text-align: right;\n",
              "    }\n",
              "</style>\n",
              "<table border=\"1\" class=\"dataframe\">\n",
              "  <thead>\n",
              "    <tr style=\"text-align: right;\">\n",
              "      <th></th>\n",
              "      <th>event_time</th>\n",
              "      <th>event_type</th>\n",
              "      <th>product_id</th>\n",
              "      <th>category_id</th>\n",
              "      <th>category_code</th>\n",
              "      <th>brand</th>\n",
              "      <th>price</th>\n",
              "      <th>user_id</th>\n",
              "      <th>user_session</th>\n",
              "    </tr>\n",
              "  </thead>\n",
              "  <tbody>\n",
              "    <tr>\n",
              "      <th>0</th>\n",
              "      <td>2019-10-01 00:00:00 UTC</td>\n",
              "      <td>view</td>\n",
              "      <td>44600062</td>\n",
              "      <td>2103807459595387724</td>\n",
              "      <td>NaN</td>\n",
              "      <td>shiseido</td>\n",
              "      <td>35.79</td>\n",
              "      <td>541312140</td>\n",
              "      <td>72d76fde-8bb3-4e00-8c23-a032dfed738c</td>\n",
              "    </tr>\n",
              "    <tr>\n",
              "      <th>1</th>\n",
              "      <td>2019-10-01 00:00:00 UTC</td>\n",
              "      <td>view</td>\n",
              "      <td>3900821</td>\n",
              "      <td>2053013552326770905</td>\n",
              "      <td>appliances.environment.water_heater</td>\n",
              "      <td>aqua</td>\n",
              "      <td>33.20</td>\n",
              "      <td>554748717</td>\n",
              "      <td>9333dfbd-b87a-4708-9857-6336556b0fcc</td>\n",
              "    </tr>\n",
              "    <tr>\n",
              "      <th>2</th>\n",
              "      <td>2019-10-01 00:00:01 UTC</td>\n",
              "      <td>view</td>\n",
              "      <td>17200506</td>\n",
              "      <td>2053013559792632471</td>\n",
              "      <td>furniture.living_room.sofa</td>\n",
              "      <td>NaN</td>\n",
              "      <td>543.10</td>\n",
              "      <td>519107250</td>\n",
              "      <td>566511c2-e2e3-422b-b695-cf8e6e792ca8</td>\n",
              "    </tr>\n",
              "    <tr>\n",
              "      <th>3</th>\n",
              "      <td>2019-10-01 00:00:01 UTC</td>\n",
              "      <td>view</td>\n",
              "      <td>1307067</td>\n",
              "      <td>2053013558920217191</td>\n",
              "      <td>computers.notebook</td>\n",
              "      <td>lenovo</td>\n",
              "      <td>251.74</td>\n",
              "      <td>550050854</td>\n",
              "      <td>7c90fc70-0e80-4590-96f3-13c02c18c713</td>\n",
              "    </tr>\n",
              "    <tr>\n",
              "      <th>4</th>\n",
              "      <td>2019-10-01 00:00:04 UTC</td>\n",
              "      <td>view</td>\n",
              "      <td>1004237</td>\n",
              "      <td>2053013555631882655</td>\n",
              "      <td>electronics.smartphone</td>\n",
              "      <td>apple</td>\n",
              "      <td>1081.98</td>\n",
              "      <td>535871217</td>\n",
              "      <td>c6bd7419-2748-4c56-95b4-8cec9ff8b80d</td>\n",
              "    </tr>\n",
              "  </tbody>\n",
              "</table>\n",
              "</div>\n",
              "      <button class=\"colab-df-convert\" onclick=\"convertToInteractive('df-d9c69706-80d7-47d5-b758-fe4cae9e6010')\"\n",
              "              title=\"Convert this dataframe to an interactive table.\"\n",
              "              style=\"display:none;\">\n",
              "        \n",
              "  <svg xmlns=\"http://www.w3.org/2000/svg\" height=\"24px\"viewBox=\"0 0 24 24\"\n",
              "       width=\"24px\">\n",
              "    <path d=\"M0 0h24v24H0V0z\" fill=\"none\"/>\n",
              "    <path d=\"M18.56 5.44l.94 2.06.94-2.06 2.06-.94-2.06-.94-.94-2.06-.94 2.06-2.06.94zm-11 1L8.5 8.5l.94-2.06 2.06-.94-2.06-.94L8.5 2.5l-.94 2.06-2.06.94zm10 10l.94 2.06.94-2.06 2.06-.94-2.06-.94-.94-2.06-.94 2.06-2.06.94z\"/><path d=\"M17.41 7.96l-1.37-1.37c-.4-.4-.92-.59-1.43-.59-.52 0-1.04.2-1.43.59L10.3 9.45l-7.72 7.72c-.78.78-.78 2.05 0 2.83L4 21.41c.39.39.9.59 1.41.59.51 0 1.02-.2 1.41-.59l7.78-7.78 2.81-2.81c.8-.78.8-2.07 0-2.86zM5.41 20L4 18.59l7.72-7.72 1.47 1.35L5.41 20z\"/>\n",
              "  </svg>\n",
              "      </button>\n",
              "      \n",
              "  <style>\n",
              "    .colab-df-container {\n",
              "      display:flex;\n",
              "      flex-wrap:wrap;\n",
              "      gap: 12px;\n",
              "    }\n",
              "\n",
              "    .colab-df-convert {\n",
              "      background-color: #E8F0FE;\n",
              "      border: none;\n",
              "      border-radius: 50%;\n",
              "      cursor: pointer;\n",
              "      display: none;\n",
              "      fill: #1967D2;\n",
              "      height: 32px;\n",
              "      padding: 0 0 0 0;\n",
              "      width: 32px;\n",
              "    }\n",
              "\n",
              "    .colab-df-convert:hover {\n",
              "      background-color: #E2EBFA;\n",
              "      box-shadow: 0px 1px 2px rgba(60, 64, 67, 0.3), 0px 1px 3px 1px rgba(60, 64, 67, 0.15);\n",
              "      fill: #174EA6;\n",
              "    }\n",
              "\n",
              "    [theme=dark] .colab-df-convert {\n",
              "      background-color: #3B4455;\n",
              "      fill: #D2E3FC;\n",
              "    }\n",
              "\n",
              "    [theme=dark] .colab-df-convert:hover {\n",
              "      background-color: #434B5C;\n",
              "      box-shadow: 0px 1px 3px 1px rgba(0, 0, 0, 0.15);\n",
              "      filter: drop-shadow(0px 1px 2px rgba(0, 0, 0, 0.3));\n",
              "      fill: #FFFFFF;\n",
              "    }\n",
              "  </style>\n",
              "\n",
              "      <script>\n",
              "        const buttonEl =\n",
              "          document.querySelector('#df-d9c69706-80d7-47d5-b758-fe4cae9e6010 button.colab-df-convert');\n",
              "        buttonEl.style.display =\n",
              "          google.colab.kernel.accessAllowed ? 'block' : 'none';\n",
              "\n",
              "        async function convertToInteractive(key) {\n",
              "          const element = document.querySelector('#df-d9c69706-80d7-47d5-b758-fe4cae9e6010');\n",
              "          const dataTable =\n",
              "            await google.colab.kernel.invokeFunction('convertToInteractive',\n",
              "                                                     [key], {});\n",
              "          if (!dataTable) return;\n",
              "\n",
              "          const docLinkHtml = 'Like what you see? Visit the ' +\n",
              "            '<a target=\"_blank\" href=https://colab.research.google.com/notebooks/data_table.ipynb>data table notebook</a>'\n",
              "            + ' to learn more about interactive tables.';\n",
              "          element.innerHTML = '';\n",
              "          dataTable['output_type'] = 'display_data';\n",
              "          await google.colab.output.renderOutput(dataTable, element);\n",
              "          const docLink = document.createElement('div');\n",
              "          docLink.innerHTML = docLinkHtml;\n",
              "          element.appendChild(docLink);\n",
              "        }\n",
              "      </script>\n",
              "    </div>\n",
              "  </div>\n",
              "  "
            ]
          },
          "metadata": {},
          "execution_count": 43
        }
      ]
    },
    {
      "cell_type": "code",
      "source": [
        "df1 = df.dropna()\n",
        "df1.shape"
      ],
      "metadata": {
        "colab": {
          "base_uri": "https://localhost:8080/"
        },
        "id": "knQfDvPF9H2w",
        "outputId": "7faf6e10-05e0-4d6b-d6d0-c48a26aa06cf"
      },
      "execution_count": 45,
      "outputs": [
        {
          "output_type": "execute_result",
          "data": {
            "text/plain": [
              "(26560620, 9)"
            ]
          },
          "metadata": {},
          "execution_count": 45
        }
      ]
    },
    {
      "cell_type": "code",
      "source": [
        "selected_data = data.drop(columns = ['event_time', 'brand', 'user_session'])"
      ],
      "metadata": {
        "id": "WhlJ52P1H3SJ"
      },
      "execution_count": null,
      "outputs": []
    },
    {
      "cell_type": "code",
      "source": [
        "sd = selected_data.dropna()\n",
        "sd.shape"
      ],
      "metadata": {
        "colab": {
          "base_uri": "https://localhost:8080/"
        },
        "id": "OuoxCKN2LLjW",
        "outputId": "094465fd-d353-4239-d8f5-7cfef47a2ad3"
      },
      "execution_count": null,
      "outputs": [
        {
          "output_type": "execute_result",
          "data": {
            "text/plain": [
              "(28933155, 6)"
            ]
          },
          "metadata": {},
          "execution_count": 17
        }
      ]
    },
    {
      "cell_type": "code",
      "source": [
        "sd"
      ],
      "metadata": {
        "colab": {
          "base_uri": "https://localhost:8080/",
          "height": 467
        },
        "id": "RvCvBWOfMVQL",
        "outputId": "5d9e718b-4203-4b6d-a135-ed2b8da7b36a"
      },
      "execution_count": null,
      "outputs": [
        {
          "output_type": "execute_result",
          "data": {
            "text/plain": [
              "         event_type  product_id          category_id  \\\n",
              "1              view     3900821  2053013552326770905   \n",
              "2              view    17200506  2053013559792632471   \n",
              "3              view     1307067  2053013558920217191   \n",
              "4              view     1004237  2053013555631882655   \n",
              "5              view     1480613  2053013561092866779   \n",
              "...             ...         ...                  ...   \n",
              "42448757       view     1004870  2053013555631882655   \n",
              "42448758       view     2702331  2053013563911439225   \n",
              "42448759       view     2300275  2053013560530830019   \n",
              "42448761       view     5701038  2053013553970938175   \n",
              "42448762       view    21407424  2053013561579406073   \n",
              "\n",
              "                                category_code    price    user_id  \n",
              "1         appliances.environment.water_heater    33.20  554748717  \n",
              "2                  furniture.living_room.sofa   543.10  519107250  \n",
              "3                          computers.notebook   251.74  550050854  \n",
              "4                      electronics.smartphone  1081.98  535871217  \n",
              "5                           computers.desktop   908.62  512742880  \n",
              "...                                       ...      ...        ...  \n",
              "42448757               electronics.smartphone   275.25  518956209  \n",
              "42448758     appliances.kitchen.refrigerators   527.43  524356542  \n",
              "42448759             electronics.camera.video   527.40  537931532  \n",
              "42448761              auto.accessories.player   128.70  566280422  \n",
              "42448762                   electronics.clocks   689.85  513118352  \n",
              "\n",
              "[28933155 rows x 6 columns]"
            ],
            "text/html": [
              "\n",
              "  <div id=\"df-9c1dc731-e6f3-49af-b726-1fe97719c0fd\">\n",
              "    <div class=\"colab-df-container\">\n",
              "      <div>\n",
              "<style scoped>\n",
              "    .dataframe tbody tr th:only-of-type {\n",
              "        vertical-align: middle;\n",
              "    }\n",
              "\n",
              "    .dataframe tbody tr th {\n",
              "        vertical-align: top;\n",
              "    }\n",
              "\n",
              "    .dataframe thead th {\n",
              "        text-align: right;\n",
              "    }\n",
              "</style>\n",
              "<table border=\"1\" class=\"dataframe\">\n",
              "  <thead>\n",
              "    <tr style=\"text-align: right;\">\n",
              "      <th></th>\n",
              "      <th>event_type</th>\n",
              "      <th>product_id</th>\n",
              "      <th>category_id</th>\n",
              "      <th>category_code</th>\n",
              "      <th>price</th>\n",
              "      <th>user_id</th>\n",
              "    </tr>\n",
              "  </thead>\n",
              "  <tbody>\n",
              "    <tr>\n",
              "      <th>1</th>\n",
              "      <td>view</td>\n",
              "      <td>3900821</td>\n",
              "      <td>2053013552326770905</td>\n",
              "      <td>appliances.environment.water_heater</td>\n",
              "      <td>33.20</td>\n",
              "      <td>554748717</td>\n",
              "    </tr>\n",
              "    <tr>\n",
              "      <th>2</th>\n",
              "      <td>view</td>\n",
              "      <td>17200506</td>\n",
              "      <td>2053013559792632471</td>\n",
              "      <td>furniture.living_room.sofa</td>\n",
              "      <td>543.10</td>\n",
              "      <td>519107250</td>\n",
              "    </tr>\n",
              "    <tr>\n",
              "      <th>3</th>\n",
              "      <td>view</td>\n",
              "      <td>1307067</td>\n",
              "      <td>2053013558920217191</td>\n",
              "      <td>computers.notebook</td>\n",
              "      <td>251.74</td>\n",
              "      <td>550050854</td>\n",
              "    </tr>\n",
              "    <tr>\n",
              "      <th>4</th>\n",
              "      <td>view</td>\n",
              "      <td>1004237</td>\n",
              "      <td>2053013555631882655</td>\n",
              "      <td>electronics.smartphone</td>\n",
              "      <td>1081.98</td>\n",
              "      <td>535871217</td>\n",
              "    </tr>\n",
              "    <tr>\n",
              "      <th>5</th>\n",
              "      <td>view</td>\n",
              "      <td>1480613</td>\n",
              "      <td>2053013561092866779</td>\n",
              "      <td>computers.desktop</td>\n",
              "      <td>908.62</td>\n",
              "      <td>512742880</td>\n",
              "    </tr>\n",
              "    <tr>\n",
              "      <th>...</th>\n",
              "      <td>...</td>\n",
              "      <td>...</td>\n",
              "      <td>...</td>\n",
              "      <td>...</td>\n",
              "      <td>...</td>\n",
              "      <td>...</td>\n",
              "    </tr>\n",
              "    <tr>\n",
              "      <th>42448757</th>\n",
              "      <td>view</td>\n",
              "      <td>1004870</td>\n",
              "      <td>2053013555631882655</td>\n",
              "      <td>electronics.smartphone</td>\n",
              "      <td>275.25</td>\n",
              "      <td>518956209</td>\n",
              "    </tr>\n",
              "    <tr>\n",
              "      <th>42448758</th>\n",
              "      <td>view</td>\n",
              "      <td>2702331</td>\n",
              "      <td>2053013563911439225</td>\n",
              "      <td>appliances.kitchen.refrigerators</td>\n",
              "      <td>527.43</td>\n",
              "      <td>524356542</td>\n",
              "    </tr>\n",
              "    <tr>\n",
              "      <th>42448759</th>\n",
              "      <td>view</td>\n",
              "      <td>2300275</td>\n",
              "      <td>2053013560530830019</td>\n",
              "      <td>electronics.camera.video</td>\n",
              "      <td>527.40</td>\n",
              "      <td>537931532</td>\n",
              "    </tr>\n",
              "    <tr>\n",
              "      <th>42448761</th>\n",
              "      <td>view</td>\n",
              "      <td>5701038</td>\n",
              "      <td>2053013553970938175</td>\n",
              "      <td>auto.accessories.player</td>\n",
              "      <td>128.70</td>\n",
              "      <td>566280422</td>\n",
              "    </tr>\n",
              "    <tr>\n",
              "      <th>42448762</th>\n",
              "      <td>view</td>\n",
              "      <td>21407424</td>\n",
              "      <td>2053013561579406073</td>\n",
              "      <td>electronics.clocks</td>\n",
              "      <td>689.85</td>\n",
              "      <td>513118352</td>\n",
              "    </tr>\n",
              "  </tbody>\n",
              "</table>\n",
              "<p>28933155 rows × 6 columns</p>\n",
              "</div>\n",
              "      <button class=\"colab-df-convert\" onclick=\"convertToInteractive('df-9c1dc731-e6f3-49af-b726-1fe97719c0fd')\"\n",
              "              title=\"Convert this dataframe to an interactive table.\"\n",
              "              style=\"display:none;\">\n",
              "        \n",
              "  <svg xmlns=\"http://www.w3.org/2000/svg\" height=\"24px\"viewBox=\"0 0 24 24\"\n",
              "       width=\"24px\">\n",
              "    <path d=\"M0 0h24v24H0V0z\" fill=\"none\"/>\n",
              "    <path d=\"M18.56 5.44l.94 2.06.94-2.06 2.06-.94-2.06-.94-.94-2.06-.94 2.06-2.06.94zm-11 1L8.5 8.5l.94-2.06 2.06-.94-2.06-.94L8.5 2.5l-.94 2.06-2.06.94zm10 10l.94 2.06.94-2.06 2.06-.94-2.06-.94-.94-2.06-.94 2.06-2.06.94z\"/><path d=\"M17.41 7.96l-1.37-1.37c-.4-.4-.92-.59-1.43-.59-.52 0-1.04.2-1.43.59L10.3 9.45l-7.72 7.72c-.78.78-.78 2.05 0 2.83L4 21.41c.39.39.9.59 1.41.59.51 0 1.02-.2 1.41-.59l7.78-7.78 2.81-2.81c.8-.78.8-2.07 0-2.86zM5.41 20L4 18.59l7.72-7.72 1.47 1.35L5.41 20z\"/>\n",
              "  </svg>\n",
              "      </button>\n",
              "      \n",
              "  <style>\n",
              "    .colab-df-container {\n",
              "      display:flex;\n",
              "      flex-wrap:wrap;\n",
              "      gap: 12px;\n",
              "    }\n",
              "\n",
              "    .colab-df-convert {\n",
              "      background-color: #E8F0FE;\n",
              "      border: none;\n",
              "      border-radius: 50%;\n",
              "      cursor: pointer;\n",
              "      display: none;\n",
              "      fill: #1967D2;\n",
              "      height: 32px;\n",
              "      padding: 0 0 0 0;\n",
              "      width: 32px;\n",
              "    }\n",
              "\n",
              "    .colab-df-convert:hover {\n",
              "      background-color: #E2EBFA;\n",
              "      box-shadow: 0px 1px 2px rgba(60, 64, 67, 0.3), 0px 1px 3px 1px rgba(60, 64, 67, 0.15);\n",
              "      fill: #174EA6;\n",
              "    }\n",
              "\n",
              "    [theme=dark] .colab-df-convert {\n",
              "      background-color: #3B4455;\n",
              "      fill: #D2E3FC;\n",
              "    }\n",
              "\n",
              "    [theme=dark] .colab-df-convert:hover {\n",
              "      background-color: #434B5C;\n",
              "      box-shadow: 0px 1px 3px 1px rgba(0, 0, 0, 0.15);\n",
              "      filter: drop-shadow(0px 1px 2px rgba(0, 0, 0, 0.3));\n",
              "      fill: #FFFFFF;\n",
              "    }\n",
              "  </style>\n",
              "\n",
              "      <script>\n",
              "        const buttonEl =\n",
              "          document.querySelector('#df-9c1dc731-e6f3-49af-b726-1fe97719c0fd button.colab-df-convert');\n",
              "        buttonEl.style.display =\n",
              "          google.colab.kernel.accessAllowed ? 'block' : 'none';\n",
              "\n",
              "        async function convertToInteractive(key) {\n",
              "          const element = document.querySelector('#df-9c1dc731-e6f3-49af-b726-1fe97719c0fd');\n",
              "          const dataTable =\n",
              "            await google.colab.kernel.invokeFunction('convertToInteractive',\n",
              "                                                     [key], {});\n",
              "          if (!dataTable) return;\n",
              "\n",
              "          const docLinkHtml = 'Like what you see? Visit the ' +\n",
              "            '<a target=\"_blank\" href=https://colab.research.google.com/notebooks/data_table.ipynb>data table notebook</a>'\n",
              "            + ' to learn more about interactive tables.';\n",
              "          element.innerHTML = '';\n",
              "          dataTable['output_type'] = 'display_data';\n",
              "          await google.colab.output.renderOutput(dataTable, element);\n",
              "          const docLink = document.createElement('div');\n",
              "          docLink.innerHTML = docLinkHtml;\n",
              "          element.appendChild(docLink);\n",
              "        }\n",
              "      </script>\n",
              "    </div>\n",
              "  </div>\n",
              "  "
            ]
          },
          "metadata": {},
          "execution_count": 19
        }
      ]
    },
    {
      "cell_type": "code",
      "source": [
        "# x = sd.DataFrame(columns=['event_type','product_id' ,'category_id' ,'category_code','price' ,'user_id'])\n",
        "sd.to_csv('drive/MyDrive/Dataset/selected.csv')"
      ],
      "metadata": {
        "id": "0xoixHgRLjgO"
      },
      "execution_count": null,
      "outputs": []
    },
    {
      "cell_type": "markdown",
      "source": [
        "# Import Data"
      ],
      "metadata": {
        "id": "maKa8mWm8-Kj"
      }
    },
    {
      "cell_type": "code",
      "source": [
        "import pandas as pd\n",
        "data_frame = pd.read_csv(\"drive/MyDrive/Dataset/selected.csv\")\n",
        "data_frame.head()"
      ],
      "metadata": {
        "colab": {
          "base_uri": "https://localhost:8080/",
          "height": 206
        },
        "id": "20cSVFPBqcPT",
        "outputId": "13f92e90-0053-4609-8bf7-a815c828adbd"
      },
      "execution_count": 2,
      "outputs": [
        {
          "output_type": "execute_result",
          "data": {
            "text/plain": [
              "   Unnamed: 0 event_type  product_id          category_id  \\\n",
              "0           1       view     3900821  2053013552326770905   \n",
              "1           2       view    17200506  2053013559792632471   \n",
              "2           3       view     1307067  2053013558920217191   \n",
              "3           4       view     1004237  2053013555631882655   \n",
              "4           5       view     1480613  2053013561092866779   \n",
              "\n",
              "                         category_code    price    user_id  \n",
              "0  appliances.environment.water_heater    33.20  554748717  \n",
              "1           furniture.living_room.sofa   543.10  519107250  \n",
              "2                   computers.notebook   251.74  550050854  \n",
              "3               electronics.smartphone  1081.98  535871217  \n",
              "4                    computers.desktop   908.62  512742880  "
            ],
            "text/html": [
              "\n",
              "  <div id=\"df-425644da-97a9-45d6-86f0-a6642cb679f2\">\n",
              "    <div class=\"colab-df-container\">\n",
              "      <div>\n",
              "<style scoped>\n",
              "    .dataframe tbody tr th:only-of-type {\n",
              "        vertical-align: middle;\n",
              "    }\n",
              "\n",
              "    .dataframe tbody tr th {\n",
              "        vertical-align: top;\n",
              "    }\n",
              "\n",
              "    .dataframe thead th {\n",
              "        text-align: right;\n",
              "    }\n",
              "</style>\n",
              "<table border=\"1\" class=\"dataframe\">\n",
              "  <thead>\n",
              "    <tr style=\"text-align: right;\">\n",
              "      <th></th>\n",
              "      <th>Unnamed: 0</th>\n",
              "      <th>event_type</th>\n",
              "      <th>product_id</th>\n",
              "      <th>category_id</th>\n",
              "      <th>category_code</th>\n",
              "      <th>price</th>\n",
              "      <th>user_id</th>\n",
              "    </tr>\n",
              "  </thead>\n",
              "  <tbody>\n",
              "    <tr>\n",
              "      <th>0</th>\n",
              "      <td>1</td>\n",
              "      <td>view</td>\n",
              "      <td>3900821</td>\n",
              "      <td>2053013552326770905</td>\n",
              "      <td>appliances.environment.water_heater</td>\n",
              "      <td>33.20</td>\n",
              "      <td>554748717</td>\n",
              "    </tr>\n",
              "    <tr>\n",
              "      <th>1</th>\n",
              "      <td>2</td>\n",
              "      <td>view</td>\n",
              "      <td>17200506</td>\n",
              "      <td>2053013559792632471</td>\n",
              "      <td>furniture.living_room.sofa</td>\n",
              "      <td>543.10</td>\n",
              "      <td>519107250</td>\n",
              "    </tr>\n",
              "    <tr>\n",
              "      <th>2</th>\n",
              "      <td>3</td>\n",
              "      <td>view</td>\n",
              "      <td>1307067</td>\n",
              "      <td>2053013558920217191</td>\n",
              "      <td>computers.notebook</td>\n",
              "      <td>251.74</td>\n",
              "      <td>550050854</td>\n",
              "    </tr>\n",
              "    <tr>\n",
              "      <th>3</th>\n",
              "      <td>4</td>\n",
              "      <td>view</td>\n",
              "      <td>1004237</td>\n",
              "      <td>2053013555631882655</td>\n",
              "      <td>electronics.smartphone</td>\n",
              "      <td>1081.98</td>\n",
              "      <td>535871217</td>\n",
              "    </tr>\n",
              "    <tr>\n",
              "      <th>4</th>\n",
              "      <td>5</td>\n",
              "      <td>view</td>\n",
              "      <td>1480613</td>\n",
              "      <td>2053013561092866779</td>\n",
              "      <td>computers.desktop</td>\n",
              "      <td>908.62</td>\n",
              "      <td>512742880</td>\n",
              "    </tr>\n",
              "  </tbody>\n",
              "</table>\n",
              "</div>\n",
              "      <button class=\"colab-df-convert\" onclick=\"convertToInteractive('df-425644da-97a9-45d6-86f0-a6642cb679f2')\"\n",
              "              title=\"Convert this dataframe to an interactive table.\"\n",
              "              style=\"display:none;\">\n",
              "        \n",
              "  <svg xmlns=\"http://www.w3.org/2000/svg\" height=\"24px\"viewBox=\"0 0 24 24\"\n",
              "       width=\"24px\">\n",
              "    <path d=\"M0 0h24v24H0V0z\" fill=\"none\"/>\n",
              "    <path d=\"M18.56 5.44l.94 2.06.94-2.06 2.06-.94-2.06-.94-.94-2.06-.94 2.06-2.06.94zm-11 1L8.5 8.5l.94-2.06 2.06-.94-2.06-.94L8.5 2.5l-.94 2.06-2.06.94zm10 10l.94 2.06.94-2.06 2.06-.94-2.06-.94-.94-2.06-.94 2.06-2.06.94z\"/><path d=\"M17.41 7.96l-1.37-1.37c-.4-.4-.92-.59-1.43-.59-.52 0-1.04.2-1.43.59L10.3 9.45l-7.72 7.72c-.78.78-.78 2.05 0 2.83L4 21.41c.39.39.9.59 1.41.59.51 0 1.02-.2 1.41-.59l7.78-7.78 2.81-2.81c.8-.78.8-2.07 0-2.86zM5.41 20L4 18.59l7.72-7.72 1.47 1.35L5.41 20z\"/>\n",
              "  </svg>\n",
              "      </button>\n",
              "      \n",
              "  <style>\n",
              "    .colab-df-container {\n",
              "      display:flex;\n",
              "      flex-wrap:wrap;\n",
              "      gap: 12px;\n",
              "    }\n",
              "\n",
              "    .colab-df-convert {\n",
              "      background-color: #E8F0FE;\n",
              "      border: none;\n",
              "      border-radius: 50%;\n",
              "      cursor: pointer;\n",
              "      display: none;\n",
              "      fill: #1967D2;\n",
              "      height: 32px;\n",
              "      padding: 0 0 0 0;\n",
              "      width: 32px;\n",
              "    }\n",
              "\n",
              "    .colab-df-convert:hover {\n",
              "      background-color: #E2EBFA;\n",
              "      box-shadow: 0px 1px 2px rgba(60, 64, 67, 0.3), 0px 1px 3px 1px rgba(60, 64, 67, 0.15);\n",
              "      fill: #174EA6;\n",
              "    }\n",
              "\n",
              "    [theme=dark] .colab-df-convert {\n",
              "      background-color: #3B4455;\n",
              "      fill: #D2E3FC;\n",
              "    }\n",
              "\n",
              "    [theme=dark] .colab-df-convert:hover {\n",
              "      background-color: #434B5C;\n",
              "      box-shadow: 0px 1px 3px 1px rgba(0, 0, 0, 0.15);\n",
              "      filter: drop-shadow(0px 1px 2px rgba(0, 0, 0, 0.3));\n",
              "      fill: #FFFFFF;\n",
              "    }\n",
              "  </style>\n",
              "\n",
              "      <script>\n",
              "        const buttonEl =\n",
              "          document.querySelector('#df-425644da-97a9-45d6-86f0-a6642cb679f2 button.colab-df-convert');\n",
              "        buttonEl.style.display =\n",
              "          google.colab.kernel.accessAllowed ? 'block' : 'none';\n",
              "\n",
              "        async function convertToInteractive(key) {\n",
              "          const element = document.querySelector('#df-425644da-97a9-45d6-86f0-a6642cb679f2');\n",
              "          const dataTable =\n",
              "            await google.colab.kernel.invokeFunction('convertToInteractive',\n",
              "                                                     [key], {});\n",
              "          if (!dataTable) return;\n",
              "\n",
              "          const docLinkHtml = 'Like what you see? Visit the ' +\n",
              "            '<a target=\"_blank\" href=https://colab.research.google.com/notebooks/data_table.ipynb>data table notebook</a>'\n",
              "            + ' to learn more about interactive tables.';\n",
              "          element.innerHTML = '';\n",
              "          dataTable['output_type'] = 'display_data';\n",
              "          await google.colab.output.renderOutput(dataTable, element);\n",
              "          const docLink = document.createElement('div');\n",
              "          docLink.innerHTML = docLinkHtml;\n",
              "          element.appendChild(docLink);\n",
              "        }\n",
              "      </script>\n",
              "    </div>\n",
              "  </div>\n",
              "  "
            ]
          },
          "metadata": {},
          "execution_count": 2
        }
      ]
    },
    {
      "cell_type": "code",
      "source": [
        "data_frame.shape"
      ],
      "metadata": {
        "colab": {
          "base_uri": "https://localhost:8080/"
        },
        "id": "bOF_IWgTtbDr",
        "outputId": "963b87c2-9019-46c5-9242-4642ae1205dc"
      },
      "execution_count": 3,
      "outputs": [
        {
          "output_type": "execute_result",
          "data": {
            "text/plain": [
              "(28933155, 7)"
            ]
          },
          "metadata": {},
          "execution_count": 3
        }
      ]
    },
    {
      "cell_type": "code",
      "source": [
        "data_frame.columns"
      ],
      "metadata": {
        "colab": {
          "base_uri": "https://localhost:8080/"
        },
        "id": "E-rv4yXSynZK",
        "outputId": "49771d80-8708-4217-a8ad-168151d14593"
      },
      "execution_count": 3,
      "outputs": [
        {
          "output_type": "execute_result",
          "data": {
            "text/plain": [
              "Index(['Unnamed: 0', 'event_type', 'product_id', 'category_id',\n",
              "       'category_code', 'price', 'user_id'],\n",
              "      dtype='object')"
            ]
          },
          "metadata": {},
          "execution_count": 3
        }
      ]
    },
    {
      "cell_type": "markdown",
      "source": [
        "## currency change"
      ],
      "metadata": {
        "id": "l3XIi0-vsKPT"
      }
    },
    {
      "cell_type": "code",
      "source": [
        "# df2 = data\n",
        "# df2['price'] = df2['price'] * 51.20\n",
        "# df2.tail()"
      ],
      "metadata": {
        "id": "tXw-OdV2rlte"
      },
      "execution_count": null,
      "outputs": []
    },
    {
      "cell_type": "code",
      "source": [
        "pr = data_frame['product_id'].nunique()\n",
        "print (\"Number of Products: {}\".format(pr))"
      ],
      "metadata": {
        "colab": {
          "base_uri": "https://localhost:8080/"
        },
        "id": "AEqVWcOJ1QY8",
        "outputId": "3916a9ec-c841-4646-d076-bcd4ccfe9ca1"
      },
      "execution_count": null,
      "outputs": [
        {
          "output_type": "stream",
          "name": "stdout",
          "text": [
            "Number of Products: 73150\n"
          ]
        }
      ]
    },
    {
      "cell_type": "code",
      "source": [
        "data_frame['category_code'].unique()"
      ],
      "metadata": {
        "colab": {
          "base_uri": "https://localhost:8080/"
        },
        "id": "HsS265CHs6mo",
        "outputId": "a79d2590-8be6-47a2-ce50-345401010cf8"
      },
      "execution_count": null,
      "outputs": [
        {
          "output_type": "execute_result",
          "data": {
            "text/plain": [
              "array(['appliances.environment.water_heater',\n",
              "       'furniture.living_room.sofa', 'computers.notebook',\n",
              "       'electronics.smartphone', 'computers.desktop',\n",
              "       'apparel.shoes.keds', 'appliances.kitchen.microwave',\n",
              "       'furniture.bedroom.bed', 'electronics.video.tv',\n",
              "       'appliances.kitchen.mixer', 'electronics.audio.headphone',\n",
              "       'appliances.environment.air_heater', 'apparel.shoes',\n",
              "       'appliances.environment.vacuum',\n",
              "       'appliances.kitchen.refrigerators', 'appliances.kitchen.washer',\n",
              "       'computers.peripherals.monitor', 'construction.tools.pump',\n",
              "       'electronics.clocks', 'apparel.shoes.slipons',\n",
              "       'furniture.living_room.chair', 'auto.accessories.compressor',\n",
              "       'appliances.kitchen.meat_grinder',\n",
              "       'computers.components.videocards', 'furniture.kitchen.table',\n",
              "       'construction.tools.drill', 'kids.toys', 'electronics.telephone',\n",
              "       'furniture.bathroom.toilet', 'auto.accessories.alarm',\n",
              "       'apparel.sock', 'auto.accessories.player',\n",
              "       'appliances.kitchen.grill', 'electronics.tablet',\n",
              "       'appliances.kitchen.dishwasher', 'appliances.personal.hair_cutter',\n",
              "       'kids.skates', 'appliances.kitchen.coffee_machine',\n",
              "       'appliances.environment.air_conditioner',\n",
              "       'electronics.audio.subwoofer', 'appliances.kitchen.blender',\n",
              "       'appliances.sewing_machine', 'sport.trainer',\n",
              "       'electronics.camera.video', 'construction.tools.welding',\n",
              "       'auto.accessories.videoregister', 'appliances.kitchen.kettle',\n",
              "       'furniture.living_room.cabinet', 'accessories.bag',\n",
              "       'computers.peripherals.keyboard', 'construction.tools.saw',\n",
              "       'medicine.tools.tonometer', 'computers.components.motherboard',\n",
              "       'apparel.trousers', 'appliances.kitchen.oven',\n",
              "       'electronics.audio.music_tools.piano',\n",
              "       'computers.peripherals.mouse', 'construction.tools.generator',\n",
              "       'sport.bicycle', 'computers.peripherals.printer',\n",
              "       'stationery.cartrige', 'appliances.ironing_board',\n",
              "       'electronics.audio.acoustic', 'furniture.kitchen.chair',\n",
              "       'accessories.umbrella', 'electronics.camera.photo',\n",
              "       'computers.components.memory', 'apparel.shoes.moccasins',\n",
              "       'kids.fmcg.diapers', 'computers.ebooks', 'apparel.dress',\n",
              "       'accessories.wallet', 'furniture.bedroom.pillow',\n",
              "       'computers.components.power_supply',\n",
              "       'construction.components.faucet', 'electronics.audio.microphone',\n",
              "       'appliances.iron', 'kids.carriage', 'computers.components.cpu',\n",
              "       'appliances.kitchen.toster', 'appliances.kitchen.hob',\n",
              "       'sport.snowboard', 'appliances.kitchen.steam_cooker',\n",
              "       'computers.components.hdd', 'apparel.underwear',\n",
              "       'auto.accessories.radar', 'appliances.kitchen.hood',\n",
              "       'electronics.video.projector', 'furniture.bathroom.bath',\n",
              "       'apparel.shoes.sandals', 'construction.tools.light', 'kids.dolls',\n",
              "       'country_yard.furniture.hammok', 'auto.accessories.winch',\n",
              "       'furniture.bedroom.blanket', 'appliances.kitchen.coffee_grinder',\n",
              "       'apparel.tshirt', 'computers.components.cooler', 'apparel.costume',\n",
              "       'apparel.shirt', 'sport.tennis', 'auto.accessories.parktronic',\n",
              "       'apparel.scarf', 'appliances.personal.scales',\n",
              "       'furniture.universal.light', 'kids.swing',\n",
              "       'appliances.kitchen.juicer', 'apparel.shoes.espadrilles',\n",
              "       'country_yard.cultivator', 'apparel.shoes.step_ins',\n",
              "       'apparel.jacket', 'apparel.shoes.ballet_shoes', 'apparel.skirt',\n",
              "       'apparel.jeans', 'sport.ski', 'construction.tools.painting',\n",
              "       'country_yard.lawn_mower', 'country_yard.furniture.bench',\n",
              "       'appliances.personal.massager', 'appliances.environment.fan',\n",
              "       'computers.peripherals.camera', 'apparel.belt', 'apparel.shorts',\n",
              "       'construction.tools.soldering', 'apparel.jumper',\n",
              "       'auto.accessories.anti_freeze'], dtype=object)"
            ]
          },
          "metadata": {},
          "execution_count": 10
        }
      ]
    },
    {
      "cell_type": "code",
      "source": [
        "data_frame.info()"
      ],
      "metadata": {
        "colab": {
          "base_uri": "https://localhost:8080/"
        },
        "id": "Jwj6riVrv_vX",
        "outputId": "38b7f2e6-8fd4-4d76-ec3b-d36cd9c87465"
      },
      "execution_count": null,
      "outputs": [
        {
          "output_type": "stream",
          "name": "stdout",
          "text": [
            "<class 'pandas.core.frame.DataFrame'>\n",
            "RangeIndex: 28933155 entries, 0 to 28933154\n",
            "Data columns (total 7 columns):\n",
            " #   Column         Dtype  \n",
            "---  ------         -----  \n",
            " 0   Unnamed: 0     int64  \n",
            " 1   event_type     object \n",
            " 2   product_id     int64  \n",
            " 3   category_id    int64  \n",
            " 4   category_code  object \n",
            " 5   price          float64\n",
            " 6   user_id        int64  \n",
            "dtypes: float64(1), int64(4), object(2)\n",
            "memory usage: 1.5+ GB\n"
          ]
        }
      ]
    },
    {
      "cell_type": "code",
      "source": [
        "data_frame['category_code'].unique().shape"
      ],
      "metadata": {
        "colab": {
          "base_uri": "https://localhost:8080/"
        },
        "id": "Mjs2qzF0r0Bq",
        "outputId": "e9ec5b6f-0085-4c7e-b7c7-4d1cfdaad151"
      },
      "execution_count": null,
      "outputs": [
        {
          "output_type": "execute_result",
          "data": {
            "text/plain": [
              "(126,)"
            ]
          },
          "metadata": {},
          "execution_count": 12
        }
      ]
    },
    {
      "cell_type": "code",
      "source": [
        "data_frame['event_type'].value_counts()"
      ],
      "metadata": {
        "colab": {
          "base_uri": "https://localhost:8080/"
        },
        "id": "brENoOIpt5t5",
        "outputId": "5ef08f01-84aa-4296-b1b0-29e92946a9cd"
      },
      "execution_count": null,
      "outputs": [
        {
          "output_type": "execute_result",
          "data": {
            "text/plain": [
              "view        27542941\n",
              "cart          820790\n",
              "purchase      569424\n",
              "Name: event_type, dtype: int64"
            ]
          },
          "metadata": {},
          "execution_count": 13
        }
      ]
    },
    {
      "cell_type": "code",
      "source": [
        "visitor = data_frame['user_id'].nunique()\n",
        "print (\"visitors: {}\".format(visitor))"
      ],
      "metadata": {
        "colab": {
          "base_uri": "https://localhost:8080/"
        },
        "id": "ATDRnkVYy5is",
        "outputId": "23666b00-32fa-4188-ffe0-5784a0b142c3"
      },
      "execution_count": null,
      "outputs": [
        {
          "output_type": "stream",
          "name": "stdout",
          "text": [
            "visitors: 2408159\n"
          ]
        }
      ]
    },
    {
      "cell_type": "code",
      "source": [
        "data_frame['event_type'].unique()"
      ],
      "metadata": {
        "colab": {
          "base_uri": "https://localhost:8080/"
        },
        "id": "vsvk8YlBmUTz",
        "outputId": "5f05ce6c-6cfa-476b-ddac-396637cb0a78"
      },
      "execution_count": null,
      "outputs": [
        {
          "output_type": "execute_result",
          "data": {
            "text/plain": [
              "array(['view', 'purchase', 'cart'], dtype=object)"
            ]
          },
          "metadata": {},
          "execution_count": 16
        }
      ]
    },
    {
      "cell_type": "code",
      "source": [
        "data_frame.describe()"
      ],
      "metadata": {
        "colab": {
          "base_uri": "https://localhost:8080/",
          "height": 300
        },
        "id": "ctetALnY2lJt",
        "outputId": "527ed352-cffa-43d3-ddab-1cf5e6b0d4ad"
      },
      "execution_count": null,
      "outputs": [
        {
          "output_type": "execute_result",
          "data": {
            "text/plain": [
              "         Unnamed: 0    product_id   category_id         price       user_id\n",
              "count  2.893316e+07  2.893316e+07  2.893316e+07  2.893316e+07  2.893316e+07\n",
              "mean   2.132714e+07  6.443983e+06  2.056524e+18  3.395646e+02  5.337982e+08\n",
              "std    1.225193e+07  9.641916e+06  1.736897e+16  3.755720e+02  1.856433e+07\n",
              "min    1.000000e+00  1.000978e+06  2.053014e+18  0.000000e+00  3.386938e+07\n",
              "25%    1.072695e+07  1.004870e+06  2.053014e+18  1.003600e+02  5.159537e+08\n",
              "50%    2.147146e+07  1.802026e+06  2.053014e+18  2.007500e+02  5.301598e+08\n",
              "75%    3.191906e+07  5.801574e+06  2.053014e+18  4.321200e+02  5.519934e+08\n",
              "max    4.244876e+07  6.050001e+07  2.173217e+18  2.574070e+03  5.662807e+08"
            ],
            "text/html": [
              "\n",
              "  <div id=\"df-9452e95f-6014-45cb-9023-2dc43e12f7e8\">\n",
              "    <div class=\"colab-df-container\">\n",
              "      <div>\n",
              "<style scoped>\n",
              "    .dataframe tbody tr th:only-of-type {\n",
              "        vertical-align: middle;\n",
              "    }\n",
              "\n",
              "    .dataframe tbody tr th {\n",
              "        vertical-align: top;\n",
              "    }\n",
              "\n",
              "    .dataframe thead th {\n",
              "        text-align: right;\n",
              "    }\n",
              "</style>\n",
              "<table border=\"1\" class=\"dataframe\">\n",
              "  <thead>\n",
              "    <tr style=\"text-align: right;\">\n",
              "      <th></th>\n",
              "      <th>Unnamed: 0</th>\n",
              "      <th>product_id</th>\n",
              "      <th>category_id</th>\n",
              "      <th>price</th>\n",
              "      <th>user_id</th>\n",
              "    </tr>\n",
              "  </thead>\n",
              "  <tbody>\n",
              "    <tr>\n",
              "      <th>count</th>\n",
              "      <td>2.893316e+07</td>\n",
              "      <td>2.893316e+07</td>\n",
              "      <td>2.893316e+07</td>\n",
              "      <td>2.893316e+07</td>\n",
              "      <td>2.893316e+07</td>\n",
              "    </tr>\n",
              "    <tr>\n",
              "      <th>mean</th>\n",
              "      <td>2.132714e+07</td>\n",
              "      <td>6.443983e+06</td>\n",
              "      <td>2.056524e+18</td>\n",
              "      <td>3.395646e+02</td>\n",
              "      <td>5.337982e+08</td>\n",
              "    </tr>\n",
              "    <tr>\n",
              "      <th>std</th>\n",
              "      <td>1.225193e+07</td>\n",
              "      <td>9.641916e+06</td>\n",
              "      <td>1.736897e+16</td>\n",
              "      <td>3.755720e+02</td>\n",
              "      <td>1.856433e+07</td>\n",
              "    </tr>\n",
              "    <tr>\n",
              "      <th>min</th>\n",
              "      <td>1.000000e+00</td>\n",
              "      <td>1.000978e+06</td>\n",
              "      <td>2.053014e+18</td>\n",
              "      <td>0.000000e+00</td>\n",
              "      <td>3.386938e+07</td>\n",
              "    </tr>\n",
              "    <tr>\n",
              "      <th>25%</th>\n",
              "      <td>1.072695e+07</td>\n",
              "      <td>1.004870e+06</td>\n",
              "      <td>2.053014e+18</td>\n",
              "      <td>1.003600e+02</td>\n",
              "      <td>5.159537e+08</td>\n",
              "    </tr>\n",
              "    <tr>\n",
              "      <th>50%</th>\n",
              "      <td>2.147146e+07</td>\n",
              "      <td>1.802026e+06</td>\n",
              "      <td>2.053014e+18</td>\n",
              "      <td>2.007500e+02</td>\n",
              "      <td>5.301598e+08</td>\n",
              "    </tr>\n",
              "    <tr>\n",
              "      <th>75%</th>\n",
              "      <td>3.191906e+07</td>\n",
              "      <td>5.801574e+06</td>\n",
              "      <td>2.053014e+18</td>\n",
              "      <td>4.321200e+02</td>\n",
              "      <td>5.519934e+08</td>\n",
              "    </tr>\n",
              "    <tr>\n",
              "      <th>max</th>\n",
              "      <td>4.244876e+07</td>\n",
              "      <td>6.050001e+07</td>\n",
              "      <td>2.173217e+18</td>\n",
              "      <td>2.574070e+03</td>\n",
              "      <td>5.662807e+08</td>\n",
              "    </tr>\n",
              "  </tbody>\n",
              "</table>\n",
              "</div>\n",
              "      <button class=\"colab-df-convert\" onclick=\"convertToInteractive('df-9452e95f-6014-45cb-9023-2dc43e12f7e8')\"\n",
              "              title=\"Convert this dataframe to an interactive table.\"\n",
              "              style=\"display:none;\">\n",
              "        \n",
              "  <svg xmlns=\"http://www.w3.org/2000/svg\" height=\"24px\"viewBox=\"0 0 24 24\"\n",
              "       width=\"24px\">\n",
              "    <path d=\"M0 0h24v24H0V0z\" fill=\"none\"/>\n",
              "    <path d=\"M18.56 5.44l.94 2.06.94-2.06 2.06-.94-2.06-.94-.94-2.06-.94 2.06-2.06.94zm-11 1L8.5 8.5l.94-2.06 2.06-.94-2.06-.94L8.5 2.5l-.94 2.06-2.06.94zm10 10l.94 2.06.94-2.06 2.06-.94-2.06-.94-.94-2.06-.94 2.06-2.06.94z\"/><path d=\"M17.41 7.96l-1.37-1.37c-.4-.4-.92-.59-1.43-.59-.52 0-1.04.2-1.43.59L10.3 9.45l-7.72 7.72c-.78.78-.78 2.05 0 2.83L4 21.41c.39.39.9.59 1.41.59.51 0 1.02-.2 1.41-.59l7.78-7.78 2.81-2.81c.8-.78.8-2.07 0-2.86zM5.41 20L4 18.59l7.72-7.72 1.47 1.35L5.41 20z\"/>\n",
              "  </svg>\n",
              "      </button>\n",
              "      \n",
              "  <style>\n",
              "    .colab-df-container {\n",
              "      display:flex;\n",
              "      flex-wrap:wrap;\n",
              "      gap: 12px;\n",
              "    }\n",
              "\n",
              "    .colab-df-convert {\n",
              "      background-color: #E8F0FE;\n",
              "      border: none;\n",
              "      border-radius: 50%;\n",
              "      cursor: pointer;\n",
              "      display: none;\n",
              "      fill: #1967D2;\n",
              "      height: 32px;\n",
              "      padding: 0 0 0 0;\n",
              "      width: 32px;\n",
              "    }\n",
              "\n",
              "    .colab-df-convert:hover {\n",
              "      background-color: #E2EBFA;\n",
              "      box-shadow: 0px 1px 2px rgba(60, 64, 67, 0.3), 0px 1px 3px 1px rgba(60, 64, 67, 0.15);\n",
              "      fill: #174EA6;\n",
              "    }\n",
              "\n",
              "    [theme=dark] .colab-df-convert {\n",
              "      background-color: #3B4455;\n",
              "      fill: #D2E3FC;\n",
              "    }\n",
              "\n",
              "    [theme=dark] .colab-df-convert:hover {\n",
              "      background-color: #434B5C;\n",
              "      box-shadow: 0px 1px 3px 1px rgba(0, 0, 0, 0.15);\n",
              "      filter: drop-shadow(0px 1px 2px rgba(0, 0, 0, 0.3));\n",
              "      fill: #FFFFFF;\n",
              "    }\n",
              "  </style>\n",
              "\n",
              "      <script>\n",
              "        const buttonEl =\n",
              "          document.querySelector('#df-9452e95f-6014-45cb-9023-2dc43e12f7e8 button.colab-df-convert');\n",
              "        buttonEl.style.display =\n",
              "          google.colab.kernel.accessAllowed ? 'block' : 'none';\n",
              "\n",
              "        async function convertToInteractive(key) {\n",
              "          const element = document.querySelector('#df-9452e95f-6014-45cb-9023-2dc43e12f7e8');\n",
              "          const dataTable =\n",
              "            await google.colab.kernel.invokeFunction('convertToInteractive',\n",
              "                                                     [key], {});\n",
              "          if (!dataTable) return;\n",
              "\n",
              "          const docLinkHtml = 'Like what you see? Visit the ' +\n",
              "            '<a target=\"_blank\" href=https://colab.research.google.com/notebooks/data_table.ipynb>data table notebook</a>'\n",
              "            + ' to learn more about interactive tables.';\n",
              "          element.innerHTML = '';\n",
              "          dataTable['output_type'] = 'display_data';\n",
              "          await google.colab.output.renderOutput(dataTable, element);\n",
              "          const docLink = document.createElement('div');\n",
              "          docLink.innerHTML = docLinkHtml;\n",
              "          element.appendChild(docLink);\n",
              "        }\n",
              "      </script>\n",
              "    </div>\n",
              "  </div>\n",
              "  "
            ]
          },
          "metadata": {},
          "execution_count": 11
        }
      ]
    },
    {
      "cell_type": "code",
      "source": [
        "plt.xlabel('Price')\n",
        "plt.ylabel('values')\n",
        "data_frame[\"price\"].hist()"
      ],
      "metadata": {
        "colab": {
          "base_uri": "https://localhost:8080/",
          "height": 525
        },
        "id": "sJAId4GFLmXH",
        "outputId": "0b3934ac-1c2a-4a4d-ce6d-05559d7209ab"
      },
      "execution_count": 18,
      "outputs": [
        {
          "output_type": "execute_result",
          "data": {
            "text/plain": [
              "<matplotlib.axes._subplots.AxesSubplot at 0x7fdc4d155910>"
            ]
          },
          "metadata": {},
          "execution_count": 18
        },
        {
          "output_type": "display_data",
          "data": {
            "text/plain": [
              "<Figure size 576x576 with 1 Axes>"
            ],
            "image/png": "[encoded data removed]"
          },
          "metadata": {
            "needs_background": "light"
          }
        }
      ]
    },
    {
      "cell_type": "code",
      "source": [
        "data_frame[data_frame['price']>500]"
      ],
      "metadata": {
        "colab": {
          "base_uri": "https://localhost:8080/",
          "height": 423
        },
        "id": "W5qtB_ufVx6p",
        "outputId": "e0175182-f7cc-4a9b-b1f5-5a31d387a3f0"
      },
      "execution_count": 12,
      "outputs": [
        {
          "output_type": "execute_result",
          "data": {
            "text/plain": [
              "          Unnamed: 0 event_type  product_id          category_id  \\\n",
              "1                  2       view    17200506  2053013559792632471   \n",
              "3                  4       view     1004237  2053013555631882655   \n",
              "4                  5       view     1480613  2053013561092866779   \n",
              "6                  9       view     1004545  2053013555631882655   \n",
              "8                 11       view     1005011  2053013555631882655   \n",
              "...              ...        ...         ...                  ...   \n",
              "28933140    42448741       view    17200505  2053013559792632471   \n",
              "28933144    42448748       view     1480709  2053013561092866779   \n",
              "28933151    42448758       view     2702331  2053013563911439225   \n",
              "28933152    42448759       view     2300275  2053013560530830019   \n",
              "28933154    42448762       view    21407424  2053013561579406073   \n",
              "\n",
              "                             category_code    price    user_id  \n",
              "1               furniture.living_room.sofa   543.10  519107250  \n",
              "3                   electronics.smartphone  1081.98  535871217  \n",
              "4                        computers.desktop   908.62  512742880  \n",
              "6                   electronics.smartphone   566.01  537918940  \n",
              "8                   electronics.smartphone   900.64  530282093  \n",
              "...                                    ...      ...        ...  \n",
              "28933140        furniture.living_room.sofa   543.10  557880508  \n",
              "28933144                 computers.desktop   592.01  543124499  \n",
              "28933151  appliances.kitchen.refrigerators   527.43  524356542  \n",
              "28933152          electronics.camera.video   527.40  537931532  \n",
              "28933154                electronics.clocks   689.85  513118352  \n",
              "\n",
              "[6012447 rows x 7 columns]"
            ],
            "text/html": [
              "\n",
              "  <div id=\"df-6437433d-981d-421b-8821-55f30183a21c\">\n",
              "    <div class=\"colab-df-container\">\n",
              "      <div>\n",
              "<style scoped>\n",
              "    .dataframe tbody tr th:only-of-type {\n",
              "        vertical-align: middle;\n",
              "    }\n",
              "\n",
              "    .dataframe tbody tr th {\n",
              "        vertical-align: top;\n",
              "    }\n",
              "\n",
              "    .dataframe thead th {\n",
              "        text-align: right;\n",
              "    }\n",
              "</style>\n",
              "<table border=\"1\" class=\"dataframe\">\n",
              "  <thead>\n",
              "    <tr style=\"text-align: right;\">\n",
              "      <th></th>\n",
              "      <th>Unnamed: 0</th>\n",
              "      <th>event_type</th>\n",
              "      <th>product_id</th>\n",
              "      <th>category_id</th>\n",
              "      <th>category_code</th>\n",
              "      <th>price</th>\n",
              "      <th>user_id</th>\n",
              "    </tr>\n",
              "  </thead>\n",
              "  <tbody>\n",
              "    <tr>\n",
              "      <th>1</th>\n",
              "      <td>2</td>\n",
              "      <td>view</td>\n",
              "      <td>17200506</td>\n",
              "      <td>2053013559792632471</td>\n",
              "      <td>furniture.living_room.sofa</td>\n",
              "      <td>543.10</td>\n",
              "      <td>519107250</td>\n",
              "    </tr>\n",
              "    <tr>\n",
              "      <th>3</th>\n",
              "      <td>4</td>\n",
              "      <td>view</td>\n",
              "      <td>1004237</td>\n",
              "      <td>2053013555631882655</td>\n",
              "      <td>electronics.smartphone</td>\n",
              "      <td>1081.98</td>\n",
              "      <td>535871217</td>\n",
              "    </tr>\n",
              "    <tr>\n",
              "      <th>4</th>\n",
              "      <td>5</td>\n",
              "      <td>view</td>\n",
              "      <td>1480613</td>\n",
              "      <td>2053013561092866779</td>\n",
              "      <td>computers.desktop</td>\n",
              "      <td>908.62</td>\n",
              "      <td>512742880</td>\n",
              "    </tr>\n",
              "    <tr>\n",
              "      <th>6</th>\n",
              "      <td>9</td>\n",
              "      <td>view</td>\n",
              "      <td>1004545</td>\n",
              "      <td>2053013555631882655</td>\n",
              "      <td>electronics.smartphone</td>\n",
              "      <td>566.01</td>\n",
              "      <td>537918940</td>\n",
              "    </tr>\n",
              "    <tr>\n",
              "      <th>8</th>\n",
              "      <td>11</td>\n",
              "      <td>view</td>\n",
              "      <td>1005011</td>\n",
              "      <td>2053013555631882655</td>\n",
              "      <td>electronics.smartphone</td>\n",
              "      <td>900.64</td>\n",
              "      <td>530282093</td>\n",
              "    </tr>\n",
              "    <tr>\n",
              "      <th>...</th>\n",
              "      <td>...</td>\n",
              "      <td>...</td>\n",
              "      <td>...</td>\n",
              "      <td>...</td>\n",
              "      <td>...</td>\n",
              "      <td>...</td>\n",
              "      <td>...</td>\n",
              "    </tr>\n",
              "    <tr>\n",
              "      <th>28933140</th>\n",
              "      <td>42448741</td>\n",
              "      <td>view</td>\n",
              "      <td>17200505</td>\n",
              "      <td>2053013559792632471</td>\n",
              "      <td>furniture.living_room.sofa</td>\n",
              "      <td>543.10</td>\n",
              "      <td>557880508</td>\n",
              "    </tr>\n",
              "    <tr>\n",
              "      <th>28933144</th>\n",
              "      <td>42448748</td>\n",
              "      <td>view</td>\n",
              "      <td>1480709</td>\n",
              "      <td>2053013561092866779</td>\n",
              "      <td>computers.desktop</td>\n",
              "      <td>592.01</td>\n",
              "      <td>543124499</td>\n",
              "    </tr>\n",
              "    <tr>\n",
              "      <th>28933151</th>\n",
              "      <td>42448758</td>\n",
              "      <td>view</td>\n",
              "      <td>2702331</td>\n",
              "      <td>2053013563911439225</td>\n",
              "      <td>appliances.kitchen.refrigerators</td>\n",
              "      <td>527.43</td>\n",
              "      <td>524356542</td>\n",
              "    </tr>\n",
              "    <tr>\n",
              "      <th>28933152</th>\n",
              "      <td>42448759</td>\n",
              "      <td>view</td>\n",
              "      <td>2300275</td>\n",
              "      <td>2053013560530830019</td>\n",
              "      <td>electronics.camera.video</td>\n",
              "      <td>527.40</td>\n",
              "      <td>537931532</td>\n",
              "    </tr>\n",
              "    <tr>\n",
              "      <th>28933154</th>\n",
              "      <td>42448762</td>\n",
              "      <td>view</td>\n",
              "      <td>21407424</td>\n",
              "      <td>2053013561579406073</td>\n",
              "      <td>electronics.clocks</td>\n",
              "      <td>689.85</td>\n",
              "      <td>513118352</td>\n",
              "    </tr>\n",
              "  </tbody>\n",
              "</table>\n",
              "<p>6012447 rows × 7 columns</p>\n",
              "</div>\n",
              "      <button class=\"colab-df-convert\" onclick=\"convertToInteractive('df-6437433d-981d-421b-8821-55f30183a21c')\"\n",
              "              title=\"Convert this dataframe to an interactive table.\"\n",
              "              style=\"display:none;\">\n",
              "        \n",
              "  <svg xmlns=\"http://www.w3.org/2000/svg\" height=\"24px\"viewBox=\"0 0 24 24\"\n",
              "       width=\"24px\">\n",
              "    <path d=\"M0 0h24v24H0V0z\" fill=\"none\"/>\n",
              "    <path d=\"M18.56 5.44l.94 2.06.94-2.06 2.06-.94-2.06-.94-.94-2.06-.94 2.06-2.06.94zm-11 1L8.5 8.5l.94-2.06 2.06-.94-2.06-.94L8.5 2.5l-.94 2.06-2.06.94zm10 10l.94 2.06.94-2.06 2.06-.94-2.06-.94-.94-2.06-.94 2.06-2.06.94z\"/><path d=\"M17.41 7.96l-1.37-1.37c-.4-.4-.92-.59-1.43-.59-.52 0-1.04.2-1.43.59L10.3 9.45l-7.72 7.72c-.78.78-.78 2.05 0 2.83L4 21.41c.39.39.9.59 1.41.59.51 0 1.02-.2 1.41-.59l7.78-7.78 2.81-2.81c.8-.78.8-2.07 0-2.86zM5.41 20L4 18.59l7.72-7.72 1.47 1.35L5.41 20z\"/>\n",
              "  </svg>\n",
              "      </button>\n",
              "      \n",
              "  <style>\n",
              "    .colab-df-container {\n",
              "      display:flex;\n",
              "      flex-wrap:wrap;\n",
              "      gap: 12px;\n",
              "    }\n",
              "\n",
              "    .colab-df-convert {\n",
              "      background-color: #E8F0FE;\n",
              "      border: none;\n",
              "      border-radius: 50%;\n",
              "      cursor: pointer;\n",
              "      display: none;\n",
              "      fill: #1967D2;\n",
              "      height: 32px;\n",
              "      padding: 0 0 0 0;\n",
              "      width: 32px;\n",
              "    }\n",
              "\n",
              "    .colab-df-convert:hover {\n",
              "      background-color: #E2EBFA;\n",
              "      box-shadow: 0px 1px 2px rgba(60, 64, 67, 0.3), 0px 1px 3px 1px rgba(60, 64, 67, 0.15);\n",
              "      fill: #174EA6;\n",
              "    }\n",
              "\n",
              "    [theme=dark] .colab-df-convert {\n",
              "      background-color: #3B4455;\n",
              "      fill: #D2E3FC;\n",
              "    }\n",
              "\n",
              "    [theme=dark] .colab-df-convert:hover {\n",
              "      background-color: #434B5C;\n",
              "      box-shadow: 0px 1px 3px 1px rgba(0, 0, 0, 0.15);\n",
              "      filter: drop-shadow(0px 1px 2px rgba(0, 0, 0, 0.3));\n",
              "      fill: #FFFFFF;\n",
              "    }\n",
              "  </style>\n",
              "\n",
              "      <script>\n",
              "        const buttonEl =\n",
              "          document.querySelector('#df-6437433d-981d-421b-8821-55f30183a21c button.colab-df-convert');\n",
              "        buttonEl.style.display =\n",
              "          google.colab.kernel.accessAllowed ? 'block' : 'none';\n",
              "\n",
              "        async function convertToInteractive(key) {\n",
              "          const element = document.querySelector('#df-6437433d-981d-421b-8821-55f30183a21c');\n",
              "          const dataTable =\n",
              "            await google.colab.kernel.invokeFunction('convertToInteractive',\n",
              "                                                     [key], {});\n",
              "          if (!dataTable) return;\n",
              "\n",
              "          const docLinkHtml = 'Like what you see? Visit the ' +\n",
              "            '<a target=\"_blank\" href=https://colab.research.google.com/notebooks/data_table.ipynb>data table notebook</a>'\n",
              "            + ' to learn more about interactive tables.';\n",
              "          element.innerHTML = '';\n",
              "          dataTable['output_type'] = 'display_data';\n",
              "          await google.colab.output.renderOutput(dataTable, element);\n",
              "          const docLink = document.createElement('div');\n",
              "          docLink.innerHTML = docLinkHtml;\n",
              "          element.appendChild(docLink);\n",
              "        }\n",
              "      </script>\n",
              "    </div>\n",
              "  </div>\n",
              "  "
            ]
          },
          "metadata": {},
          "execution_count": 12
        }
      ]
    },
    {
      "cell_type": "code",
      "source": [
        "data_frame[data_frame['price']>2500]"
      ],
      "metadata": {
        "colab": {
          "base_uri": "https://localhost:8080/",
          "height": 423
        },
        "id": "U1I-wMpOUYWY",
        "outputId": "3a5f99ae-2de3-426b-ffc5-cc82566fb7d6"
      },
      "execution_count": 21,
      "outputs": [
        {
          "output_type": "execute_result",
          "data": {
            "text/plain": [
              "          Unnamed: 0 event_type  product_id          category_id  \\\n",
              "1971            2924       view     1304849  2053013558920217191   \n",
              "2031            3009       view    21406787  2053013561579406073   \n",
              "2850            4151       view    21407288  2053013561579406073   \n",
              "3814            5587       view     1304849  2053013558920217191   \n",
              "4256            6267       view     1304849  2053013558920217191   \n",
              "...              ...        ...         ...                  ...   \n",
              "28930570    42444830       view     1480492  2053013561092866779   \n",
              "28930596    42444876       view     1480492  2053013561092866779   \n",
              "28932905    42448370       view     1802024  2053013554415534427   \n",
              "28932970    42448472       view     1802024  2053013554415534427   \n",
              "28933133    42448731       view     1307449  2053013558920217191   \n",
              "\n",
              "                 category_code    price    user_id  \n",
              "1971        computers.notebook  2552.93  539527768  \n",
              "2031        electronics.clocks  2522.59  543091275  \n",
              "2850        electronics.clocks  2574.07  527321544  \n",
              "3814        computers.notebook  2552.93  541920865  \n",
              "4256        computers.notebook  2552.93  512900744  \n",
              "...                        ...      ...        ...  \n",
              "28930570     computers.desktop  2571.24  521919618  \n",
              "28930596     computers.desktop  2571.24  521919618  \n",
              "28932905  electronics.video.tv  2573.79  526148160  \n",
              "28932970  electronics.video.tv  2573.79  526148160  \n",
              "28933133    computers.notebook  2570.18  513741043  \n",
              "\n",
              "[40812 rows x 7 columns]"
            ],
            "text/html": [
              "\n",
              "  <div id=\"df-e9d08a62-0452-4eae-b943-b41b5edc48d5\">\n",
              "    <div class=\"colab-df-container\">\n",
              "      <div>\n",
              "<style scoped>\n",
              "    .dataframe tbody tr th:only-of-type {\n",
              "        vertical-align: middle;\n",
              "    }\n",
              "\n",
              "    .dataframe tbody tr th {\n",
              "        vertical-align: top;\n",
              "    }\n",
              "\n",
              "    .dataframe thead th {\n",
              "        text-align: right;\n",
              "    }\n",
              "</style>\n",
              "<table border=\"1\" class=\"dataframe\">\n",
              "  <thead>\n",
              "    <tr style=\"text-align: right;\">\n",
              "      <th></th>\n",
              "      <th>Unnamed: 0</th>\n",
              "      <th>event_type</th>\n",
              "      <th>product_id</th>\n",
              "      <th>category_id</th>\n",
              "      <th>category_code</th>\n",
              "      <th>price</th>\n",
              "      <th>user_id</th>\n",
              "    </tr>\n",
              "  </thead>\n",
              "  <tbody>\n",
              "    <tr>\n",
              "      <th>1971</th>\n",
              "      <td>2924</td>\n",
              "      <td>view</td>\n",
              "      <td>1304849</td>\n",
              "      <td>2053013558920217191</td>\n",
              "      <td>computers.notebook</td>\n",
              "      <td>2552.93</td>\n",
              "      <td>539527768</td>\n",
              "    </tr>\n",
              "    <tr>\n",
              "      <th>2031</th>\n",
              "      <td>3009</td>\n",
              "      <td>view</td>\n",
              "      <td>21406787</td>\n",
              "      <td>2053013561579406073</td>\n",
              "      <td>electronics.clocks</td>\n",
              "      <td>2522.59</td>\n",
              "      <td>543091275</td>\n",
              "    </tr>\n",
              "    <tr>\n",
              "      <th>2850</th>\n",
              "      <td>4151</td>\n",
              "      <td>view</td>\n",
              "      <td>21407288</td>\n",
              "      <td>2053013561579406073</td>\n",
              "      <td>electronics.clocks</td>\n",
              "      <td>2574.07</td>\n",
              "      <td>527321544</td>\n",
              "    </tr>\n",
              "    <tr>\n",
              "      <th>3814</th>\n",
              "      <td>5587</td>\n",
              "      <td>view</td>\n",
              "      <td>1304849</td>\n",
              "      <td>2053013558920217191</td>\n",
              "      <td>computers.notebook</td>\n",
              "      <td>2552.93</td>\n",
              "      <td>541920865</td>\n",
              "    </tr>\n",
              "    <tr>\n",
              "      <th>4256</th>\n",
              "      <td>6267</td>\n",
              "      <td>view</td>\n",
              "      <td>1304849</td>\n",
              "      <td>2053013558920217191</td>\n",
              "      <td>computers.notebook</td>\n",
              "      <td>2552.93</td>\n",
              "      <td>512900744</td>\n",
              "    </tr>\n",
              "    <tr>\n",
              "      <th>...</th>\n",
              "      <td>...</td>\n",
              "      <td>...</td>\n",
              "      <td>...</td>\n",
              "      <td>...</td>\n",
              "      <td>...</td>\n",
              "      <td>...</td>\n",
              "      <td>...</td>\n",
              "    </tr>\n",
              "    <tr>\n",
              "      <th>28930570</th>\n",
              "      <td>42444830</td>\n",
              "      <td>view</td>\n",
              "      <td>1480492</td>\n",
              "      <td>2053013561092866779</td>\n",
              "      <td>computers.desktop</td>\n",
              "      <td>2571.24</td>\n",
              "      <td>521919618</td>\n",
              "    </tr>\n",
              "    <tr>\n",
              "      <th>28930596</th>\n",
              "      <td>42444876</td>\n",
              "      <td>view</td>\n",
              "      <td>1480492</td>\n",
              "      <td>2053013561092866779</td>\n",
              "      <td>computers.desktop</td>\n",
              "      <td>2571.24</td>\n",
              "      <td>521919618</td>\n",
              "    </tr>\n",
              "    <tr>\n",
              "      <th>28932905</th>\n",
              "      <td>42448370</td>\n",
              "      <td>view</td>\n",
              "      <td>1802024</td>\n",
              "      <td>2053013554415534427</td>\n",
              "      <td>electronics.video.tv</td>\n",
              "      <td>2573.79</td>\n",
              "      <td>526148160</td>\n",
              "    </tr>\n",
              "    <tr>\n",
              "      <th>28932970</th>\n",
              "      <td>42448472</td>\n",
              "      <td>view</td>\n",
              "      <td>1802024</td>\n",
              "      <td>2053013554415534427</td>\n",
              "      <td>electronics.video.tv</td>\n",
              "      <td>2573.79</td>\n",
              "      <td>526148160</td>\n",
              "    </tr>\n",
              "    <tr>\n",
              "      <th>28933133</th>\n",
              "      <td>42448731</td>\n",
              "      <td>view</td>\n",
              "      <td>1307449</td>\n",
              "      <td>2053013558920217191</td>\n",
              "      <td>computers.notebook</td>\n",
              "      <td>2570.18</td>\n",
              "      <td>513741043</td>\n",
              "    </tr>\n",
              "  </tbody>\n",
              "</table>\n",
              "<p>40812 rows × 7 columns</p>\n",
              "</div>\n",
              "      <button class=\"colab-df-convert\" onclick=\"convertToInteractive('df-e9d08a62-0452-4eae-b943-b41b5edc48d5')\"\n",
              "              title=\"Convert this dataframe to an interactive table.\"\n",
              "              style=\"display:none;\">\n",
              "        \n",
              "  <svg xmlns=\"http://www.w3.org/2000/svg\" height=\"24px\"viewBox=\"0 0 24 24\"\n",
              "       width=\"24px\">\n",
              "    <path d=\"M0 0h24v24H0V0z\" fill=\"none\"/>\n",
              "    <path d=\"M18.56 5.44l.94 2.06.94-2.06 2.06-.94-2.06-.94-.94-2.06-.94 2.06-2.06.94zm-11 1L8.5 8.5l.94-2.06 2.06-.94-2.06-.94L8.5 2.5l-.94 2.06-2.06.94zm10 10l.94 2.06.94-2.06 2.06-.94-2.06-.94-.94-2.06-.94 2.06-2.06.94z\"/><path d=\"M17.41 7.96l-1.37-1.37c-.4-.4-.92-.59-1.43-.59-.52 0-1.04.2-1.43.59L10.3 9.45l-7.72 7.72c-.78.78-.78 2.05 0 2.83L4 21.41c.39.39.9.59 1.41.59.51 0 1.02-.2 1.41-.59l7.78-7.78 2.81-2.81c.8-.78.8-2.07 0-2.86zM5.41 20L4 18.59l7.72-7.72 1.47 1.35L5.41 20z\"/>\n",
              "  </svg>\n",
              "      </button>\n",
              "      \n",
              "  <style>\n",
              "    .colab-df-container {\n",
              "      display:flex;\n",
              "      flex-wrap:wrap;\n",
              "      gap: 12px;\n",
              "    }\n",
              "\n",
              "    .colab-df-convert {\n",
              "      background-color: #E8F0FE;\n",
              "      border: none;\n",
              "      border-radius: 50%;\n",
              "      cursor: pointer;\n",
              "      display: none;\n",
              "      fill: #1967D2;\n",
              "      height: 32px;\n",
              "      padding: 0 0 0 0;\n",
              "      width: 32px;\n",
              "    }\n",
              "\n",
              "    .colab-df-convert:hover {\n",
              "      background-color: #E2EBFA;\n",
              "      box-shadow: 0px 1px 2px rgba(60, 64, 67, 0.3), 0px 1px 3px 1px rgba(60, 64, 67, 0.15);\n",
              "      fill: #174EA6;\n",
              "    }\n",
              "\n",
              "    [theme=dark] .colab-df-convert {\n",
              "      background-color: #3B4455;\n",
              "      fill: #D2E3FC;\n",
              "    }\n",
              "\n",
              "    [theme=dark] .colab-df-convert:hover {\n",
              "      background-color: #434B5C;\n",
              "      box-shadow: 0px 1px 3px 1px rgba(0, 0, 0, 0.15);\n",
              "      filter: drop-shadow(0px 1px 2px rgba(0, 0, 0, 0.3));\n",
              "      fill: #FFFFFF;\n",
              "    }\n",
              "  </style>\n",
              "\n",
              "      <script>\n",
              "        const buttonEl =\n",
              "          document.querySelector('#df-e9d08a62-0452-4eae-b943-b41b5edc48d5 button.colab-df-convert');\n",
              "        buttonEl.style.display =\n",
              "          google.colab.kernel.accessAllowed ? 'block' : 'none';\n",
              "\n",
              "        async function convertToInteractive(key) {\n",
              "          const element = document.querySelector('#df-e9d08a62-0452-4eae-b943-b41b5edc48d5');\n",
              "          const dataTable =\n",
              "            await google.colab.kernel.invokeFunction('convertToInteractive',\n",
              "                                                     [key], {});\n",
              "          if (!dataTable) return;\n",
              "\n",
              "          const docLinkHtml = 'Like what you see? Visit the ' +\n",
              "            '<a target=\"_blank\" href=https://colab.research.google.com/notebooks/data_table.ipynb>data table notebook</a>'\n",
              "            + ' to learn more about interactive tables.';\n",
              "          element.innerHTML = '';\n",
              "          dataTable['output_type'] = 'display_data';\n",
              "          await google.colab.output.renderOutput(dataTable, element);\n",
              "          const docLink = document.createElement('div');\n",
              "          docLink.innerHTML = docLinkHtml;\n",
              "          element.appendChild(docLink);\n",
              "        }\n",
              "      </script>\n",
              "    </div>\n",
              "  </div>\n",
              "  "
            ]
          },
          "metadata": {},
          "execution_count": 21
        }
      ]
    },
    {
      "cell_type": "markdown",
      "source": [
        "# Clean the data - Preprocessing\n",
        "> Missing data\n",
        "> - data.drop()\n",
        ">\n",
        "> Duplicated data\n",
        "> - data_frame.duplicated()\n",
        ">\n",
        "> - isnull()"
      ],
      "metadata": {
        "id": "vKT-B2UsAKTt"
      }
    },
    {
      "cell_type": "code",
      "source": [
        "data_frame.columns"
      ],
      "metadata": {
        "colab": {
          "base_uri": "https://localhost:8080/"
        },
        "id": "BAuu_-Sxy9FG",
        "outputId": "1762b5a3-1c27-41e7-cd48-e6c4710196c4"
      },
      "execution_count": null,
      "outputs": [
        {
          "output_type": "execute_result",
          "data": {
            "text/plain": [
              "Index(['Unnamed: 0', 'event_type', 'product_id', 'category_id',\n",
              "       'category_code', 'price', 'user_id'],\n",
              "      dtype='object')"
            ]
          },
          "metadata": {},
          "execution_count": 5
        }
      ]
    },
    {
      "cell_type": "code",
      "source": [
        "df = data_frame.drop(columns = ['Unnamed: 0'])"
      ],
      "metadata": {
        "id": "K8NmHuCUy3aB"
      },
      "execution_count": null,
      "outputs": []
    },
    {
      "cell_type": "code",
      "source": [
        "df.isnull().sum()"
      ],
      "metadata": {
        "colab": {
          "base_uri": "https://localhost:8080/"
        },
        "id": "EmgFq71OzIFm",
        "outputId": "aa6fe6f7-e41d-4900-d122-60ed0e740051"
      },
      "execution_count": null,
      "outputs": [
        {
          "output_type": "execute_result",
          "data": {
            "text/plain": [
              "event_type       0\n",
              "product_id       0\n",
              "category_id      0\n",
              "category_code    0\n",
              "price            0\n",
              "user_id          0\n",
              "dtype: int64"
            ]
          },
          "metadata": {},
          "execution_count": 9
        }
      ]
    },
    {
      "cell_type": "code",
      "source": [
        "data_frame.duplicated()"
      ],
      "metadata": {
        "colab": {
          "base_uri": "https://localhost:8080/"
        },
        "id": "Fk_MQe3tCg8B",
        "outputId": "26cd7d44-0fb4-4380-8872-0023d2b76c12"
      },
      "execution_count": null,
      "outputs": [
        {
          "output_type": "execute_result",
          "data": {
            "text/plain": [
              "0           False\n",
              "1           False\n",
              "2           False\n",
              "3           False\n",
              "4           False\n",
              "            ...  \n",
              "28933150    False\n",
              "28933151    False\n",
              "28933152    False\n",
              "28933153    False\n",
              "28933154    False\n",
              "Length: 28933155, dtype: bool"
            ]
          },
          "metadata": {},
          "execution_count": 6
        }
      ]
    },
    {
      "cell_type": "code",
      "source": [
        "data_frame.duplicated().sum()"
      ],
      "metadata": {
        "colab": {
          "base_uri": "https://localhost:8080/"
        },
        "id": "gkvvDPdaOvOr",
        "outputId": "634f1c4e-1357-4530-f608-84a82efa30dc"
      },
      "execution_count": null,
      "outputs": [
        {
          "output_type": "execute_result",
          "data": {
            "text/plain": [
              "0"
            ]
          },
          "metadata": {},
          "execution_count": 4
        }
      ]
    },
    {
      "cell_type": "code",
      "source": [
        "import numpy as np"
      ],
      "metadata": {
        "id": "SXqVd5q93EkY"
      },
      "execution_count": null,
      "outputs": []
    },
    {
      "cell_type": "code",
      "source": [
        "df1 = np.array(data_frame)\n",
        "df1"
      ],
      "metadata": {
        "colab": {
          "base_uri": "https://localhost:8080/"
        },
        "id": "n2WMy0kn-_Nr",
        "outputId": "8f3cc751-0891-4b06-bdf8-275087009447"
      },
      "execution_count": null,
      "outputs": [
        {
          "output_type": "execute_result",
          "data": {
            "text/plain": [
              "array([[1, 'view', 3900821, ..., 'appliances.environment.water_heater',\n",
              "        33.2, 554748717],\n",
              "       [2, 'view', 17200506, ..., 'furniture.living_room.sofa', 543.1,\n",
              "        519107250],\n",
              "       [3, 'view', 1307067, ..., 'computers.notebook', 251.74, 550050854],\n",
              "       ...,\n",
              "       [42448759, 'view', 2300275, ..., 'electronics.camera.video',\n",
              "        527.4, 537931532],\n",
              "       [42448761, 'view', 5701038, ..., 'auto.accessories.player', 128.7,\n",
              "        566280422],\n",
              "       [42448762, 'view', 21407424, ..., 'electronics.clocks', 689.85,\n",
              "        513118352]], dtype=object)"
            ]
          },
          "metadata": {},
          "execution_count": 3
        }
      ]
    },
    {
      "cell_type": "code",
      "source": [
        "# import seaborn as sns\n",
        "# sns.catplot(x='product_id', data = data_frame, kind = 'count')"
      ],
      "metadata": {
        "id": "v-cyauDn2v8a"
      },
      "execution_count": null,
      "outputs": []
    },
    {
      "cell_type": "code",
      "source": [
        "purchased = data_frame.loc[data_frame['event_type'] == 'purchase']\n",
        "purchased = purchased.dropna(axis='rows')\n",
        "purchased"
      ],
      "metadata": {
        "colab": {
          "base_uri": "https://localhost:8080/",
          "height": 423
        },
        "id": "sfyswtq30um7",
        "outputId": "0c9b7ccd-cae7-47cf-9b30-bb32c9987eb0"
      },
      "execution_count": null,
      "outputs": [
        {
          "output_type": "execute_result",
          "data": {
            "text/plain": [
              "          Unnamed: 0 event_type  product_id          category_id  \\\n",
              "113              162   purchase     1004856  2053013555631882655   \n",
              "208              308   purchase     1002532  2053013555631882655   \n",
              "285              442   purchase    13800054  2053013557418656265   \n",
              "361              574   purchase     4804055  2053013554658804075   \n",
              "376              603   purchase     4804056  2053013554658804075   \n",
              "...              ...        ...         ...                  ...   \n",
              "28932641    42447959   purchase     1004767  2053013555631882655   \n",
              "28932775    42448173   purchase    47500017  2110937143172923797   \n",
              "28932837    42448271   purchase     1003306  2053013555631882655   \n",
              "28932897    42448362   purchase     1004240  2053013555631882655   \n",
              "28933085    42448657   purchase     4804056  2053013554658804075   \n",
              "\n",
              "                        category_code    price    user_id  \n",
              "113            electronics.smartphone   130.76  543272936  \n",
              "208            electronics.smartphone   642.69  551377651  \n",
              "285         furniture.bathroom.toilet    54.42  555332717  \n",
              "361       electronics.audio.headphone   189.91  524601178  \n",
              "376       electronics.audio.headphone   161.98  551377651  \n",
              "...                               ...      ...        ...  \n",
              "28932641       electronics.smartphone   242.63  542774966  \n",
              "28932775     construction.tools.light    20.59  514622109  \n",
              "28932837       electronics.smartphone   577.89  512717356  \n",
              "28932897       electronics.smartphone  1054.60  533892594  \n",
              "28933085  electronics.audio.headphone   160.57  544501248  \n",
              "\n",
              "[569424 rows x 7 columns]"
            ],
            "text/html": [
              "\n",
              "  <div id=\"df-81035828-154e-4bd1-b966-26302be7525a\">\n",
              "    <div class=\"colab-df-container\">\n",
              "      <div>\n",
              "<style scoped>\n",
              "    .dataframe tbody tr th:only-of-type {\n",
              "        vertical-align: middle;\n",
              "    }\n",
              "\n",
              "    .dataframe tbody tr th {\n",
              "        vertical-align: top;\n",
              "    }\n",
              "\n",
              "    .dataframe thead th {\n",
              "        text-align: right;\n",
              "    }\n",
              "</style>\n",
              "<table border=\"1\" class=\"dataframe\">\n",
              "  <thead>\n",
              "    <tr style=\"text-align: right;\">\n",
              "      <th></th>\n",
              "      <th>Unnamed: 0</th>\n",
              "      <th>event_type</th>\n",
              "      <th>product_id</th>\n",
              "      <th>category_id</th>\n",
              "      <th>category_code</th>\n",
              "      <th>price</th>\n",
              "      <th>user_id</th>\n",
              "    </tr>\n",
              "  </thead>\n",
              "  <tbody>\n",
              "    <tr>\n",
              "      <th>113</th>\n",
              "      <td>162</td>\n",
              "      <td>purchase</td>\n",
              "      <td>1004856</td>\n",
              "      <td>2053013555631882655</td>\n",
              "      <td>electronics.smartphone</td>\n",
              "      <td>130.76</td>\n",
              "      <td>543272936</td>\n",
              "    </tr>\n",
              "    <tr>\n",
              "      <th>208</th>\n",
              "      <td>308</td>\n",
              "      <td>purchase</td>\n",
              "      <td>1002532</td>\n",
              "      <td>2053013555631882655</td>\n",
              "      <td>electronics.smartphone</td>\n",
              "      <td>642.69</td>\n",
              "      <td>551377651</td>\n",
              "    </tr>\n",
              "    <tr>\n",
              "      <th>285</th>\n",
              "      <td>442</td>\n",
              "      <td>purchase</td>\n",
              "      <td>13800054</td>\n",
              "      <td>2053013557418656265</td>\n",
              "      <td>furniture.bathroom.toilet</td>\n",
              "      <td>54.42</td>\n",
              "      <td>555332717</td>\n",
              "    </tr>\n",
              "    <tr>\n",
              "      <th>361</th>\n",
              "      <td>574</td>\n",
              "      <td>purchase</td>\n",
              "      <td>4804055</td>\n",
              "      <td>2053013554658804075</td>\n",
              "      <td>electronics.audio.headphone</td>\n",
              "      <td>189.91</td>\n",
              "      <td>524601178</td>\n",
              "    </tr>\n",
              "    <tr>\n",
              "      <th>376</th>\n",
              "      <td>603</td>\n",
              "      <td>purchase</td>\n",
              "      <td>4804056</td>\n",
              "      <td>2053013554658804075</td>\n",
              "      <td>electronics.audio.headphone</td>\n",
              "      <td>161.98</td>\n",
              "      <td>551377651</td>\n",
              "    </tr>\n",
              "    <tr>\n",
              "      <th>...</th>\n",
              "      <td>...</td>\n",
              "      <td>...</td>\n",
              "      <td>...</td>\n",
              "      <td>...</td>\n",
              "      <td>...</td>\n",
              "      <td>...</td>\n",
              "      <td>...</td>\n",
              "    </tr>\n",
              "    <tr>\n",
              "      <th>28932641</th>\n",
              "      <td>42447959</td>\n",
              "      <td>purchase</td>\n",
              "      <td>1004767</td>\n",
              "      <td>2053013555631882655</td>\n",
              "      <td>electronics.smartphone</td>\n",
              "      <td>242.63</td>\n",
              "      <td>542774966</td>\n",
              "    </tr>\n",
              "    <tr>\n",
              "      <th>28932775</th>\n",
              "      <td>42448173</td>\n",
              "      <td>purchase</td>\n",
              "      <td>47500017</td>\n",
              "      <td>2110937143172923797</td>\n",
              "      <td>construction.tools.light</td>\n",
              "      <td>20.59</td>\n",
              "      <td>514622109</td>\n",
              "    </tr>\n",
              "    <tr>\n",
              "      <th>28932837</th>\n",
              "      <td>42448271</td>\n",
              "      <td>purchase</td>\n",
              "      <td>1003306</td>\n",
              "      <td>2053013555631882655</td>\n",
              "      <td>electronics.smartphone</td>\n",
              "      <td>577.89</td>\n",
              "      <td>512717356</td>\n",
              "    </tr>\n",
              "    <tr>\n",
              "      <th>28932897</th>\n",
              "      <td>42448362</td>\n",
              "      <td>purchase</td>\n",
              "      <td>1004240</td>\n",
              "      <td>2053013555631882655</td>\n",
              "      <td>electronics.smartphone</td>\n",
              "      <td>1054.60</td>\n",
              "      <td>533892594</td>\n",
              "    </tr>\n",
              "    <tr>\n",
              "      <th>28933085</th>\n",
              "      <td>42448657</td>\n",
              "      <td>purchase</td>\n",
              "      <td>4804056</td>\n",
              "      <td>2053013554658804075</td>\n",
              "      <td>electronics.audio.headphone</td>\n",
              "      <td>160.57</td>\n",
              "      <td>544501248</td>\n",
              "    </tr>\n",
              "  </tbody>\n",
              "</table>\n",
              "<p>569424 rows × 7 columns</p>\n",
              "</div>\n",
              "      <button class=\"colab-df-convert\" onclick=\"convertToInteractive('df-81035828-154e-4bd1-b966-26302be7525a')\"\n",
              "              title=\"Convert this dataframe to an interactive table.\"\n",
              "              style=\"display:none;\">\n",
              "        \n",
              "  <svg xmlns=\"http://www.w3.org/2000/svg\" height=\"24px\"viewBox=\"0 0 24 24\"\n",
              "       width=\"24px\">\n",
              "    <path d=\"M0 0h24v24H0V0z\" fill=\"none\"/>\n",
              "    <path d=\"M18.56 5.44l.94 2.06.94-2.06 2.06-.94-2.06-.94-.94-2.06-.94 2.06-2.06.94zm-11 1L8.5 8.5l.94-2.06 2.06-.94-2.06-.94L8.5 2.5l-.94 2.06-2.06.94zm10 10l.94 2.06.94-2.06 2.06-.94-2.06-.94-.94-2.06-.94 2.06-2.06.94z\"/><path d=\"M17.41 7.96l-1.37-1.37c-.4-.4-.92-.59-1.43-.59-.52 0-1.04.2-1.43.59L10.3 9.45l-7.72 7.72c-.78.78-.78 2.05 0 2.83L4 21.41c.39.39.9.59 1.41.59.51 0 1.02-.2 1.41-.59l7.78-7.78 2.81-2.81c.8-.78.8-2.07 0-2.86zM5.41 20L4 18.59l7.72-7.72 1.47 1.35L5.41 20z\"/>\n",
              "  </svg>\n",
              "      </button>\n",
              "      \n",
              "  <style>\n",
              "    .colab-df-container {\n",
              "      display:flex;\n",
              "      flex-wrap:wrap;\n",
              "      gap: 12px;\n",
              "    }\n",
              "\n",
              "    .colab-df-convert {\n",
              "      background-color: #E8F0FE;\n",
              "      border: none;\n",
              "      border-radius: 50%;\n",
              "      cursor: pointer;\n",
              "      display: none;\n",
              "      fill: #1967D2;\n",
              "      height: 32px;\n",
              "      padding: 0 0 0 0;\n",
              "      width: 32px;\n",
              "    }\n",
              "\n",
              "    .colab-df-convert:hover {\n",
              "      background-color: #E2EBFA;\n",
              "      box-shadow: 0px 1px 2px rgba(60, 64, 67, 0.3), 0px 1px 3px 1px rgba(60, 64, 67, 0.15);\n",
              "      fill: #174EA6;\n",
              "    }\n",
              "\n",
              "    [theme=dark] .colab-df-convert {\n",
              "      background-color: #3B4455;\n",
              "      fill: #D2E3FC;\n",
              "    }\n",
              "\n",
              "    [theme=dark] .colab-df-convert:hover {\n",
              "      background-color: #434B5C;\n",
              "      box-shadow: 0px 1px 3px 1px rgba(0, 0, 0, 0.15);\n",
              "      filter: drop-shadow(0px 1px 2px rgba(0, 0, 0, 0.3));\n",
              "      fill: #FFFFFF;\n",
              "    }\n",
              "  </style>\n",
              "\n",
              "      <script>\n",
              "        const buttonEl =\n",
              "          document.querySelector('#df-81035828-154e-4bd1-b966-26302be7525a button.colab-df-convert');\n",
              "        buttonEl.style.display =\n",
              "          google.colab.kernel.accessAllowed ? 'block' : 'none';\n",
              "\n",
              "        async function convertToInteractive(key) {\n",
              "          const element = document.querySelector('#df-81035828-154e-4bd1-b966-26302be7525a');\n",
              "          const dataTable =\n",
              "            await google.colab.kernel.invokeFunction('convertToInteractive',\n",
              "                                                     [key], {});\n",
              "          if (!dataTable) return;\n",
              "\n",
              "          const docLinkHtml = 'Like what you see? Visit the ' +\n",
              "            '<a target=\"_blank\" href=https://colab.research.google.com/notebooks/data_table.ipynb>data table notebook</a>'\n",
              "            + ' to learn more about interactive tables.';\n",
              "          element.innerHTML = '';\n",
              "          dataTable['output_type'] = 'display_data';\n",
              "          await google.colab.output.renderOutput(dataTable, element);\n",
              "          const docLink = document.createElement('div');\n",
              "          docLink.innerHTML = docLinkHtml;\n",
              "          element.appendChild(docLink);\n",
              "        }\n",
              "      </script>\n",
              "    </div>\n",
              "  </div>\n",
              "  "
            ]
          },
          "metadata": {},
          "execution_count": 2
        }
      ]
    },
    {
      "cell_type": "code",
      "source": [
        "# 6 minutes stopped\n",
        "# import matplotlib.pyplot as plt\n",
        "# plt.figure(figsize=(10,6))\n",
        "# # make bar plot with matplotlib\n",
        "# plt.bar('category_code', 'price',data=data_frame)\n",
        "# plt.xlabel(\"category_code\", size=15)\n",
        "# plt.ylabel(\"In price order\", size=15)\n",
        "# plt.title(\"Barplot with Matplotlib\", size=18)\n"
      ],
      "metadata": {
        "id": "r4PQFz0Pt3Hs"
      },
      "execution_count": null,
      "outputs": []
    },
    {
      "cell_type": "code",
      "source": [
        "purchased.size"
      ],
      "metadata": {
        "colab": {
          "base_uri": "https://localhost:8080/"
        },
        "id": "3xiM8ThR1A9S",
        "outputId": "124fd6bf-b9c3-4580-b52a-8959bb2b5340"
      },
      "execution_count": null,
      "outputs": [
        {
          "output_type": "execute_result",
          "data": {
            "text/plain": [
              "3985968"
            ]
          },
          "metadata": {},
          "execution_count": 8
        }
      ]
    },
    {
      "cell_type": "code",
      "source": [
        "cart = data_frame.loc[data_frame['event_type'] == 'cart']\n",
        "cart = cart.dropna(axis='rows')\n",
        "cart.size"
      ],
      "metadata": {
        "colab": {
          "base_uri": "https://localhost:8080/"
        },
        "id": "Ujvyoo36mJPH",
        "outputId": "adf79883-bd5f-4ffb-c361-428809f134fb"
      },
      "execution_count": null,
      "outputs": [
        {
          "output_type": "execute_result",
          "data": {
            "text/plain": [
              "5745530"
            ]
          },
          "metadata": {},
          "execution_count": 11
        }
      ]
    },
    {
      "cell_type": "code",
      "source": [
        "labels = ['view', 'cart','purchase']\n",
        "size = data_frame['event_type'].value_counts()\n",
        "colors = ['yellowgreen', 'lightskyblue','lightcoral']\n",
        "explode = [0, 0.1,0.1]\n",
        "\n",
        "import matplotlib.pyplot as plt\n",
        "plt.rcParams['figure.figsize'] = (8, 8)\n",
        "plt.pie(size, colors = colors, explode = explode, labels = labels, shadow = True, autopct = '%.2f%%')\n",
        "plt.title('Event_Type', fontsize = 20)\n",
        "plt.axis('off')\n",
        "plt.legend()\n",
        "plt.show()"
      ],
      "metadata": {
        "colab": {
          "base_uri": "https://localhost:8080/",
          "height": 486
        },
        "id": "QF0DnXDdxQjE",
        "outputId": "47aadfb5-8c73-41d3-ee20-1c6a6d5b716d"
      },
      "execution_count": 15,
      "outputs": [
        {
          "output_type": "display_data",
          "data": {
            "text/plain": [
              "<Figure size 576x576 with 1 Axes>"
            ],
            "image/png": "[encoded data removed]"
          },
          "metadata": {}
        }
      ]
    },
    {
      "cell_type": "markdown",
      "source": [
        "## Conversion Rates"
      ],
      "metadata": {
        "id": "yZt0godn7x6E"
      }
    },
    {
      "cell_type": "code",
      "source": [
        "view_count = data_frame['event_type'].value_counts()[0]\n",
        "cart_count = data_frame['event_type'].value_counts()[1]\n",
        "purchase_count = data_frame['event_type'].value_counts()[2]\n",
        "print(\"Rate of conversion between view and purchase events\" +str((purchase_count/view_count)*100) +'%')\n",
        "print(\"Rate of conversion between view and add to cart events\" +str((cart_count/view_count)*100) +'%')\n",
        "print(\"Rate of conversion between add to cart and purchase events\" +str((purchase_count/cart_count)*100) +'%')\n"
      ],
      "metadata": {
        "colab": {
          "base_uri": "https://localhost:8080/"
        },
        "id": "Ncvo_1Ya7mmc",
        "outputId": "ae178a62-26c2-4b59-e29b-ef32e25504ce"
      },
      "execution_count": 8,
      "outputs": [
        {
          "output_type": "stream",
          "name": "stdout",
          "text": [
            "Rate of conversion between view and purchase events2.0674044939500105%\n",
            "Rate of conversion between view and add to cart events2.9800376074581143%\n",
            "Rate of conversion between add to cart and purchase events69.37511421922781%\n"
          ]
        }
      ]
    },
    {
      "cell_type": "markdown",
      "source": [
        "## Brandwise sales of all event types \n",
        "## From original data\n"
      ],
      "metadata": {
        "id": "UqgpdsWl8BLj"
      }
    },
    {
      "cell_type": "code",
      "source": [
        "df1['brand'].value_counts().head(50).plot.bar(figsize = (18,7))\n",
        "plt.title('Top brand',fontsize = 20)\n",
        "plt.xlabel('Names of brand')\n",
        "plt.ylabel('Count')\n",
        "plt.show()"
      ],
      "metadata": {
        "colab": {
          "base_uri": "https://localhost:8080/",
          "height": 500
        },
        "id": "eo8w3FAi8AQL",
        "outputId": "d77631bf-8d2e-489e-8da1-e2c1d808b4c0"
      },
      "execution_count": 12,
      "outputs": [
        {
          "output_type": "display_data",
          "data": {
            "text/plain": [
              "<Figure size 1296x504 with 1 Axes>"
            ],
            "image/png": "[encoded data removed]"
          },
          "metadata": {
            "needs_background": "light"
          }
        }
      ]
    },
    {
      "cell_type": "code",
      "source": [
        "d = df1.loc[df['event_type'].isin(['purchase'])].drop_duplicates()\n",
        "print(d['brand'].value_counts())\n",
        "d['brand'].value_counts().head(70).plot.bar(figsize =(18,7))\n",
        "plt.xlabel('Names of brand')\n",
        "plt.ylabel('Count')\n",
        "plt.show()"
      ],
      "metadata": {
        "colab": {
          "base_uri": "https://localhost:8080/",
          "height": 691
        },
        "id": "gy6aTrtv9wEN",
        "outputId": "e0cc7d60-3a8e-4909-bb96-05c55a3a6da3"
      },
      "execution_count": 13,
      "outputs": [
        {
          "output_type": "stream",
          "name": "stdout",
          "text": [
            "samsung         171688\n",
            "apple           142562\n",
            "xiaomi           46588\n",
            "huawei           23292\n",
            "oppo             10887\n",
            "                 ...  \n",
            "neumann              1\n",
            "enchantimals         1\n",
            "namazu               1\n",
            "weekend              1\n",
            "teamgroup            1\n",
            "Name: brand, Length: 1052, dtype: int64\n"
          ]
        },
        {
          "output_type": "display_data",
          "data": {
            "text/plain": [
              "<Figure size 1296x504 with 1 Axes>"
            ],
            "image/png": "[encoded data removed]"
          },
          "metadata": {
            "needs_background": "light"
          }
        }
      ]
    },
    {
      "cell_type": "code",
      "source": [
        "top_brand = df1['brand'].value_counts()[0]\n",
        "second_brand = df1['brand'].value_counts()[1]\n",
        "last_brand = df1['brand'].value_counts()[-1]\n",
        "print(\"samsung has \" +str((top_brand/second_brand)*100)+\"% more sales than apple in the market \\n\")\n",
        "print(\"Also samsung has \" +str((top_brand/last_brand)*100)+\"% more sales than bottom place brand in the market\")"
      ],
      "metadata": {
        "colab": {
          "base_uri": "https://localhost:8080/"
        },
        "id": "_zhFW-qwAFP2",
        "outputId": "ae639020-509e-4090-e678-0d1c476c2a52"
      },
      "execution_count": 55,
      "outputs": [
        {
          "output_type": "stream",
          "name": "stdout",
          "text": [
            "samsung has 126.05278924276972% more sales than apple in the market \n",
            "\n",
            "Also samsung has 515890200.0% more sales than bottom place brand in the market\n"
          ]
        }
      ]
    },
    {
      "cell_type": "code",
      "source": [
        "!pip install squarify\n",
        "import squarify"
      ],
      "metadata": {
        "colab": {
          "base_uri": "https://localhost:8080/"
        },
        "id": "hCkTJlGT6_S5",
        "outputId": "d5de2a35-8e94-489f-b73f-86c33ef5e189"
      },
      "execution_count": 23,
      "outputs": [
        {
          "output_type": "stream",
          "name": "stdout",
          "text": [
            "Requirement already satisfied: squarify in /usr/local/lib/python3.7/dist-packages (0.4.3)\n"
          ]
        }
      ]
    },
    {
      "cell_type": "markdown",
      "source": [
        "# Squarify [Documentation](https://github.com/laserson/squarify)"
      ],
      "metadata": {
        "id": "Uw5Iqn495_Oq"
      }
    },
    {
      "cell_type": "code",
      "source": [
        "# split method test\n",
        "\n",
        "t = 's.k'\n",
        "t.split('.')"
      ],
      "metadata": {
        "colab": {
          "base_uri": "https://localhost:8080/"
        },
        "id": "TecjWyZ1-T35",
        "outputId": "daa8c4c3-56a5-4721-f8ee-60c9a566d261"
      },
      "execution_count": 25,
      "outputs": [
        {
          "output_type": "execute_result",
          "data": {
            "text/plain": [
              "['s', 'k']"
            ]
          },
          "metadata": {},
          "execution_count": 25
        }
      ]
    },
    {
      "cell_type": "code",
      "source": [
        "v = data_frame.loc[:,'category_code']\n",
        "v.describe()"
      ],
      "metadata": {
        "colab": {
          "base_uri": "https://localhost:8080/"
        },
        "id": "-l_dwff--heC",
        "outputId": "beed8a7d-c2f7-482e-be88-684786383f20"
      },
      "execution_count": 35,
      "outputs": [
        {
          "output_type": "execute_result",
          "data": {
            "text/plain": [
              "count                   28933155\n",
              "unique                       126\n",
              "top       electronics.smartphone\n",
              "freq                    11507231\n",
              "Name: category_code, dtype: object"
            ]
          },
          "metadata": {},
          "execution_count": 35
        }
      ]
    },
    {
      "cell_type": "code",
      "source": [
        "import matplotlib.pyplot as plt \n",
        "# import split\n",
        "\n",
        "top_category_n = 5\n",
        "\n",
        "# val=data_frame.loc[:,'category_code']\n",
        "# sp = val[:-1].split(\".\")\n",
        "\n",
        "top_category = data_frame.loc[:,'category_code'].value_counts()[:top_category_n].sort_values(ascending=False)\n",
        "squarify.plot(sizes=top_category, label=top_category.index.array, color=[\"black\",\"cyan\",\"green\",\"orange\",\"blue\",\"grey\"], alpha=.7, pad=1,  text_kwargs={'fontsize':7})\n",
        "\n",
        "\n",
        "# squarify.plot()\n",
        "plt.axis('off')\n",
        "plt.show()"
      ],
      "metadata": {
        "colab": {
          "base_uri": "https://localhost:8080/",
          "height": 466
        },
        "id": "NhCzhCJn4h5c",
        "outputId": "d28562a8-07e9-4649-964b-b998c9d8936f"
      },
      "execution_count": 43,
      "outputs": [
        {
          "output_type": "display_data",
          "data": {
            "text/plain": [
              "<Figure size 576x576 with 1 Axes>"
            ],
            "image/png": "[encoded data removed]"
          },
          "metadata": {
            "needs_background": "light"
          }
        }
      ]
    },
    {
      "cell_type": "code",
      "source": [
        "import squarify\n",
        "\n",
        "width = 700.\n",
        "height = 433.\n",
        "\n",
        "values = [500, 433, 78, 25, 25, 7]\n",
        "\n",
        "# values must be sorted descending (and positive, obviously)\n",
        "values.sort(reverse=True)\n",
        "\n",
        "# the sum of the values must equal the total area to be laid out\n",
        "# i.e., sum(values) == width * height\n",
        "values = squarify.normalize_sizes(values, width, height)\n",
        "\n",
        "# returns a list of rectangles\n",
        "rects = squarify.squarify(values, x, y, width, height)\n",
        "\n",
        "# padded rectangles will probably visualize better for certain cases\n",
        "padded_rects = squarify.padded_squarify(values, x, y, width, height)"
      ],
      "metadata": {
        "id": "sZENwG1V6ROx"
      },
      "execution_count": 6,
      "outputs": []
    },
    {
      "cell_type": "markdown",
      "source": [
        "# Split data\n",
        "- Training Set\n",
        "- Test Set"
      ],
      "metadata": {
        "id": "E28z-6kOSY-K"
      }
    },
    {
      "cell_type": "markdown",
      "source": [
        "# Create a Model "
      ],
      "metadata": {
        "id": "7xQ4QCZjSqTS"
      }
    },
    {
      "cell_type": "markdown",
      "source": [
        "## Tensorflow\n",
        "[doc](https://www.tensorflow.org/)\n",
        "### Keras\n",
        "[doc](https://keras.io/getting_started/intro_to_keras_for_engineers/)"
      ],
      "metadata": {
        "id": "tvgWYlirNkvR"
      }
    },
    {
      "cell_type": "code",
      "source": [
        "import numpy as np\n",
        "import tensorflow as tf\n",
        "from tensorflow import keras\n",
        "print(tf.__version__)"
      ],
      "metadata": {
        "id": "DOX1Du3Y1mNO",
        "colab": {
          "base_uri": "https://localhost:8080/"
        },
        "outputId": "f880c3c4-49d6-4df7-d893-0af2a361b741"
      },
      "execution_count": null,
      "outputs": [
        {
          "output_type": "stream",
          "name": "stdout",
          "text": [
            "2.8.0\n"
          ]
        }
      ]
    },
    {
      "cell_type": "markdown",
      "source": [
        ""
      ],
      "metadata": {
        "id": "Am2c2DzyKToM"
      }
    },
    {
      "cell_type": "markdown",
      "source": [
        "# Check the output"
      ],
      "metadata": {
        "id": "Xkf9N0jRSyn3"
      }
    },
    {
      "cell_type": "markdown",
      "source": [
        "# Improve"
      ],
      "metadata": {
        "id": "cMaku-d2S2an"
      }
    }
  ]
}