{
  "nbformat": 4,
  "nbformat_minor": 0,
  "metadata": {
    "colab": {
      "name": "senoir_test.ipynb",
      "provenance": []
    },
    "kernelspec": {
      "name": "python3",
      "display_name": "Python 3"
    },
    "language_info": {
      "name": "python"
    }
  },
  "cells": [
    {
      "cell_type": "markdown",
      "source": [
        "# Tensorflow"
      ],
      "metadata": {
        "id": "8kK-l_6GJ027"
      }
    },
    {
      "cell_type": "code",
      "execution_count": 18,
      "metadata": {
        "colab": {
          "base_uri": "https://localhost:8080/"
        },
        "id": "brvpezStFnoJ",
        "outputId": "5ce3a39c-686c-40b9-dbd0-f866189c8196"
      },
      "outputs": [
        {
          "output_type": "stream",
          "name": "stdout",
          "text": [
            "Dataframe shape: (100, 7)\n"
          ]
        }
      ],
      "source": [
        "import pandas as pd\n",
        "reviews_df = pd.read_csv(\"drive/MyDrive/Dataset/selected.csv\", nrows=100)\n",
        "# print the shape of the dataframe\n",
        "print(\"Dataframe shape:\", reviews_df.shape)"
      ]
    },
    {
      "cell_type": "code",
      "source": [
        "val= reviews_df.loc[:,'category_code']\n",
        "val.unique()\n",
        "# sp = val.unique()[:-1].split(\".\")\n",
        "# sp"
      ],
      "metadata": {
        "colab": {
          "base_uri": "https://localhost:8080/"
        },
        "id": "r6UsuuLLQLqq",
        "outputId": "889d1457-56dc-4bfa-b3fc-10a1853d1cb3"
      },
      "execution_count": 19,
      "outputs": [
        {
          "output_type": "execute_result",
          "data": {
            "text/plain": [
              "array(['appliances.environment.water_heater',\n",
              "       'furniture.living_room.sofa', 'computers.notebook',\n",
              "       'electronics.smartphone', 'computers.desktop',\n",
              "       'apparel.shoes.keds', 'appliances.kitchen.microwave',\n",
              "       'furniture.bedroom.bed', 'electronics.video.tv',\n",
              "       'appliances.kitchen.mixer', 'electronics.audio.headphone',\n",
              "       'appliances.environment.air_heater', 'apparel.shoes',\n",
              "       'appliances.environment.vacuum',\n",
              "       'appliances.kitchen.refrigerators', 'appliances.kitchen.washer',\n",
              "       'computers.peripherals.monitor', 'construction.tools.pump',\n",
              "       'electronics.clocks', 'apparel.shoes.slipons'], dtype=object)"
            ]
          },
          "metadata": {},
          "execution_count": 19
        }
      ]
    },
    {
      "cell_type": "code",
      "source": [
        "rdf1 = reviews_df.drop(columns=['Unnamed: 0'])"
      ],
      "metadata": {
        "id": "sRKvMRVsGB3g"
      },
      "execution_count": 20,
      "outputs": []
    },
    {
      "cell_type": "markdown",
      "source": [
        "# coorelation matrix"
      ],
      "metadata": {
        "id": "E6KkHdE8fj2g"
      }
    },
    {
      "cell_type": "code",
      "source": [
        "ratings_utility_matrix = rdf1.pivot_table(values='price', index='user_id', columns='category_code', fill_value=0)\n",
        "ratings_utility_matrix.head()"
      ],
      "metadata": {
        "colab": {
          "base_uri": "https://localhost:8080/",
          "height": 301
        },
        "id": "j8pFulUxfjED",
        "outputId": "6b6acd25-da8e-4006-a1f2-744e9146a9f8"
      },
      "execution_count": 21,
      "outputs": [
        {
          "output_type": "execute_result",
          "data": {
            "text/plain": [
              "category_code  apparel.shoes  apparel.shoes.keds  apparel.shoes.slipons  \\\n",
              "user_id                                                                   \n",
              "512539408                0.0                 0.0                    0.0   \n",
              "512558158                0.0                 0.0                    0.0   \n",
              "512742880                0.0                 0.0                    0.0   \n",
              "512796782                0.0                 0.0                    0.0   \n",
              "513457407                0.0                 0.0                    0.0   \n",
              "\n",
              "category_code  appliances.environment.air_heater  \\\n",
              "user_id                                            \n",
              "512539408                                    0.0   \n",
              "512558158                                    0.0   \n",
              "512742880                                    0.0   \n",
              "512796782                                   28.7   \n",
              "513457407                                    0.0   \n",
              "\n",
              "category_code  appliances.environment.vacuum  \\\n",
              "user_id                                        \n",
              "512539408                                0.0   \n",
              "512558158                                0.0   \n",
              "512742880                                0.0   \n",
              "512796782                                0.0   \n",
              "513457407                                0.0   \n",
              "\n",
              "category_code  appliances.environment.water_heater  \\\n",
              "user_id                                              \n",
              "512539408                                      0.0   \n",
              "512558158                                      0.0   \n",
              "512742880                                      0.0   \n",
              "512796782                                      0.0   \n",
              "513457407                                      0.0   \n",
              "\n",
              "category_code  appliances.kitchen.microwave  appliances.kitchen.mixer  \\\n",
              "user_id                                                                 \n",
              "512539408                               0.0                       0.0   \n",
              "512558158                               0.0                       0.0   \n",
              "512742880                               0.0                       0.0   \n",
              "512796782                               0.0                       0.0   \n",
              "513457407                               0.0                       0.0   \n",
              "\n",
              "category_code  appliances.kitchen.refrigerators  appliances.kitchen.washer  \\\n",
              "user_id                                                                      \n",
              "512539408                                   0.0                        0.0   \n",
              "512558158                                   0.0                        0.0   \n",
              "512742880                                   0.0                        0.0   \n",
              "512796782                                   0.0                        0.0   \n",
              "513457407                                   0.0                        0.0   \n",
              "\n",
              "category_code  computers.desktop  computers.notebook  \\\n",
              "user_id                                                \n",
              "512539408                 0.0000                 0.0   \n",
              "512558158                 0.0000                 0.0   \n",
              "512742880               957.5275                 0.0   \n",
              "512796782                 0.0000                 0.0   \n",
              "513457407                 0.0000                 0.0   \n",
              "\n",
              "category_code  computers.peripherals.monitor  construction.tools.pump  \\\n",
              "user_id                                                                 \n",
              "512539408                                0.0                      0.0   \n",
              "512558158                                0.0                      0.0   \n",
              "512742880                                0.0                      0.0   \n",
              "512796782                                0.0                      0.0   \n",
              "513457407                                0.0                      0.0   \n",
              "\n",
              "category_code  electronics.audio.headphone  electronics.clocks  \\\n",
              "user_id                                                          \n",
              "512539408                              0.0                 0.0   \n",
              "512558158                              0.0                 0.0   \n",
              "512742880                              0.0                 0.0   \n",
              "512796782                              0.0                 0.0   \n",
              "513457407                              0.0                 0.0   \n",
              "\n",
              "category_code  electronics.smartphone  electronics.video.tv  \\\n",
              "user_id                                                       \n",
              "512539408                     957.530                   0.0   \n",
              "512558158                     654.090                   0.0   \n",
              "512742880                       0.000                   0.0   \n",
              "512796782                       0.000                   0.0   \n",
              "513457407                     293.605                   0.0   \n",
              "\n",
              "category_code  furniture.bedroom.bed  furniture.living_room.sofa  \n",
              "user_id                                                           \n",
              "512539408                        0.0                         0.0  \n",
              "512558158                        0.0                         0.0  \n",
              "512742880                        0.0                         0.0  \n",
              "512796782                        0.0                         0.0  \n",
              "513457407                        0.0                         0.0  "
            ],
            "text/html": [
              "\n",
              "  <div id=\"df-04e74913-b7ab-4c9b-bbcf-f8a70635261b\">\n",
              "    <div class=\"colab-df-container\">\n",
              "      <div>\n",
              "<style scoped>\n",
              "    .dataframe tbody tr th:only-of-type {\n",
              "        vertical-align: middle;\n",
              "    }\n",
              "\n",
              "    .dataframe tbody tr th {\n",
              "        vertical-align: top;\n",
              "    }\n",
              "\n",
              "    .dataframe thead th {\n",
              "        text-align: right;\n",
              "    }\n",
              "</style>\n",
              "<table border=\"1\" class=\"dataframe\">\n",
              "  <thead>\n",
              "    <tr style=\"text-align: right;\">\n",
              "      <th>category_code</th>\n",
              "      <th>apparel.shoes</th>\n",
              "      <th>apparel.shoes.keds</th>\n",
              "      <th>apparel.shoes.slipons</th>\n",
              "      <th>appliances.environment.air_heater</th>\n",
              "      <th>appliances.environment.vacuum</th>\n",
              "      <th>appliances.environment.water_heater</th>\n",
              "      <th>appliances.kitchen.microwave</th>\n",
              "      <th>appliances.kitchen.mixer</th>\n",
              "      <th>appliances.kitchen.refrigerators</th>\n",
              "      <th>appliances.kitchen.washer</th>\n",
              "      <th>computers.desktop</th>\n",
              "      <th>computers.notebook</th>\n",
              "      <th>computers.peripherals.monitor</th>\n",
              "      <th>construction.tools.pump</th>\n",
              "      <th>electronics.audio.headphone</th>\n",
              "      <th>electronics.clocks</th>\n",
              "      <th>electronics.smartphone</th>\n",
              "      <th>electronics.video.tv</th>\n",
              "      <th>furniture.bedroom.bed</th>\n",
              "      <th>furniture.living_room.sofa</th>\n",
              "    </tr>\n",
              "    <tr>\n",
              "      <th>user_id</th>\n",
              "      <th></th>\n",
              "      <th></th>\n",
              "      <th></th>\n",
              "      <th></th>\n",
              "      <th></th>\n",
              "      <th></th>\n",
              "      <th></th>\n",
              "      <th></th>\n",
              "      <th></th>\n",
              "      <th></th>\n",
              "      <th></th>\n",
              "      <th></th>\n",
              "      <th></th>\n",
              "      <th></th>\n",
              "      <th></th>\n",
              "      <th></th>\n",
              "      <th></th>\n",
              "      <th></th>\n",
              "      <th></th>\n",
              "      <th></th>\n",
              "    </tr>\n",
              "  </thead>\n",
              "  <tbody>\n",
              "    <tr>\n",
              "      <th>512539408</th>\n",
              "      <td>0.0</td>\n",
              "      <td>0.0</td>\n",
              "      <td>0.0</td>\n",
              "      <td>0.0</td>\n",
              "      <td>0.0</td>\n",
              "      <td>0.0</td>\n",
              "      <td>0.0</td>\n",
              "      <td>0.0</td>\n",
              "      <td>0.0</td>\n",
              "      <td>0.0</td>\n",
              "      <td>0.0000</td>\n",
              "      <td>0.0</td>\n",
              "      <td>0.0</td>\n",
              "      <td>0.0</td>\n",
              "      <td>0.0</td>\n",
              "      <td>0.0</td>\n",
              "      <td>957.530</td>\n",
              "      <td>0.0</td>\n",
              "      <td>0.0</td>\n",
              "      <td>0.0</td>\n",
              "    </tr>\n",
              "    <tr>\n",
              "      <th>512558158</th>\n",
              "      <td>0.0</td>\n",
              "      <td>0.0</td>\n",
              "      <td>0.0</td>\n",
              "      <td>0.0</td>\n",
              "      <td>0.0</td>\n",
              "      <td>0.0</td>\n",
              "      <td>0.0</td>\n",
              "      <td>0.0</td>\n",
              "      <td>0.0</td>\n",
              "      <td>0.0</td>\n",
              "      <td>0.0000</td>\n",
              "      <td>0.0</td>\n",
              "      <td>0.0</td>\n",
              "      <td>0.0</td>\n",
              "      <td>0.0</td>\n",
              "      <td>0.0</td>\n",
              "      <td>654.090</td>\n",
              "      <td>0.0</td>\n",
              "      <td>0.0</td>\n",
              "      <td>0.0</td>\n",
              "    </tr>\n",
              "    <tr>\n",
              "      <th>512742880</th>\n",
              "      <td>0.0</td>\n",
              "      <td>0.0</td>\n",
              "      <td>0.0</td>\n",
              "      <td>0.0</td>\n",
              "      <td>0.0</td>\n",
              "      <td>0.0</td>\n",
              "      <td>0.0</td>\n",
              "      <td>0.0</td>\n",
              "      <td>0.0</td>\n",
              "      <td>0.0</td>\n",
              "      <td>957.5275</td>\n",
              "      <td>0.0</td>\n",
              "      <td>0.0</td>\n",
              "      <td>0.0</td>\n",
              "      <td>0.0</td>\n",
              "      <td>0.0</td>\n",
              "      <td>0.000</td>\n",
              "      <td>0.0</td>\n",
              "      <td>0.0</td>\n",
              "      <td>0.0</td>\n",
              "    </tr>\n",
              "    <tr>\n",
              "      <th>512796782</th>\n",
              "      <td>0.0</td>\n",
              "      <td>0.0</td>\n",
              "      <td>0.0</td>\n",
              "      <td>28.7</td>\n",
              "      <td>0.0</td>\n",
              "      <td>0.0</td>\n",
              "      <td>0.0</td>\n",
              "      <td>0.0</td>\n",
              "      <td>0.0</td>\n",
              "      <td>0.0</td>\n",
              "      <td>0.0000</td>\n",
              "      <td>0.0</td>\n",
              "      <td>0.0</td>\n",
              "      <td>0.0</td>\n",
              "      <td>0.0</td>\n",
              "      <td>0.0</td>\n",
              "      <td>0.000</td>\n",
              "      <td>0.0</td>\n",
              "      <td>0.0</td>\n",
              "      <td>0.0</td>\n",
              "    </tr>\n",
              "    <tr>\n",
              "      <th>513457407</th>\n",
              "      <td>0.0</td>\n",
              "      <td>0.0</td>\n",
              "      <td>0.0</td>\n",
              "      <td>0.0</td>\n",
              "      <td>0.0</td>\n",
              "      <td>0.0</td>\n",
              "      <td>0.0</td>\n",
              "      <td>0.0</td>\n",
              "      <td>0.0</td>\n",
              "      <td>0.0</td>\n",
              "      <td>0.0000</td>\n",
              "      <td>0.0</td>\n",
              "      <td>0.0</td>\n",
              "      <td>0.0</td>\n",
              "      <td>0.0</td>\n",
              "      <td>0.0</td>\n",
              "      <td>293.605</td>\n",
              "      <td>0.0</td>\n",
              "      <td>0.0</td>\n",
              "      <td>0.0</td>\n",
              "    </tr>\n",
              "  </tbody>\n",
              "</table>\n",
              "</div>\n",
              "      <button class=\"colab-df-convert\" onclick=\"convertToInteractive('df-04e74913-b7ab-4c9b-bbcf-f8a70635261b')\"\n",
              "              title=\"Convert this dataframe to an interactive table.\"\n",
              "              style=\"display:none;\">\n",
              "        \n",
              "  <svg xmlns=\"http://www.w3.org/2000/svg\" height=\"24px\"viewBox=\"0 0 24 24\"\n",
              "       width=\"24px\">\n",
              "    <path d=\"M0 0h24v24H0V0z\" fill=\"none\"/>\n",
              "    <path d=\"M18.56 5.44l.94 2.06.94-2.06 2.06-.94-2.06-.94-.94-2.06-.94 2.06-2.06.94zm-11 1L8.5 8.5l.94-2.06 2.06-.94-2.06-.94L8.5 2.5l-.94 2.06-2.06.94zm10 10l.94 2.06.94-2.06 2.06-.94-2.06-.94-.94-2.06-.94 2.06-2.06.94z\"/><path d=\"M17.41 7.96l-1.37-1.37c-.4-.4-.92-.59-1.43-.59-.52 0-1.04.2-1.43.59L10.3 9.45l-7.72 7.72c-.78.78-.78 2.05 0 2.83L4 21.41c.39.39.9.59 1.41.59.51 0 1.02-.2 1.41-.59l7.78-7.78 2.81-2.81c.8-.78.8-2.07 0-2.86zM5.41 20L4 18.59l7.72-7.72 1.47 1.35L5.41 20z\"/>\n",
              "  </svg>\n",
              "      </button>\n",
              "      \n",
              "  <style>\n",
              "    .colab-df-container {\n",
              "      display:flex;\n",
              "      flex-wrap:wrap;\n",
              "      gap: 12px;\n",
              "    }\n",
              "\n",
              "    .colab-df-convert {\n",
              "      background-color: #E8F0FE;\n",
              "      border: none;\n",
              "      border-radius: 50%;\n",
              "      cursor: pointer;\n",
              "      display: none;\n",
              "      fill: #1967D2;\n",
              "      height: 32px;\n",
              "      padding: 0 0 0 0;\n",
              "      width: 32px;\n",
              "    }\n",
              "\n",
              "    .colab-df-convert:hover {\n",
              "      background-color: #E2EBFA;\n",
              "      box-shadow: 0px 1px 2px rgba(60, 64, 67, 0.3), 0px 1px 3px 1px rgba(60, 64, 67, 0.15);\n",
              "      fill: #174EA6;\n",
              "    }\n",
              "\n",
              "    [theme=dark] .colab-df-convert {\n",
              "      background-color: #3B4455;\n",
              "      fill: #D2E3FC;\n",
              "    }\n",
              "\n",
              "    [theme=dark] .colab-df-convert:hover {\n",
              "      background-color: #434B5C;\n",
              "      box-shadow: 0px 1px 3px 1px rgba(0, 0, 0, 0.15);\n",
              "      filter: drop-shadow(0px 1px 2px rgba(0, 0, 0, 0.3));\n",
              "      fill: #FFFFFF;\n",
              "    }\n",
              "  </style>\n",
              "\n",
              "      <script>\n",
              "        const buttonEl =\n",
              "          document.querySelector('#df-04e74913-b7ab-4c9b-bbcf-f8a70635261b button.colab-df-convert');\n",
              "        buttonEl.style.display =\n",
              "          google.colab.kernel.accessAllowed ? 'block' : 'none';\n",
              "\n",
              "        async function convertToInteractive(key) {\n",
              "          const element = document.querySelector('#df-04e74913-b7ab-4c9b-bbcf-f8a70635261b');\n",
              "          const dataTable =\n",
              "            await google.colab.kernel.invokeFunction('convertToInteractive',\n",
              "                                                     [key], {});\n",
              "          if (!dataTable) return;\n",
              "\n",
              "          const docLinkHtml = 'Like what you see? Visit the ' +\n",
              "            '<a target=\"_blank\" href=https://colab.research.google.com/notebooks/data_table.ipynb>data table notebook</a>'\n",
              "            + ' to learn more about interactive tables.';\n",
              "          element.innerHTML = '';\n",
              "          dataTable['output_type'] = 'display_data';\n",
              "          await google.colab.output.renderOutput(dataTable, element);\n",
              "          const docLink = document.createElement('div');\n",
              "          docLink.innerHTML = docLinkHtml;\n",
              "          element.appendChild(docLink);\n",
              "        }\n",
              "      </script>\n",
              "    </div>\n",
              "  </div>\n",
              "  "
            ]
          },
          "metadata": {},
          "execution_count": 21
        }
      ]
    },
    {
      "cell_type": "code",
      "source": [
        "ratings_utility_matrix.shape"
      ],
      "metadata": {
        "colab": {
          "base_uri": "https://localhost:8080/"
        },
        "id": "P3iQpw_rf4v1",
        "outputId": "efb63391-87cc-47aa-ce1e-a8dc272e47e7"
      },
      "execution_count": 22,
      "outputs": [
        {
          "output_type": "execute_result",
          "data": {
            "text/plain": [
              "(61, 20)"
            ]
          },
          "metadata": {},
          "execution_count": 22
        }
      ]
    },
    {
      "cell_type": "code",
      "source": [
        "X = ratings_utility_matrix.T\n",
        "X.head()"
      ],
      "metadata": {
        "colab": {
          "base_uri": "https://localhost:8080/",
          "height": 331
        },
        "id": "Z4yf3GJbgBxl",
        "outputId": "e7bbe118-9e79-4388-f868-e9d8e7721448"
      },
      "execution_count": 23,
      "outputs": [
        {
          "output_type": "execute_result",
          "data": {
            "text/plain": [
              "user_id                            512539408  512558158  512742880  512796782  \\\n",
              "category_code                                                                   \n",
              "apparel.shoes                            0.0        0.0        0.0        0.0   \n",
              "apparel.shoes.keds                       0.0        0.0        0.0        0.0   \n",
              "apparel.shoes.slipons                    0.0        0.0        0.0        0.0   \n",
              "appliances.environment.air_heater        0.0        0.0        0.0       28.7   \n",
              "appliances.environment.vacuum            0.0        0.0        0.0        0.0   \n",
              "\n",
              "user_id                            513457407  513664804  513758741  513798668  \\\n",
              "category_code                                                                   \n",
              "apparel.shoes                            0.0        0.0        0.0     102.45   \n",
              "apparel.shoes.keds                       0.0        0.0        0.0       0.00   \n",
              "apparel.shoes.slipons                    0.0        0.0        0.0       0.00   \n",
              "appliances.environment.air_heater        0.0        0.0        0.0       0.00   \n",
              "appliances.environment.vacuum            0.0        0.0        0.0       0.00   \n",
              "\n",
              "user_id                            514080443  514218020  ...  555217733  \\\n",
              "category_code                                            ...              \n",
              "apparel.shoes                            0.0        0.0  ...       0.00   \n",
              "apparel.shoes.keds                       0.0        0.0  ...       0.00   \n",
              "apparel.shoes.slipons                    0.0        0.0  ...       0.00   \n",
              "appliances.environment.air_heater        0.0        0.0  ...       0.00   \n",
              "appliances.environment.vacuum            0.0        0.0  ...     149.24   \n",
              "\n",
              "user_id                            555357251  555428858  555444559  555446365  \\\n",
              "category_code                                                                   \n",
              "apparel.shoes                            0.0        0.0        0.0        0.0   \n",
              "apparel.shoes.keds                       0.0        0.0        0.0        0.0   \n",
              "apparel.shoes.slipons                    0.0        0.0        0.0        0.0   \n",
              "appliances.environment.air_heater        0.0        0.0        0.0        0.0   \n",
              "appliances.environment.vacuum            0.0        0.0        0.0        0.0   \n",
              "\n",
              "user_id                            555446831  555447228  555447570  555447651  \\\n",
              "category_code                                                                   \n",
              "apparel.shoes                            0.0       0.00     51.220        0.0   \n",
              "apparel.shoes.keds                       0.0       0.00     69.885        0.0   \n",
              "apparel.shoes.slipons                    0.0       0.00      0.000        0.0   \n",
              "appliances.environment.air_heater        0.0      49.81      0.000        0.0   \n",
              "appliances.environment.vacuum            0.0       0.00      0.000        0.0   \n",
              "\n",
              "user_id                            555447788  \n",
              "category_code                                 \n",
              "apparel.shoes                            0.0  \n",
              "apparel.shoes.keds                       0.0  \n",
              "apparel.shoes.slipons                    0.0  \n",
              "appliances.environment.air_heater        0.0  \n",
              "appliances.environment.vacuum            0.0  \n",
              "\n",
              "[5 rows x 61 columns]"
            ],
            "text/html": [
              "\n",
              "  <div id=\"df-77953e07-5e28-4f9f-b9f1-9f474108bdfa\">\n",
              "    <div class=\"colab-df-container\">\n",
              "      <div>\n",
              "<style scoped>\n",
              "    .dataframe tbody tr th:only-of-type {\n",
              "        vertical-align: middle;\n",
              "    }\n",
              "\n",
              "    .dataframe tbody tr th {\n",
              "        vertical-align: top;\n",
              "    }\n",
              "\n",
              "    .dataframe thead th {\n",
              "        text-align: right;\n",
              "    }\n",
              "</style>\n",
              "<table border=\"1\" class=\"dataframe\">\n",
              "  <thead>\n",
              "    <tr style=\"text-align: right;\">\n",
              "      <th>user_id</th>\n",
              "      <th>512539408</th>\n",
              "      <th>512558158</th>\n",
              "      <th>512742880</th>\n",
              "      <th>512796782</th>\n",
              "      <th>513457407</th>\n",
              "      <th>513664804</th>\n",
              "      <th>513758741</th>\n",
              "      <th>513798668</th>\n",
              "      <th>514080443</th>\n",
              "      <th>514218020</th>\n",
              "      <th>...</th>\n",
              "      <th>555217733</th>\n",
              "      <th>555357251</th>\n",
              "      <th>555428858</th>\n",
              "      <th>555444559</th>\n",
              "      <th>555446365</th>\n",
              "      <th>555446831</th>\n",
              "      <th>555447228</th>\n",
              "      <th>555447570</th>\n",
              "      <th>555447651</th>\n",
              "      <th>555447788</th>\n",
              "    </tr>\n",
              "    <tr>\n",
              "      <th>category_code</th>\n",
              "      <th></th>\n",
              "      <th></th>\n",
              "      <th></th>\n",
              "      <th></th>\n",
              "      <th></th>\n",
              "      <th></th>\n",
              "      <th></th>\n",
              "      <th></th>\n",
              "      <th></th>\n",
              "      <th></th>\n",
              "      <th></th>\n",
              "      <th></th>\n",
              "      <th></th>\n",
              "      <th></th>\n",
              "      <th></th>\n",
              "      <th></th>\n",
              "      <th></th>\n",
              "      <th></th>\n",
              "      <th></th>\n",
              "      <th></th>\n",
              "      <th></th>\n",
              "    </tr>\n",
              "  </thead>\n",
              "  <tbody>\n",
              "    <tr>\n",
              "      <th>apparel.shoes</th>\n",
              "      <td>0.0</td>\n",
              "      <td>0.0</td>\n",
              "      <td>0.0</td>\n",
              "      <td>0.0</td>\n",
              "      <td>0.0</td>\n",
              "      <td>0.0</td>\n",
              "      <td>0.0</td>\n",
              "      <td>102.45</td>\n",
              "      <td>0.0</td>\n",
              "      <td>0.0</td>\n",
              "      <td>...</td>\n",
              "      <td>0.00</td>\n",
              "      <td>0.0</td>\n",
              "      <td>0.0</td>\n",
              "      <td>0.0</td>\n",
              "      <td>0.0</td>\n",
              "      <td>0.0</td>\n",
              "      <td>0.00</td>\n",
              "      <td>51.220</td>\n",
              "      <td>0.0</td>\n",
              "      <td>0.0</td>\n",
              "    </tr>\n",
              "    <tr>\n",
              "      <th>apparel.shoes.keds</th>\n",
              "      <td>0.0</td>\n",
              "      <td>0.0</td>\n",
              "      <td>0.0</td>\n",
              "      <td>0.0</td>\n",
              "      <td>0.0</td>\n",
              "      <td>0.0</td>\n",
              "      <td>0.0</td>\n",
              "      <td>0.00</td>\n",
              "      <td>0.0</td>\n",
              "      <td>0.0</td>\n",
              "      <td>...</td>\n",
              "      <td>0.00</td>\n",
              "      <td>0.0</td>\n",
              "      <td>0.0</td>\n",
              "      <td>0.0</td>\n",
              "      <td>0.0</td>\n",
              "      <td>0.0</td>\n",
              "      <td>0.00</td>\n",
              "      <td>69.885</td>\n",
              "      <td>0.0</td>\n",
              "      <td>0.0</td>\n",
              "    </tr>\n",
              "    <tr>\n",
              "      <th>apparel.shoes.slipons</th>\n",
              "      <td>0.0</td>\n",
              "      <td>0.0</td>\n",
              "      <td>0.0</td>\n",
              "      <td>0.0</td>\n",
              "      <td>0.0</td>\n",
              "      <td>0.0</td>\n",
              "      <td>0.0</td>\n",
              "      <td>0.00</td>\n",
              "      <td>0.0</td>\n",
              "      <td>0.0</td>\n",
              "      <td>...</td>\n",
              "      <td>0.00</td>\n",
              "      <td>0.0</td>\n",
              "      <td>0.0</td>\n",
              "      <td>0.0</td>\n",
              "      <td>0.0</td>\n",
              "      <td>0.0</td>\n",
              "      <td>0.00</td>\n",
              "      <td>0.000</td>\n",
              "      <td>0.0</td>\n",
              "      <td>0.0</td>\n",
              "    </tr>\n",
              "    <tr>\n",
              "      <th>appliances.environment.air_heater</th>\n",
              "      <td>0.0</td>\n",
              "      <td>0.0</td>\n",
              "      <td>0.0</td>\n",
              "      <td>28.7</td>\n",
              "      <td>0.0</td>\n",
              "      <td>0.0</td>\n",
              "      <td>0.0</td>\n",
              "      <td>0.00</td>\n",
              "      <td>0.0</td>\n",
              "      <td>0.0</td>\n",
              "      <td>...</td>\n",
              "      <td>0.00</td>\n",
              "      <td>0.0</td>\n",
              "      <td>0.0</td>\n",
              "      <td>0.0</td>\n",
              "      <td>0.0</td>\n",
              "      <td>0.0</td>\n",
              "      <td>49.81</td>\n",
              "      <td>0.000</td>\n",
              "      <td>0.0</td>\n",
              "      <td>0.0</td>\n",
              "    </tr>\n",
              "    <tr>\n",
              "      <th>appliances.environment.vacuum</th>\n",
              "      <td>0.0</td>\n",
              "      <td>0.0</td>\n",
              "      <td>0.0</td>\n",
              "      <td>0.0</td>\n",
              "      <td>0.0</td>\n",
              "      <td>0.0</td>\n",
              "      <td>0.0</td>\n",
              "      <td>0.00</td>\n",
              "      <td>0.0</td>\n",
              "      <td>0.0</td>\n",
              "      <td>...</td>\n",
              "      <td>149.24</td>\n",
              "      <td>0.0</td>\n",
              "      <td>0.0</td>\n",
              "      <td>0.0</td>\n",
              "      <td>0.0</td>\n",
              "      <td>0.0</td>\n",
              "      <td>0.00</td>\n",
              "      <td>0.000</td>\n",
              "      <td>0.0</td>\n",
              "      <td>0.0</td>\n",
              "    </tr>\n",
              "  </tbody>\n",
              "</table>\n",
              "<p>5 rows × 61 columns</p>\n",
              "</div>\n",
              "      <button class=\"colab-df-convert\" onclick=\"convertToInteractive('df-77953e07-5e28-4f9f-b9f1-9f474108bdfa')\"\n",
              "              title=\"Convert this dataframe to an interactive table.\"\n",
              "              style=\"display:none;\">\n",
              "        \n",
              "  <svg xmlns=\"http://www.w3.org/2000/svg\" height=\"24px\"viewBox=\"0 0 24 24\"\n",
              "       width=\"24px\">\n",
              "    <path d=\"M0 0h24v24H0V0z\" fill=\"none\"/>\n",
              "    <path d=\"M18.56 5.44l.94 2.06.94-2.06 2.06-.94-2.06-.94-.94-2.06-.94 2.06-2.06.94zm-11 1L8.5 8.5l.94-2.06 2.06-.94-2.06-.94L8.5 2.5l-.94 2.06-2.06.94zm10 10l.94 2.06.94-2.06 2.06-.94-2.06-.94-.94-2.06-.94 2.06-2.06.94z\"/><path d=\"M17.41 7.96l-1.37-1.37c-.4-.4-.92-.59-1.43-.59-.52 0-1.04.2-1.43.59L10.3 9.45l-7.72 7.72c-.78.78-.78 2.05 0 2.83L4 21.41c.39.39.9.59 1.41.59.51 0 1.02-.2 1.41-.59l7.78-7.78 2.81-2.81c.8-.78.8-2.07 0-2.86zM5.41 20L4 18.59l7.72-7.72 1.47 1.35L5.41 20z\"/>\n",
              "  </svg>\n",
              "      </button>\n",
              "      \n",
              "  <style>\n",
              "    .colab-df-container {\n",
              "      display:flex;\n",
              "      flex-wrap:wrap;\n",
              "      gap: 12px;\n",
              "    }\n",
              "\n",
              "    .colab-df-convert {\n",
              "      background-color: #E8F0FE;\n",
              "      border: none;\n",
              "      border-radius: 50%;\n",
              "      cursor: pointer;\n",
              "      display: none;\n",
              "      fill: #1967D2;\n",
              "      height: 32px;\n",
              "      padding: 0 0 0 0;\n",
              "      width: 32px;\n",
              "    }\n",
              "\n",
              "    .colab-df-convert:hover {\n",
              "      background-color: #E2EBFA;\n",
              "      box-shadow: 0px 1px 2px rgba(60, 64, 67, 0.3), 0px 1px 3px 1px rgba(60, 64, 67, 0.15);\n",
              "      fill: #174EA6;\n",
              "    }\n",
              "\n",
              "    [theme=dark] .colab-df-convert {\n",
              "      background-color: #3B4455;\n",
              "      fill: #D2E3FC;\n",
              "    }\n",
              "\n",
              "    [theme=dark] .colab-df-convert:hover {\n",
              "      background-color: #434B5C;\n",
              "      box-shadow: 0px 1px 3px 1px rgba(0, 0, 0, 0.15);\n",
              "      filter: drop-shadow(0px 1px 2px rgba(0, 0, 0, 0.3));\n",
              "      fill: #FFFFFF;\n",
              "    }\n",
              "  </style>\n",
              "\n",
              "      <script>\n",
              "        const buttonEl =\n",
              "          document.querySelector('#df-77953e07-5e28-4f9f-b9f1-9f474108bdfa button.colab-df-convert');\n",
              "        buttonEl.style.display =\n",
              "          google.colab.kernel.accessAllowed ? 'block' : 'none';\n",
              "\n",
              "        async function convertToInteractive(key) {\n",
              "          const element = document.querySelector('#df-77953e07-5e28-4f9f-b9f1-9f474108bdfa');\n",
              "          const dataTable =\n",
              "            await google.colab.kernel.invokeFunction('convertToInteractive',\n",
              "                                                     [key], {});\n",
              "          if (!dataTable) return;\n",
              "\n",
              "          const docLinkHtml = 'Like what you see? Visit the ' +\n",
              "            '<a target=\"_blank\" href=https://colab.research.google.com/notebooks/data_table.ipynb>data table notebook</a>'\n",
              "            + ' to learn more about interactive tables.';\n",
              "          element.innerHTML = '';\n",
              "          dataTable['output_type'] = 'display_data';\n",
              "          await google.colab.output.renderOutput(dataTable, element);\n",
              "          const docLink = document.createElement('div');\n",
              "          docLink.innerHTML = docLinkHtml;\n",
              "          element.appendChild(docLink);\n",
              "        }\n",
              "      </script>\n",
              "    </div>\n",
              "  </div>\n",
              "  "
            ]
          },
          "metadata": {},
          "execution_count": 23
        }
      ]
    },
    {
      "cell_type": "code",
      "source": [
        "X.shape"
      ],
      "metadata": {
        "colab": {
          "base_uri": "https://localhost:8080/"
        },
        "id": "Zov58JF8gHF4",
        "outputId": "89d393a6-2e31-4660-acf3-baa76ad2fbff"
      },
      "execution_count": 24,
      "outputs": [
        {
          "output_type": "execute_result",
          "data": {
            "text/plain": [
              "(20, 61)"
            ]
          },
          "metadata": {},
          "execution_count": 24
        }
      ]
    },
    {
      "cell_type": "code",
      "source": [
        "X1 = X"
      ],
      "metadata": {
        "id": "FT0RSaGcgIOX"
      },
      "execution_count": 25,
      "outputs": []
    },
    {
      "cell_type": "code",
      "source": [
        "import sklearn\n",
        "from sklearn.decomposition import TruncatedSVD\n",
        "SVD = TruncatedSVD(n_components=10)\n",
        "decomposed_matrix = SVD.fit_transform(X)\n",
        "decomposed_matrix.shape"
      ],
      "metadata": {
        "colab": {
          "base_uri": "https://localhost:8080/"
        },
        "id": "_Rds0yzagLGQ",
        "outputId": "63d3a87a-cc12-4d8f-ee14-7a9c471d3bc0"
      },
      "execution_count": 26,
      "outputs": [
        {
          "output_type": "execute_result",
          "data": {
            "text/plain": [
              "(20, 10)"
            ]
          },
          "metadata": {},
          "execution_count": 26
        }
      ]
    },
    {
      "cell_type": "code",
      "source": [
        "import numpy as np\n",
        "correlation_matrix = np.corrcoef(decomposed_matrix)\n",
        "correlation_matrix.shape"
      ],
      "metadata": {
        "colab": {
          "base_uri": "https://localhost:8080/"
        },
        "id": "_fpMVsPjgYL-",
        "outputId": "50b5f4c4-1861-453a-ff4b-129c94912c67"
      },
      "execution_count": 27,
      "outputs": [
        {
          "output_type": "execute_result",
          "data": {
            "text/plain": [
              "(20, 20)"
            ]
          },
          "metadata": {},
          "execution_count": 27
        }
      ]
    },
    {
      "cell_type": "code",
      "source": [
        "X.index[4]"
      ],
      "metadata": {
        "colab": {
          "base_uri": "https://localhost:8080/",
          "height": 35
        },
        "id": "O3t0J5ungiSe",
        "outputId": "b9716ca2-e650-4418-83f6-3904e0bfe734"
      },
      "execution_count": 28,
      "outputs": [
        {
          "output_type": "execute_result",
          "data": {
            "text/plain": [
              "'appliances.environment.vacuum'"
            ],
            "application/vnd.google.colaboratory.intrinsic+json": {
              "type": "string"
            }
          },
          "metadata": {},
          "execution_count": 28
        }
      ]
    },
    {
      "cell_type": "code",
      "source": [
        "i = \"appliances.environment.vacuum\"\n",
        "\n",
        "product_names = list(X.index)\n",
        "product_ID = product_names.index(i)\n",
        "product_ID"
      ],
      "metadata": {
        "colab": {
          "base_uri": "https://localhost:8080/"
        },
        "id": "poaZsdImgmE4",
        "outputId": "e7f39604-8bfe-4185-81c1-95331831dd71"
      },
      "execution_count": 34,
      "outputs": [
        {
          "output_type": "execute_result",
          "data": {
            "text/plain": [
              "4"
            ]
          },
          "metadata": {},
          "execution_count": 34
        }
      ]
    },
    {
      "cell_type": "code",
      "source": [
        "correlation_product_ID = correlation_matrix[product_ID]\n",
        "correlation_product_ID.shape"
      ],
      "metadata": {
        "colab": {
          "base_uri": "https://localhost:8080/"
        },
        "id": "1ctqIB5tgtR9",
        "outputId": "7c0ba7b2-60dd-44db-8a27-77ef455c3312"
      },
      "execution_count": 40,
      "outputs": [
        {
          "output_type": "execute_result",
          "data": {
            "text/plain": [
              "(20,)"
            ]
          },
          "metadata": {},
          "execution_count": 40
        }
      ]
    },
    {
      "cell_type": "code",
      "source": [
        "Recommend = list(X.index[correlation_product_ID < 1])\n",
        "\n",
        "# Removes the item already bought by the customer\n",
        "# lst = []\n",
        "# for i in lst:\n",
        "#   print(i)\n",
        "#   lst.remove(i)\n",
        "for i in Recommend:\n",
        "  Recommend.remove(i) \n",
        "\n",
        "Recommend[0:5]"
      ],
      "metadata": {
        "colab": {
          "base_uri": "https://localhost:8080/"
        },
        "id": "Z8sp-cbhgwjy",
        "outputId": "691d1d3d-53e0-4deb-a04b-0481d9eea701"
      },
      "execution_count": 42,
      "outputs": [
        {
          "output_type": "execute_result",
          "data": {
            "text/plain": [
              "['apparel.shoes.keds',\n",
              " 'appliances.environment.air_heater',\n",
              " 'appliances.kitchen.microwave',\n",
              " 'appliances.kitchen.refrigerators',\n",
              " 'computers.desktop']"
            ]
          },
          "metadata": {},
          "execution_count": 42
        }
      ]
    },
    {
      "cell_type": "code",
      "source": [
        "from sklearn.model_selection import train_test_split\n",
        "X = rdf1.drop('event_type', axis=1)\n",
        "X"
      ],
      "metadata": {
        "id": "q6voMxWOF4Ol"
      },
      "execution_count": null,
      "outputs": []
    },
    {
      "cell_type": "code",
      "source": [
        "y = rdf1['event_type'].apply(lambda y_vlaue: 1 \n",
        "                                  if y_vlaue=='purchase' \n",
        "                                  else 0)\n",
        "y.tail()"
      ],
      "metadata": {
        "id": "FwX0GibnGQjR"
      },
      "execution_count": null,
      "outputs": []
    },
    {
      "cell_type": "code",
      "source": [
        "X_train, X_test,  y_train, y_test = train_test_split(X, Y, test_size=0.2, random_state=2)\n",
        "print(X_train.shape, y.shape, y_train.shape, y_test.shape)\n"
      ],
      "metadata": {
        "id": "KlGbx2pTGYQv"
      },
      "execution_count": null,
      "outputs": []
    },
    {
      "cell_type": "code",
      "source": [
        "!pip install tensorflow_decision_forests"
      ],
      "metadata": {
        "id": "mAYdNbeqGaD-"
      },
      "execution_count": null,
      "outputs": []
    },
    {
      "cell_type": "code",
      "source": [
        "import tensorflow_decision_forests as tfdf"
      ],
      "metadata": {
        "id": "ez3HUL6HGeGL"
      },
      "execution_count": null,
      "outputs": []
    },
    {
      "cell_type": "code",
      "source": [
        "y_train.to_csv('new.csv')"
      ],
      "metadata": {
        "id": "I8TnqsYNHFXj"
      },
      "execution_count": null,
      "outputs": []
    },
    {
      "cell_type": "code",
      "source": [
        "new_df=(y_train.groupby(['event_types'])\n",
        "           .agg(list)\n",
        "           .reindex(columns=y_train.columns) )\n",
        "print(new_df)"
      ],
      "metadata": {
        "id": "vEytKfMWId5a"
      },
      "execution_count": null,
      "outputs": []
    },
    {
      "cell_type": "code",
      "source": [
        "y_train.head()"
      ],
      "metadata": {
        "id": "1Bdrz3Hcgqfu"
      },
      "execution_count": null,
      "outputs": []
    },
    {
      "cell_type": "code",
      "source": [
        "train_ds = tfdf.keras.pd_dataframe_to_tf_dataset(y_train, label='event_type')\n",
        "model = tfdf.keras.RandomForestModel()\n",
        "model.fit(train_ds)"
      ],
      "metadata": {
        "id": "2U1GO0LrGhsn"
      },
      "execution_count": null,
      "outputs": []
    },
    {
      "cell_type": "markdown",
      "source": [
        "# TensorFlow Recommenders"
      ],
      "metadata": {
        "id": "yw2kDV5Dl2T5"
      }
    },
    {
      "cell_type": "markdown",
      "source": [
        "[more]()"
      ],
      "metadata": {
        "id": "2EBk2og2mT6O"
      }
    },
    {
      "cell_type": "markdown",
      "source": [
        "# KNN"
      ],
      "metadata": {
        "id": "9v4Bx6ASTSpz"
      }
    },
    {
      "cell_type": "code",
      "source": [
        "reviews_df"
      ],
      "metadata": {
        "id": "s6eOg02BTxOC"
      },
      "execution_count": null,
      "outputs": []
    },
    {
      "cell_type": "code",
      "source": [
        "y = reviews_df['event_type'].apply(lambda y_vlaue: 1 \n",
        "                                  if y_vlaue=='view' \n",
        "                                  else 0)\n",
        "y"
      ],
      "metadata": {
        "id": "tNPSK3HNUDOY"
      },
      "execution_count": null,
      "outputs": []
    },
    {
      "cell_type": "code",
      "source": [
        "rx = reviews_df.unique().review_df['user_id'].drop_duplicates()"
      ],
      "metadata": {
        "id": "R9hiRdieVP6o"
      },
      "execution_count": null,
      "outputs": []
    },
    {
      "cell_type": "code",
      "source": [
        "from scipy.sparse import csr_matrix\n",
        "df_movie_features = rx.pivot(\n",
        "    index='Unnamed: 0',\n",
        "    columns='event_type',\n",
        "    values='price'\n",
        ").fillna(0)\n",
        "\n",
        "movie_to_idx = {\n",
        "    movie: i for i, movie in \n",
        "    enumerate(list(reviews_df.set_index('movieId').loc[movie_user_mat.index].title))\n",
        "}\n",
        "# transform matrix to scipy sparse matrix\n",
        "mat_movie_features = csr_matrix(df_movie_features.values)"
      ],
      "metadata": {
        "id": "Qo2EY5dXl3gw"
      },
      "execution_count": null,
      "outputs": []
    },
    {
      "cell_type": "code",
      "source": [
        "df_movie_features.head()"
      ],
      "metadata": {
        "id": "gIesBAn1TR8B"
      },
      "execution_count": null,
      "outputs": []
    },
    {
      "cell_type": "markdown",
      "source": [
        "filter data"
      ],
      "metadata": {
        "id": "s5EtE8-9YwW_"
      }
    },
    {
      "cell_type": "markdown",
      "source": [
        "RESHAPE\n"
      ],
      "metadata": {
        "id": "p2U11HgTYiYC"
      }
    },
    {
      "cell_type": "code",
      "source": [
        "# pivot and create movie-user matrix\n",
        "movie_user_mat = reviews_df.pivot(index='Unnamed: 0', columns='user_id', values='price').fillna(0)\n",
        "# create mapper from movie title to index\n",
        "movie_to_idx = {\n",
        "    movie: i for i, movie in \n",
        "    enumerate(list(reviews_df.set_index('Unnamed: 0').loc[movie_user_mat.index].title))\n",
        "}\n",
        "# transform matrix to scipy sparse matrix\n",
        "movie_user_mat_sparse = csr_matrix(movie_user_mat.values)"
      ],
      "metadata": {
        "id": "EQ8c_X8aaaWi"
      },
      "execution_count": null,
      "outputs": []
    },
    {
      "cell_type": "code",
      "source": [
        "from sklearn.neighbors import NearestNeighbors\n",
        "model_knn = NearestNeighbors(metric='cosine', algorithm='brute', n_neighbors=20, n_jobs=-1)"
      ],
      "metadata": {
        "id": "kW8s6zGTWp3e"
      },
      "execution_count": null,
      "outputs": []
    },
    {
      "cell_type": "code",
      "source": [
        "def make_recommendations(self, fav_pro, n_recommendations):\n",
        "    \"\"\"\n",
        "    make top n movie recommendations\n",
        "    Parameters\n",
        "    ----------\n",
        "    fav_movie: str, name of user input movie\n",
        "    n_recommendations: int, top n recommendations\n",
        "    \"\"\"\n",
        "    # get data\n",
        "    movie_user_mat_sparse, hashmap = self._prep_data()\n",
        "    # get recommendations\n",
        "    raw_recommends = self._inference(\n",
        "        self.model, movie_user_mat_sparse, hashmap,\n",
        "        fav_pro, n_recommendations)\n",
        "    # print results\n",
        "    reverse_hashmap = {v: k for k, v in hashmap.items()}\n",
        "    print('Recommendations for {}:'.format(fav_pro))\n",
        "    for i, (idx, dist) in enumerate(raw_recommends):\n",
        "        print('{0}: {1}, with distance '\n",
        "              'of {2}'.format(i+1, reverse_hashmap[idx], dist))"
      ],
      "metadata": {
        "id": "BA5xIFpUWs2q"
      },
      "execution_count": null,
      "outputs": []
    },
    {
      "cell_type": "code",
      "source": [
        "model_knn = NearestNeighbors(metric='cosine', algorithm='brute', n_neighbors=20, n_jobs=-1)\n",
        "# fit\n",
        "model_knn.fit(mat_movie_features)\n"
      ],
      "metadata": {
        "id": "BXdsvsb-Y95l"
      },
      "execution_count": null,
      "outputs": []
    },
    {
      "cell_type": "code",
      "source": [
        "!pip install fuzzywuzzy"
      ],
      "metadata": {
        "id": "HJpY_xXUZuwR"
      },
      "execution_count": null,
      "outputs": []
    },
    {
      "cell_type": "code",
      "source": [
        "# utils import\n",
        "from fuzzywuzzy import fuzz\n",
        "\n",
        "def fuzzy_matching(mapper, fav_movie, verbose=True):\n",
        "    \"\"\"\n",
        "    return the closest match via fuzzy ratio. If no match found, return None\n",
        "    \n",
        "    Parameters\n",
        "    ----------    \n",
        "    mapper: dict, map movie title name to index of the movie in data\n",
        "\n",
        "    fav_movie: str, name of user input movie\n",
        "    \n",
        "    verbose: bool, print log if True\n",
        "\n",
        "    Return\n",
        "    ------\n",
        "    index of the closest match\n",
        "    \"\"\"\n",
        "    match_tuple = []\n",
        "    # get match\n",
        "    for title, idx in mapper.items():\n",
        "        ratio = fuzz.ratio(title.lower(), fav_movie.lower())\n",
        "        if ratio >= 60:\n",
        "            match_tuple.append((title, idx, ratio))\n",
        "    # sort\n",
        "    match_tuple = sorted(match_tuple, key=lambda x: x[2])[::-1]\n",
        "    if not match_tuple:\n",
        "        print('Oops! No match is found')\n",
        "        return\n",
        "    if verbose:\n",
        "        print('Found possible matches in our database: {0}\\n'.format([x[0] for x in match_tuple]))\n",
        "    return match_tuple[0][1]\n",
        "\n",
        "\n",
        "\n",
        "def make_recommendation(model_knn, data, mapper, fav_movie, n_recommendations):\n",
        "    \"\"\"\n",
        "    return top n similar movie recommendations based on user's input movie\n",
        "\n",
        "\n",
        "    Parameters\n",
        "    ----------\n",
        "    model_knn: sklearn model, knn model\n",
        "\n",
        "    data: movie-user matrix\n",
        "\n",
        "    mapper: dict, map movie title name to index of the movie in data\n",
        "\n",
        "    fav_movie: str, name of user input movie\n",
        "\n",
        "    n_recommendations: int, top n recommendations\n",
        "\n",
        "    Return\n",
        "    ------\n",
        "    list of top n similar movie recommendations\n",
        "    \"\"\"\n",
        "    # fit\n",
        "    model_knn.fit(data)\n",
        "    # get input movie index\n",
        "    print('You have input movie:', fav_movie)\n",
        "    idx = fuzzy_matching(mapper, fav_movie, verbose=True)\n",
        "    # inference\n",
        "    print('Recommendation system start to make inference')\n",
        "    print('......\\n')\n",
        "    distances, indices = model_knn.kneighbors(data[idx], n_neighbors=n_recommendations+1)\n",
        "    # get list of raw idx of recommendations\n",
        "    raw_recommends = \\\n",
        "        sorted(list(zip(indices.squeeze().tolist(), distances.squeeze().tolist())), key=lambda x: x[1])[:0:-1]\n",
        "    # get reverse mapper\n",
        "    reverse_mapper = {v: k for k, v in mapper.items()}\n",
        "    # print recommendations\n",
        "    print('Recommendations for {}:'.format(fav_movie))\n",
        "    for i, (idx, dist) in enumerate(raw_recommends):\n",
        "        print('{0}: {1}, with distance of {2}'.format(i+1, reverse_mapper[idx], dist))"
      ],
      "metadata": {
        "id": "hWhxgeEgZKwK"
      },
      "execution_count": null,
      "outputs": []
    },
    {
      "cell_type": "code",
      "source": [
        "my_favorite = 'Iron Man'\n",
        "\n",
        "make_recommendation(\n",
        "    model_knn=model_knn,\n",
        "    data=reviews_df,\n",
        "    fav_movie=my_favorite,\n",
        "    mapper=reviews_df,\n",
        "    n_recommendations=10)"
      ],
      "metadata": {
        "id": "-W6ncuB1aH0a"
      },
      "execution_count": null,
      "outputs": []
    }
  ]
}